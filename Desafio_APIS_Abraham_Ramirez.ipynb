{
 "cells": [
  {
   "cell_type": "markdown",
   "metadata": {},
   "source": [
    "### Actividad con API's"
   ]
  },
  {
   "cell_type": "code",
   "execution_count": 1,
   "metadata": {},
   "outputs": [],
   "source": [
    "import pandas as pd\n",
    "import numpy as np\n",
    "import os\n",
    "import warnings\n",
    "import datetime as dt\n",
    "import requests\n",
    "\n",
    "warnings.filterwarnings(\"ignore\")"
   ]
  },
  {
   "cell_type": "markdown",
   "metadata": {},
   "source": [
    "### ABSTRACT:\n",
    "\n",
    "Se trabaja este desafío con dos APIs:\n",
    "\n",
    "1. APIs Públicas (API para el cálculo de tipo de cambio y otra para la obtención de crímenes cometidos en el Reino Unido)\n",
    "2. Adobe Analytics API\n",
    "\n",
    "A continuación se mostrará el desarrollo del desafío."
   ]
  },
  {
   "cell_type": "markdown",
   "metadata": {},
   "source": [
    "### Consulta de API's Públicas\n",
    "\n",
    "En los siguientes dos ejercicio, harémos la consulta de las siguientes APIs:\n",
    "\n",
    "1. Consulta del tipo de cambio para una moneda particular.\n",
    "2. Consulta de información de crímenes para una zona geolocalizada en el reino Unido."
   ]
  },
  {
   "cell_type": "markdown",
   "metadata": {},
   "source": [
    "1. **API para la consulta del tipo de cambio de diferentes tipos de monedas**"
   ]
  },
  {
   "cell_type": "markdown",
   "metadata": {},
   "source": [
    "Con la siguiente llamada podemos saber cuales son todas la monedas para las cuales podemos consultar su tipo de cambio. \n"
   ]
  },
  {
   "cell_type": "code",
   "execution_count": 2,
   "metadata": {},
   "outputs": [
    {
     "name": "stdout",
     "output_type": "stream",
     "text": [
      "['SGD', 'MYR', 'EUR', 'USD', 'AUD', 'JPY', 'CNH', 'HKD', 'CAD', 'INR', 'DKK', 'GBP', 'RUB', 'NZD', 'MXN', 'IDR', 'TWD', 'THB', 'VND']\n"
     ]
    }
   ],
   "source": [
    "#Definimos la URL mediante la cual usaremos requests.\n",
    "url = \"https://currency-exchange.p.rapidapi.com/listquotes\"\n",
    "\n",
    "headers = {\n",
    "\t\"X-RapidAPI-Key\": \"7f0e652b86mshb66750b39b0df5ap1aad76jsnf13f490efee5\",\n",
    "\t\"X-RapidAPI-Host\": \"currency-exchange.p.rapidapi.com\"\n",
    "}\n",
    "\n",
    "response = requests.get(url, headers=headers)\n",
    "\n",
    "print(response.json())"
   ]
  },
  {
   "cell_type": "markdown",
   "metadata": {},
   "source": [
    "Vemos que disponemos de información de diferentes tipos de monedas. En este ejercicio usarémos las monedas de \"MXN\" (Peso Mexicano) y \"USD\" (Dólares)"
   ]
  },
  {
   "cell_type": "code",
   "execution_count": 3,
   "metadata": {},
   "outputs": [
    {
     "name": "stdout",
     "output_type": "stream",
     "text": [
      "17.078500000000002\n"
     ]
    }
   ],
   "source": [
    "#Obtención del tipo de cambio de Dolares (USD) a Pesos Mexicanos (MXN). \n",
    "url = \"https://currency-exchange.p.rapidapi.com/exchange\"\n",
    "\n",
    "#En este caso, queremos determinar cuando equivale un Dolar a pesos Mexicanos.\n",
    "querystring = {\"from\":\"USD\",\"to\":\"MXN\",\"q\":\"1.0\"}\n",
    "# En este caso, tenemos qu eusar los parámetros de from (moneda a convertir), to (moneda de converisón de destino) y q (cantidad a convertir)\n",
    "\n",
    "headers = {\n",
    "\t\"X-RapidAPI-Key\": \"7f0e652b86mshb66750b39b0df5ap1aad76jsnf13f490efee5\",\n",
    "\t\"X-RapidAPI-Host\": \"currency-exchange.p.rapidapi.com\"\n",
    "}\n",
    "\n",
    "response = requests.get(url, headers=headers, params=querystring)\n",
    "\n",
    "print(response.json())"
   ]
  },
  {
   "cell_type": "markdown",
   "metadata": {},
   "source": [
    "Así, vemos que un dolar (USD) equivale a 17.1 pesos mexicanos (MXN) "
   ]
  },
  {
   "cell_type": "markdown",
   "metadata": {},
   "source": [
    "2. **API para la extracción de crímenes cometido en el Reino Unido**\n",
    "\n",
    "En la siguiente API harémos una extracción de los principales crímenes cometidos en una localización particular del país de UK y harémos una pequeña exploración visual de las diferentes variables de interés.\n",
    "\n",
    "Ésta API no requiere autenticación alguna por lo que el query se contruye directamente desde la URL y no requiere parámetros adicionales."
   ]
  },
  {
   "cell_type": "markdown",
   "metadata": {},
   "source": [
    "Para este ejemplo, **se extrae la información de las diferentes fuerzas policiacas en función de su localización geográfica en el reino unido.**"
   ]
  },
  {
   "cell_type": "code",
   "execution_count": 8,
   "metadata": {},
   "outputs": [
    {
     "name": "stdout",
     "output_type": "stream",
     "text": [
      "[{\"id\":\"avon-and-somerset\",\"name\":\"Avon and Somerset Constabulary\"},{\"id\":\"bedfordshire\",\"name\":\"Bedfordshire Police\"},{\"id\":\"cambridgeshire\",\"name\":\"Cambridgeshire Constabulary\"},{\"id\":\"cheshire\",\"name\":\"Cheshire Constabulary\"},{\"id\":\"city-of-london\",\"name\":\"City of London Police\"},{\"id\":\"cleveland\",\"name\":\"Cleveland Police\"},{\"id\":\"cumbria\",\"name\":\"Cumbria Constabulary\"},{\"id\":\"derbyshire\",\"name\":\"Derbyshire Constabulary\"},{\"id\":\"devon-and-cornwall\",\"name\":\"Devon & Cornwall Police\"},{\"id\":\"dorset\",\"name\":\"Dorset Police\"},{\"id\":\"durham\",\"name\":\"Durham Constabulary\"},{\"id\":\"dyfed-powys\",\"name\":\"Dyfed-Powys Police\"},{\"id\":\"essex\",\"name\":\"Essex Police\"},{\"id\":\"gloucestershire\",\"name\":\"Gloucestershire Constabulary\"},{\"id\":\"greater-manchester\",\"name\":\"Greater Manchester Police\"},{\"id\":\"gwent\",\"name\":\"Gwent Police\"},{\"id\":\"hampshire\",\"name\":\"Hampshire Constabulary\"},{\"id\":\"hertfordshire\",\"name\":\"Hertfordshire Constabulary\"},{\"id\":\"humberside\",\"name\":\"Humberside Police\"},{\"id\":\"kent\",\"name\":\"Kent Police\"},{\"id\":\"lancashire\",\"name\":\"Lancashire Constabulary\"},{\"id\":\"leicestershire\",\"name\":\"Leicestershire Police\"},{\"id\":\"lincolnshire\",\"name\":\"Lincolnshire Police\"},{\"id\":\"merseyside\",\"name\":\"Merseyside Police\"},{\"id\":\"metropolitan\",\"name\":\"Metropolitan Police Service\"},{\"id\":\"norfolk\",\"name\":\"Norfolk Constabulary\"},{\"id\":\"north-wales\",\"name\":\"North Wales Police\"},{\"id\":\"north-yorkshire\",\"name\":\"North Yorkshire Police\"},{\"id\":\"northamptonshire\",\"name\":\"Northamptonshire Police\"},{\"id\":\"northumbria\",\"name\":\"Northumbria Police\"},{\"id\":\"nottinghamshire\",\"name\":\"Nottinghamshire Police\"},{\"id\":\"northern-ireland\",\"name\":\"Police Service of Northern Ireland\"},{\"id\":\"south-wales\",\"name\":\"South Wales Police\"},{\"id\":\"south-yorkshire\",\"name\":\"South Yorkshire Police\"},{\"id\":\"staffordshire\",\"name\":\"Staffordshire Police\"},{\"id\":\"suffolk\",\"name\":\"Suffolk Constabulary\"},{\"id\":\"surrey\",\"name\":\"Surrey Police\"},{\"id\":\"sussex\",\"name\":\"Sussex Police\"},{\"id\":\"thames-valley\",\"name\":\"Thames Valley Police\"},{\"id\":\"warwickshire\",\"name\":\"Warwickshire Police\"},{\"id\":\"west-mercia\",\"name\":\"West Mercia Police\"},{\"id\":\"west-midlands\",\"name\":\"West Midlands Police\"},{\"id\":\"west-yorkshire\",\"name\":\"West Yorkshire Police\"},{\"id\":\"wiltshire\",\"name\":\"Wiltshire Police\"}]\n"
     ]
    }
   ],
   "source": [
    "import json\n",
    "url = \"https://data.police.uk/api/forces\"\n",
    "\n",
    "response = requests.get(url)\n",
    "\n",
    "print(response.text) #Imprimimos mediante un string como se visualiza la salida de la respuesta de la API. "
   ]
  },
  {
   "cell_type": "code",
   "execution_count": 6,
   "metadata": {},
   "outputs": [
    {
     "data": {
      "text/plain": [
       "[{'id': 'bedfordshire', 'name': 'Bedfordshire Police'},\n",
       " {'id': 'cambridgeshire', 'name': 'Cambridgeshire Constabulary'},\n",
       " {'id': 'cheshire', 'name': 'Cheshire Constabulary'},\n",
       " {'id': 'city-of-london', 'name': 'City of London Police'},\n",
       " {'id': 'cleveland', 'name': 'Cleveland Police'},\n",
       " {'id': 'cumbria', 'name': 'Cumbria Constabulary'},\n",
       " {'id': 'derbyshire', 'name': 'Derbyshire Constabulary'},\n",
       " {'id': 'devon-and-cornwall', 'name': 'Devon & Cornwall Police'},\n",
       " {'id': 'dorset', 'name': 'Dorset Police'}]"
      ]
     },
     "execution_count": 6,
     "metadata": {},
     "output_type": "execute_result"
    }
   ],
   "source": [
    "#Cargamos el texto del reponse a un tipo de formato JSON.\n",
    "jsondata = json.loads(response.text)\n",
    "jsondata[1:10]\n"
   ]
  },
  {
   "cell_type": "code",
   "execution_count": 29,
   "metadata": {},
   "outputs": [
    {
     "data": {
      "text/html": [
       "<div>\n",
       "<style scoped>\n",
       "    .dataframe tbody tr th:only-of-type {\n",
       "        vertical-align: middle;\n",
       "    }\n",
       "\n",
       "    .dataframe tbody tr th {\n",
       "        vertical-align: top;\n",
       "    }\n",
       "\n",
       "    .dataframe thead th {\n",
       "        text-align: right;\n",
       "    }\n",
       "</style>\n",
       "<table border=\"1\" class=\"dataframe\">\n",
       "  <thead>\n",
       "    <tr style=\"text-align: right;\">\n",
       "      <th></th>\n",
       "      <th>id</th>\n",
       "      <th>name</th>\n",
       "    </tr>\n",
       "  </thead>\n",
       "  <tbody>\n",
       "    <tr>\n",
       "      <th>0</th>\n",
       "      <td>avon-and-somerset</td>\n",
       "      <td>Avon and Somerset Constabulary</td>\n",
       "    </tr>\n",
       "    <tr>\n",
       "      <th>1</th>\n",
       "      <td>bedfordshire</td>\n",
       "      <td>Bedfordshire Police</td>\n",
       "    </tr>\n",
       "    <tr>\n",
       "      <th>2</th>\n",
       "      <td>cambridgeshire</td>\n",
       "      <td>Cambridgeshire Constabulary</td>\n",
       "    </tr>\n",
       "    <tr>\n",
       "      <th>3</th>\n",
       "      <td>cheshire</td>\n",
       "      <td>Cheshire Constabulary</td>\n",
       "    </tr>\n",
       "    <tr>\n",
       "      <th>4</th>\n",
       "      <td>city-of-london</td>\n",
       "      <td>City of London Police</td>\n",
       "    </tr>\n",
       "  </tbody>\n",
       "</table>\n",
       "</div>"
      ],
      "text/plain": [
       "                  id                            name\n",
       "0  avon-and-somerset  Avon and Somerset Constabulary\n",
       "1       bedfordshire             Bedfordshire Police\n",
       "2     cambridgeshire     Cambridgeshire Constabulary\n",
       "3           cheshire           Cheshire Constabulary\n",
       "4     city-of-london           City of London Police"
      ]
     },
     "execution_count": 29,
     "metadata": {},
     "output_type": "execute_result"
    }
   ],
   "source": [
    "#Transformamos nuestro JSON a un datafrmae\n",
    "df = pd.DataFrame.from_dict(jsondata)\n",
    "df.head() #Imrpmie solo 5 registros para tener un oveweview general."
   ]
  },
  {
   "cell_type": "markdown",
   "metadata": {},
   "source": [
    "En el siguiente **ejemplo se extrae la  información a nivel calle de los crímenes cometidos dada una Latitud y Longitud particular en el último mes dentro del país de UK.**"
   ]
  },
  {
   "cell_type": "code",
   "execution_count": 12,
   "metadata": {},
   "outputs": [
    {
     "name": "stdout",
     "output_type": "stream",
     "text": [
      "{\"category\":\"anti-social-behaviour\",\"location_type\":\"Force\",\"location\":{\"latitude\":\"52.633938\",\"street\":{\"id\":1737254,\"name\":\"On or near King Richards Road\"},\"longitude\":\"-1.152162\"},\"context\":\"\",\"outcome_status\":null,\"persistent_id\":\"\",\"id\":111328869,\"location_subtype\":\"\",\"month\":\"2023-06\"},{\"category\":\"anti-social-behaviour\",\"location_type\":\"Force\",\"location\":{\"latitude\":\"52.637041\",\"street\":{\"id\":1738379,\"name\":\"On or near Parking Area\"},\"longitude\":\"-1.131222\"},\"context\":\"\",\"outcome_status\"\n"
     ]
    }
   ],
   "source": [
    "#Parámetros: \n",
    "# all-crime: estarémos extrayendo todos los críemenes cometidos para todas las categorías\n",
    "# lat: Latitud donde se realizó algún crímen particular.\n",
    "# lng: Longitud donde se realizó un crimen particular\n",
    "# date : fecha de reporte de un crímen\n",
    "\n",
    "url = \"https://data.police.uk/api/crimes-street/all-crime?lat=52.629729&lng=-1.131592\"\n",
    "\n",
    "response = requests.get(url)\n",
    "json_data = json.loads(response.text)\n",
    "print(response.text[1:500]) #Imprime la respuesta de la solicitud al endpoint.(Solo iprimirémos un par de ejemplos de como luce la información)"
   ]
  },
  {
   "cell_type": "code",
   "execution_count": 40,
   "metadata": {},
   "outputs": [
    {
     "data": {
      "text/html": [
       "<div>\n",
       "<style scoped>\n",
       "    .dataframe tbody tr th:only-of-type {\n",
       "        vertical-align: middle;\n",
       "    }\n",
       "\n",
       "    .dataframe tbody tr th {\n",
       "        vertical-align: top;\n",
       "    }\n",
       "\n",
       "    .dataframe thead th {\n",
       "        text-align: right;\n",
       "    }\n",
       "</style>\n",
       "<table border=\"1\" class=\"dataframe\">\n",
       "  <thead>\n",
       "    <tr style=\"text-align: right;\">\n",
       "      <th></th>\n",
       "      <th>category</th>\n",
       "      <th>location_type</th>\n",
       "      <th>location</th>\n",
       "      <th>context</th>\n",
       "      <th>outcome_status</th>\n",
       "      <th>persistent_id</th>\n",
       "      <th>id</th>\n",
       "      <th>location_subtype</th>\n",
       "      <th>month</th>\n",
       "    </tr>\n",
       "  </thead>\n",
       "  <tbody>\n",
       "    <tr>\n",
       "      <th>0</th>\n",
       "      <td>anti-social-behaviour</td>\n",
       "      <td>Force</td>\n",
       "      <td>{'latitude': '52.633938', 'street': {'id': 173...</td>\n",
       "      <td></td>\n",
       "      <td>None</td>\n",
       "      <td></td>\n",
       "      <td>111328869</td>\n",
       "      <td></td>\n",
       "      <td>2023-06</td>\n",
       "    </tr>\n",
       "    <tr>\n",
       "      <th>1</th>\n",
       "      <td>anti-social-behaviour</td>\n",
       "      <td>Force</td>\n",
       "      <td>{'latitude': '52.637041', 'street': {'id': 173...</td>\n",
       "      <td></td>\n",
       "      <td>None</td>\n",
       "      <td></td>\n",
       "      <td>111328861</td>\n",
       "      <td></td>\n",
       "      <td>2023-06</td>\n",
       "    </tr>\n",
       "    <tr>\n",
       "      <th>2</th>\n",
       "      <td>anti-social-behaviour</td>\n",
       "      <td>Force</td>\n",
       "      <td>{'latitude': '52.625255', 'street': {'id': 173...</td>\n",
       "      <td></td>\n",
       "      <td>None</td>\n",
       "      <td></td>\n",
       "      <td>111328856</td>\n",
       "      <td></td>\n",
       "      <td>2023-06</td>\n",
       "    </tr>\n",
       "    <tr>\n",
       "      <th>3</th>\n",
       "      <td>anti-social-behaviour</td>\n",
       "      <td>Force</td>\n",
       "      <td>{'latitude': '52.629337', 'street': {'id': 173...</td>\n",
       "      <td></td>\n",
       "      <td>None</td>\n",
       "      <td></td>\n",
       "      <td>111328839</td>\n",
       "      <td></td>\n",
       "      <td>2023-06</td>\n",
       "    </tr>\n",
       "    <tr>\n",
       "      <th>4</th>\n",
       "      <td>anti-social-behaviour</td>\n",
       "      <td>Force</td>\n",
       "      <td>{'latitude': '52.633897', 'street': {'id': 173...</td>\n",
       "      <td></td>\n",
       "      <td>None</td>\n",
       "      <td></td>\n",
       "      <td>111329082</td>\n",
       "      <td></td>\n",
       "      <td>2023-06</td>\n",
       "    </tr>\n",
       "    <tr>\n",
       "      <th>...</th>\n",
       "      <td>...</td>\n",
       "      <td>...</td>\n",
       "      <td>...</td>\n",
       "      <td>...</td>\n",
       "      <td>...</td>\n",
       "      <td>...</td>\n",
       "      <td>...</td>\n",
       "      <td>...</td>\n",
       "      <td>...</td>\n",
       "    </tr>\n",
       "    <tr>\n",
       "      <th>1507</th>\n",
       "      <td>other-crime</td>\n",
       "      <td>Force</td>\n",
       "      <td>{'latitude': '52.634136', 'street': {'id': 173...</td>\n",
       "      <td></td>\n",
       "      <td>{'category': 'Awaiting court outcome', 'date':...</td>\n",
       "      <td>d25064f58076da42da781e577566796a414e291cba1e4c...</td>\n",
       "      <td>111321670</td>\n",
       "      <td></td>\n",
       "      <td>2023-06</td>\n",
       "    </tr>\n",
       "    <tr>\n",
       "      <th>1508</th>\n",
       "      <td>other-crime</td>\n",
       "      <td>Force</td>\n",
       "      <td>{'latitude': '52.637627', 'street': {'id': 173...</td>\n",
       "      <td></td>\n",
       "      <td>{'category': 'Under investigation', 'date': '2...</td>\n",
       "      <td>ce0854b10691e6cc7ad657334c4716618e7b4757c52f0d...</td>\n",
       "      <td>111319787</td>\n",
       "      <td></td>\n",
       "      <td>2023-06</td>\n",
       "    </tr>\n",
       "    <tr>\n",
       "      <th>1509</th>\n",
       "      <td>other-crime</td>\n",
       "      <td>BTP</td>\n",
       "      <td>{'latitude': '52.629997', 'street': {'id': 234...</td>\n",
       "      <td></td>\n",
       "      <td>{'category': 'Under investigation', 'date': '2...</td>\n",
       "      <td></td>\n",
       "      <td>111421745</td>\n",
       "      <td>STATION</td>\n",
       "      <td>2023-06</td>\n",
       "    </tr>\n",
       "    <tr>\n",
       "      <th>1510</th>\n",
       "      <td>other-crime</td>\n",
       "      <td>Force</td>\n",
       "      <td>{'latitude': '52.636557', 'street': {'id': 173...</td>\n",
       "      <td></td>\n",
       "      <td>{'category': 'Under investigation', 'date': '2...</td>\n",
       "      <td>5ea2c9457a2ed78ce4235af219751c8afdea0b50eb149b...</td>\n",
       "      <td>111328306</td>\n",
       "      <td></td>\n",
       "      <td>2023-06</td>\n",
       "    </tr>\n",
       "    <tr>\n",
       "      <th>1511</th>\n",
       "      <td>other-crime</td>\n",
       "      <td>Force</td>\n",
       "      <td>{'latitude': '52.637146', 'street': {'id': 173...</td>\n",
       "      <td></td>\n",
       "      <td>{'category': 'Under investigation', 'date': '2...</td>\n",
       "      <td>b08186153880fb1a5747a267a0b04db27d0efe622607b6...</td>\n",
       "      <td>111327636</td>\n",
       "      <td></td>\n",
       "      <td>2023-06</td>\n",
       "    </tr>\n",
       "  </tbody>\n",
       "</table>\n",
       "<p>1512 rows × 9 columns</p>\n",
       "</div>"
      ],
      "text/plain": [
       "                   category location_type  \\\n",
       "0     anti-social-behaviour         Force   \n",
       "1     anti-social-behaviour         Force   \n",
       "2     anti-social-behaviour         Force   \n",
       "3     anti-social-behaviour         Force   \n",
       "4     anti-social-behaviour         Force   \n",
       "...                     ...           ...   \n",
       "1507            other-crime         Force   \n",
       "1508            other-crime         Force   \n",
       "1509            other-crime           BTP   \n",
       "1510            other-crime         Force   \n",
       "1511            other-crime         Force   \n",
       "\n",
       "                                               location context  \\\n",
       "0     {'latitude': '52.633938', 'street': {'id': 173...           \n",
       "1     {'latitude': '52.637041', 'street': {'id': 173...           \n",
       "2     {'latitude': '52.625255', 'street': {'id': 173...           \n",
       "3     {'latitude': '52.629337', 'street': {'id': 173...           \n",
       "4     {'latitude': '52.633897', 'street': {'id': 173...           \n",
       "...                                                 ...     ...   \n",
       "1507  {'latitude': '52.634136', 'street': {'id': 173...           \n",
       "1508  {'latitude': '52.637627', 'street': {'id': 173...           \n",
       "1509  {'latitude': '52.629997', 'street': {'id': 234...           \n",
       "1510  {'latitude': '52.636557', 'street': {'id': 173...           \n",
       "1511  {'latitude': '52.637146', 'street': {'id': 173...           \n",
       "\n",
       "                                         outcome_status  \\\n",
       "0                                                  None   \n",
       "1                                                  None   \n",
       "2                                                  None   \n",
       "3                                                  None   \n",
       "4                                                  None   \n",
       "...                                                 ...   \n",
       "1507  {'category': 'Awaiting court outcome', 'date':...   \n",
       "1508  {'category': 'Under investigation', 'date': '2...   \n",
       "1509  {'category': 'Under investigation', 'date': '2...   \n",
       "1510  {'category': 'Under investigation', 'date': '2...   \n",
       "1511  {'category': 'Under investigation', 'date': '2...   \n",
       "\n",
       "                                          persistent_id         id  \\\n",
       "0                                                        111328869   \n",
       "1                                                        111328861   \n",
       "2                                                        111328856   \n",
       "3                                                        111328839   \n",
       "4                                                        111329082   \n",
       "...                                                 ...        ...   \n",
       "1507  d25064f58076da42da781e577566796a414e291cba1e4c...  111321670   \n",
       "1508  ce0854b10691e6cc7ad657334c4716618e7b4757c52f0d...  111319787   \n",
       "1509                                                     111421745   \n",
       "1510  5ea2c9457a2ed78ce4235af219751c8afdea0b50eb149b...  111328306   \n",
       "1511  b08186153880fb1a5747a267a0b04db27d0efe622607b6...  111327636   \n",
       "\n",
       "     location_subtype    month  \n",
       "0                      2023-06  \n",
       "1                      2023-06  \n",
       "2                      2023-06  \n",
       "3                      2023-06  \n",
       "4                      2023-06  \n",
       "...               ...      ...  \n",
       "1507                   2023-06  \n",
       "1508                   2023-06  \n",
       "1509          STATION  2023-06  \n",
       "1510                   2023-06  \n",
       "1511                   2023-06  \n",
       "\n",
       "[1512 rows x 9 columns]"
      ]
     },
     "execution_count": 40,
     "metadata": {},
     "output_type": "execute_result"
    }
   ],
   "source": [
    "#Transforma el JSON type a un DataFrame\n",
    "df = pd.DataFrame.from_dict(json_data)\n",
    "df\n"
   ]
  },
  {
   "cell_type": "code",
   "execution_count": 41,
   "metadata": {},
   "outputs": [
    {
     "name": "stdout",
     "output_type": "stream",
     "text": [
      "<class 'pandas.core.frame.DataFrame'>\n",
      "RangeIndex: 1512 entries, 0 to 1511\n",
      "Data columns (total 9 columns):\n",
      " #   Column            Non-Null Count  Dtype \n",
      "---  ------            --------------  ----- \n",
      " 0   category          1512 non-null   object\n",
      " 1   location_type     1512 non-null   object\n",
      " 2   location          1512 non-null   object\n",
      " 3   context           1512 non-null   object\n",
      " 4   outcome_status    1401 non-null   object\n",
      " 5   persistent_id     1512 non-null   object\n",
      " 6   id                1512 non-null   int64 \n",
      " 7   location_subtype  1512 non-null   object\n",
      " 8   month             1512 non-null   object\n",
      "dtypes: int64(1), object(8)\n",
      "memory usage: 106.4+ KB\n"
     ]
    }
   ],
   "source": [
    "#Imprimmos la estructura de nuestro DataFrame\n",
    "df.info()"
   ]
  },
  {
   "cell_type": "markdown",
   "metadata": {},
   "source": [
    "**Data visualization**\n",
    "\n",
    "A continuación, hacemos un gráfico sencillo sobre como se visualiza la información de los crímenes por categoría de crímen"
   ]
  },
  {
   "cell_type": "markdown",
   "metadata": {},
   "source": [
    "***Crímenes por tipo de categoría***"
   ]
  },
  {
   "cell_type": "code",
   "execution_count": 50,
   "metadata": {},
   "outputs": [
    {
     "data": {
      "text/plain": [
       "[Text(0, 0, 'anti-social-behaviour'),\n",
       " Text(1, 0, 'public-order'),\n",
       " Text(2, 0, 'other-crime'),\n",
       " Text(3, 0, 'drugs'),\n",
       " Text(4, 0, 'other-theft'),\n",
       " Text(5, 0, 'robbery'),\n",
       " Text(6, 0, 'possession-of-weapons'),\n",
       " Text(7, 0, 'theft-from-the-person'),\n",
       " Text(8, 0, 'bicycle-theft'),\n",
       " Text(9, 0, 'vehicle-crime'),\n",
       " Text(10, 0, 'burglary'),\n",
       " Text(11, 0, 'criminal-damage-arson'),\n",
       " Text(12, 0, 'shoplifting'),\n",
       " Text(13, 0, 'violent-crime')]"
      ]
     },
     "execution_count": 50,
     "metadata": {},
     "output_type": "execute_result"
    },
    {
     "data": {
      "image/png": "[encoded data removed]",
      "text/plain": [
       "<Figure size 1008x360 with 1 Axes>"
      ]
     },
     "metadata": {
      "needs_background": "light"
     },
     "output_type": "display_data"
    }
   ],
   "source": [
    "import seaborn as sns\n",
    "import matplotlib.pyplot as plt\n",
    "\n",
    "df_crimes = df.groupby(by = [\"category\",\"location_type\"]).agg({'persistent_id': lambda x: x.nunique(dropna=True)}).reset_index()\n",
    "df_crimes.sort_values(by = \"persistent_id\", inplace=True)\n",
    "\n",
    "fig, x = plt.subplots(figsize = (14,5))\n",
    "k = sns.barplot(data= df_crimes, x = \"category\", y = \"persistent_id\", hue = 'location_type', ax = x)\n",
    "k.set_title(\"Crímenes por tipo de categoría\")\n",
    "k.set_xticklabels(k.get_xticklabels(), rotation = 45)"
   ]
  },
  {
   "cell_type": "markdown",
   "metadata": {},
   "source": [
    "Cómo se observa en el gráfico anterior, las siguientes categorías de crímenes ocupan el top 3 de incidencias:\n",
    "\n",
    "1. Violent-crime\n",
    "2. Anti social behaviour\n",
    "3. Ohter theft\n",
    "\n",
    "A continuación, harémos un último gráfico para delimitar la información de la categoría \"violnet-crime\" por el estatus correspondiente legal."
   ]
  },
  {
   "cell_type": "markdown",
   "metadata": {},
   "source": [
    "***Situación legal de los casos reportados reportados para los crímenes tipificados como \"Violent-crime\"***"
   ]
  },
  {
   "cell_type": "code",
   "execution_count": 74,
   "metadata": {},
   "outputs": [
    {
     "data": {
      "text/plain": [
       "[Text(0, 0, 'Under investigation'),\n",
       " Text(1, 0, 'Unable to prosecute suspect'),\n",
       " Text(2, 0, 'Investigation complete; no suspect identified'),\n",
       " Text(3, 0, 'Awaiting court outcome'),\n",
       " Text(4, 0, 'Formal action is not in the public interest'),\n",
       " Text(5, 0, 'Local resolution'),\n",
       " Text(6, 0, 'Further action is not in the public interest'),\n",
       " Text(7, 0, 'Action to be taken by another organisation'),\n",
       " Text(8, 0, 'Further investigation is not in the public interest')]"
      ]
     },
     "execution_count": 74,
     "metadata": {},
     "output_type": "execute_result"
    },
    {
     "data": {
      "image/png": "[encoded data removed]",
      "text/plain": [
       "<Figure size 1008x360 with 1 Axes>"
      ]
     },
     "metadata": {
      "needs_background": "light"
     },
     "output_type": "display_data"
    }
   ],
   "source": [
    "df.loc[:,\"new_status\"] = df[\"outcome_status\"].fillna(\"No status available\").map(lambda x: x[\"category\"] if x != \"No status available\" else x)\n",
    "\n",
    "df_crimes = df[df[\"category\"] == \"violent-crime\"].groupby(by = [\"category\",\"new_status\"]).agg({'persistent_id': lambda x: x.nunique(dropna=True)}).reset_index()\n",
    "df_crimes.sort_values(by = \"persistent_id\", inplace=True, ascending = False)\n",
    "\n",
    "fig, x = plt.subplots(figsize = (14,5))\n",
    "k = sns.barplot(data= df_crimes, x = \"new_status\", y = \"persistent_id\", ax = x)\n",
    "k.set_title(\"Estatus de crímenes por 'Violent crime'\")\n",
    "k.set_xticklabels(k.get_xticklabels(), rotation = 90)"
   ]
  },
  {
   "cell_type": "markdown",
   "metadata": {},
   "source": [
    "De esta manera, se observa que gran parte de los casos reportados se encuentran \"Bajo investigación\", esto es, existe una investigación en curso al respecto sobre el crímen cometido. Dicho reason acapara más del 60% de los casos y sería comprénsible dado que son casos recientes abiertors o reportados.\n",
    "\n",
    "Un dato interesante es el segundo reason con poco más de 100 casos: \"Unable to prosecute suspect\", el cual, indicaría que el juez no puede proceder con alguna condena de cara a que no existe suficiente evidencia."
   ]
  },
  {
   "cell_type": "markdown",
   "metadata": {},
   "source": [
    "### Adobe Analytics API\n",
    "\n",
    "En el siguiente ejemplo, harémos uso de un script interno de la compañía que nos permite extraer diferentes indicadores de performance digital sobre las URLs de un sitio de ecommerce. \n",
    "\n",
    "El proceso se realizó a través de KEYs privadas y autenticación JWT que se provee por parte del equipo de soporte de Adobe."
   ]
  },
  {
   "cell_type": "markdown",
   "metadata": {},
   "source": [
    "Adobe Analytics proporciona dos API's:\n",
    "\n",
    "1. DataWarehouse\n",
    "2. Analytics 2.0\n",
    "\n",
    "En este caso utilizaremos la API 2.0 la cual extrae y proveé información con una estructura similar a los reportes disponibilidados por parte de la plataforma. \n",
    "\n",
    "Previamente de cara a este ejercicio, se levantó permisos como desarrollador y se extrajeron todos los parámetros de KEYs y Clients IDs para guardarlos en un archivo de configuración del tipo \"init\" , el cual se irá leyendo conforme el código manda las solicitudes correspondiente a los servers de Adobe para el levantamiento de los accesos. "
   ]
  },
  {
   "cell_type": "code",
   "execution_count": 29,
   "metadata": {},
   "outputs": [],
   "source": [
    "#Adobe Analytics API 2.0 Connection\n",
    "import configparser\n",
    "import logging\n",
    "import datetime as dt\n",
    "import requests\n",
    "import jwt\n",
    "import os \n",
    "import pandas as pd\n",
    "\n",
    "logging.basicConfig(level=\"INFO\")\n",
    "logger = logging.getLogger()\n",
    "os.chdir(\"C:/Users/abrah/Documents/Adobe_Analytics_API\") # Establecemos el path sobre el cual tenemos las credenciales de acceso.\n",
    "\n",
    "rsid = 'rsid_example' # Determinamos el reporte del cual extraeremos la información. \n",
    "global_company_id = 'gid_example' #Establecemos el parámetro sobre el cual extraeremos la información de una cuenta particular de Adobe Analytics.\n",
    "rsid_addon = f'?rsid={rsid}'\n",
    "\n",
    "\n",
    "#El siguiente método codigica una KEY del tipo JWT el cual será intercambiado posteriormente por un \"Access token\"\n",
    "def get_jwt_token(config):\n",
    "    with open(config[\"key_path\"], 'r') as file:\n",
    "        private_key = file.read()\n",
    "    return jwt.encode({\n",
    "        \"exp\": dt.datetime.utcnow() + dt.timedelta(seconds = 30),\n",
    "        \"iss\": config[\"orgid\"],\n",
    "        \"sub\": config[\"technicalaccountid\"],\n",
    "        \"https://{}/s/{}\".format(config[\"imshost\"], config[\"metascopes\"]):True,\n",
    "        \"aud\":\"https://{}/c/{}\".format(config[\"imshost\"], config[\"apikey\"])\n",
    "    }, private_key, algorithm='RS256')\n",
    "\n",
    "#El método inferior utiliza un método post para la resolución \n",
    "def get_access_token(config, jwt_token):\n",
    "    post_body = {\n",
    "        \"client_id\" : config[\"apikey\"],\n",
    "        \"client_secret\" : config[\"secret\"],\n",
    "        \"jwt_token\": jwt_token\n",
    "    }\n",
    "    logger.info(\"Sending 'POST' request to {}\".format(config[\"imsexchange\"]))\n",
    "    logger.info(\"Post body: {}\".format(post_body))\n",
    "    \n",
    "    return  requests.post(config[\"imsexchange\"], data = post_body).json()[\"access_token\"]\n",
    "\n",
    "config_parser = configparser.ConfigParser()\n",
    "config_parser.read(\"config.ini\") \n",
    "config = dict(config_parser[\"default\"])\n",
    "jwt_token = get_jwt_token(config) # Obtenemos el Token JWT para intercambiar por un token de acceso genérico.\n",
    "\n",
    "post_body_jwt_token = {\n",
    "    \"client_id\" : config[\"apikey\"],\n",
    "    \"client_secret\" : config[\"secret\"],\n",
    "    \"jwt_token\": jwt_token\n",
    "}\n",
    "\n",
    "response =  requests.post(config[\"imsexchange\"], data = post_body_jwt_token) # Usamos el método post sobre el endpoint https://ims-na1.adobelogin.com/ims/exchange/jwt\n",
    "access_token = response.json()[\"access_token\"] #Extraemos de la respuesta el token de acceso.\n",
    "\n",
    "################## Definimos el Header que irá dentro de los parámetros de solicitud tipo POST ########################\n",
    "header = {\n",
    "    \"Accept\" : 'application/json',\n",
    "    \"Authorization\" : \"Bearer {}\".format(access_token),\n",
    "    \"x-api-key\" : config[\"apikey\"],\n",
    "    \"x-proxy-global-company-id\" : global_company_id\n",
    "}\n",
    "\n",
    "######### Construimos el Query del reporte #########################\n",
    "base_url = \"{}/{}/\".format(config[\"analyticsapiurl\"],global_company_id)\n",
    "post_report_url = base_url + 'reports' + rsid_addon #El endpoint paa extracción de información es https://analytics.adobe.io/api\n",
    "\n",
    "mets = ['metrics/pageviews','metrics/bouncerate',\"metrics/visits\",\"metrics/bounces\",\"metrics/evar7instances\",\"metrics/event1\",\"metrics/event407\",\"metrics/exits\",\"metrics/pageevents\",\"metrics/visitors\", \n",
    "        \"metrics/carts\"] #Define las métricas a obtener\n",
    "dim = \"variables/evar7\" # Define las dimensiones a extraer del reporte.\n",
    "start_date = \"2023-08-01\" #Fecha de inicio de información. \n",
    "end_date = \"2023-08-04\" #Fecha de fin de información\n",
    "midnight = \"T00:00:00.000\"\n",
    "date_range = start_date + midnight + '/' + end_date + midnight\n",
    "\n",
    "mets_obj = [{'id':x} for x in mets]\n",
    "\n",
    "#Construye el query del reporte en el input que la documentación de Adobe Analytics API solicita.\n",
    "report_body = {\n",
    "    \"rsid\":rsid,\n",
    "    \"globalFilters\":[\n",
    "        {\n",
    "            \"type\":\"dateRange\",\n",
    "            \"dateRange\": date_range\n",
    "        }\n",
    "    ],\n",
    "    \"metricContainer\":{\n",
    "        \"metrics\":mets_obj\n",
    "    },\n",
    "    \"dimension\":dim,\n",
    "    \"settings\":{\n",
    "    \"dimensionSort\":\"asc\",\n",
    "    \"limit\":50\n",
    "    }\n",
    "}\n",
    "\n",
    "response = requests.post(url = post_report_url, headers=header, json = report_body)\n"
   ]
  },
  {
   "cell_type": "markdown",
   "metadata": {},
   "source": [
    "Imprimimos la respuesta de la solicitud hecha a los server de Adobe Analytics donde se visualizará la información a nivel URL de los diferentes métricas solicitidas. Ésto, primero en un JSON type."
   ]
  },
  {
   "cell_type": "code",
   "execution_count": 28,
   "metadata": {},
   "outputs": [
    {
     "name": "stdout",
     "output_type": "stream",
     "text": [
      "\"totalPages\":6043,\"firstPage\":true,\"lastPage\":false,\"numberOfElements\":50,\"number\":0,\"totalElements\":302118,\"columns\":{\"dimension\":{\"id\":\"variables/evar7\",\"type\":\"string\"},\"columnIds\":[\"82434dba-fff0-465a-9bc1-4bee261ba966\",\"8c4dca2a-e292-40dc-8116-89c7e32f34b6\",\"385d70bb-755d-40c6-a628-c21af70d430f\",\"b89f6522-dcdb-40bb-8d64-036b9b60e9ff\",\"4ad79beb-940b-4c25-9154-d97216af9a4a\",\"d8b4ea2e-84f0-4e12-a67f-6f16d67f58b7\",\"b3a2ab27-b5e3-4d19-82bd-e0ce232fba44\",\"ef2b4d5e-e7d3-4cf7-a3d8-b1b15d769af1\",\"fd314508-4ab7-43f7-945b-ca7447504567\",\"423a76ce-4250-48ca-b9da-0cee01294aa0\",\"4d9ad361-fcdc-418e-9264-f60ef81834d0\"]},\"rows\":[{\"itemId\":\"0\",\"value\":\"Unspecified\",\"data\":[3496385.0,0.2030280919372492,46\n"
     ]
    }
   ],
   "source": [
    "print(response.text[1:700]) #Imprimimos solo algunos casos para mostrar la estructura del JSON o response del server."
   ]
  },
  {
   "cell_type": "markdown",
   "metadata": {},
   "source": [
    "Posteriormente, transformamos nuestro json type en una estructrua de **DataFrame**"
   ]
  },
  {
   "cell_type": "code",
   "execution_count": 79,
   "metadata": {},
   "outputs": [
    {
     "data": {
      "text/html": [
       "<div>\n",
       "<style scoped>\n",
       "    .dataframe tbody tr th:only-of-type {\n",
       "        vertical-align: middle;\n",
       "    }\n",
       "\n",
       "    .dataframe tbody tr th {\n",
       "        vertical-align: top;\n",
       "    }\n",
       "\n",
       "    .dataframe thead th {\n",
       "        text-align: right;\n",
       "    }\n",
       "</style>\n",
       "<table border=\"1\" class=\"dataframe\">\n",
       "  <thead>\n",
       "    <tr style=\"text-align: right;\">\n",
       "      <th></th>\n",
       "      <th>itemId</th>\n",
       "      <th>variables/evar7</th>\n",
       "      <th>metrics/pageviews</th>\n",
       "      <th>metrics/bouncerate</th>\n",
       "      <th>metrics/visits</th>\n",
       "      <th>metrics/bounces</th>\n",
       "      <th>metrics/evar7instances</th>\n",
       "      <th>metrics/event1</th>\n",
       "      <th>metrics/event407</th>\n",
       "      <th>metrics/exits</th>\n",
       "      <th>metrics/pageevents</th>\n",
       "      <th>metrics/visitors</th>\n",
       "      <th>metrics/carts</th>\n",
       "    </tr>\n",
       "  </thead>\n",
       "  <tbody>\n",
       "    <tr>\n",
       "      <th>0</th>\n",
       "      <td>0</td>\n",
       "      <td>Unspecified</td>\n",
       "      <td>3496300.0</td>\n",
       "      <td>0.20304</td>\n",
       "      <td>461817.0</td>\n",
       "      <td>51192.0</td>\n",
       "      <td>0.0</td>\n",
       "      <td>643147.0</td>\n",
       "      <td>277323.0</td>\n",
       "      <td>252128.0</td>\n",
       "      <td>4964898.0</td>\n",
       "      <td>292687.0</td>\n",
       "      <td>4225.0</td>\n",
       "    </tr>\n",
       "    <tr>\n",
       "      <th>23065</th>\n",
       "      <td>329145030</td>\n",
       "      <td>https://ecommercesite/tu-cuenta/pedidos</td>\n",
       "      <td>35939.0</td>\n",
       "      <td>0.335329</td>\n",
       "      <td>17254.0</td>\n",
       "      <td>784.0</td>\n",
       "      <td>65481.0</td>\n",
       "      <td>1.0</td>\n",
       "      <td>1.0</td>\n",
       "      <td>4347.0</td>\n",
       "      <td>29542.0</td>\n",
       "      <td>10819.0</td>\n",
       "      <td>0.0</td>\n",
       "    </tr>\n",
       "    <tr>\n",
       "      <th>41237</th>\n",
       "      <td>584045411</td>\n",
       "      <td>https://ecommercesite/tu-cuenta/iniciar-sesion</td>\n",
       "      <td>33374.0</td>\n",
       "      <td>0.0131</td>\n",
       "      <td>5276.0</td>\n",
       "      <td>6.0</td>\n",
       "      <td>45141.0</td>\n",
       "      <td>0.0</td>\n",
       "      <td>0.0</td>\n",
       "      <td>1291.0</td>\n",
       "      <td>11767.0</td>\n",
       "      <td>1620.0</td>\n",
       "      <td>0.0</td>\n",
       "    </tr>\n",
       "    <tr>\n",
       "      <th>47107</th>\n",
       "      <td>665188284</td>\n",
       "      <td>https://ecommercesite/tu-cuenta/verificacion-m...</td>\n",
       "      <td>30107.0</td>\n",
       "      <td>0.0</td>\n",
       "      <td>9975.0</td>\n",
       "      <td>0.0</td>\n",
       "      <td>77287.0</td>\n",
       "      <td>1.0</td>\n",
       "      <td>1.0</td>\n",
       "      <td>669.0</td>\n",
       "      <td>47180.0</td>\n",
       "      <td>8999.0</td>\n",
       "      <td>0.0</td>\n",
       "    </tr>\n",
       "    <tr>\n",
       "      <th>38805</th>\n",
       "      <td>551179074</td>\n",
       "      <td>https://ecommercesite/ip/pantallas/tv-samsung-...</td>\n",
       "      <td>29900.0</td>\n",
       "      <td>0.020137</td>\n",
       "      <td>7993.0</td>\n",
       "      <td>135.0</td>\n",
       "      <td>62176.0</td>\n",
       "      <td>9273.0</td>\n",
       "      <td>244.0</td>\n",
       "      <td>6364.0</td>\n",
       "      <td>32276.0</td>\n",
       "      <td>7246.0</td>\n",
       "      <td>0.0</td>\n",
       "    </tr>\n",
       "    <tr>\n",
       "      <th>...</th>\n",
       "      <td>...</td>\n",
       "      <td>...</td>\n",
       "      <td>...</td>\n",
       "      <td>...</td>\n",
       "      <td>...</td>\n",
       "      <td>...</td>\n",
       "      <td>...</td>\n",
       "      <td>...</td>\n",
       "      <td>...</td>\n",
       "      <td>...</td>\n",
       "      <td>...</td>\n",
       "      <td>...</td>\n",
       "      <td>...</td>\n",
       "    </tr>\n",
       "    <tr>\n",
       "      <th>19275</th>\n",
       "      <td>274110945</td>\n",
       "      <td>https://ecommercesite/tu-cuenta/pedidos/777236...</td>\n",
       "      <td>0.0</td>\n",
       "      <td>0.0</td>\n",
       "      <td>1.0</td>\n",
       "      <td>0.0</td>\n",
       "      <td>1.0</td>\n",
       "      <td>0.0</td>\n",
       "      <td>0.0</td>\n",
       "      <td>1.0</td>\n",
       "      <td>1.0</td>\n",
       "      <td>1.0</td>\n",
       "      <td>0.0</td>\n",
       "    </tr>\n",
       "    <tr>\n",
       "      <th>19274</th>\n",
       "      <td>274101033</td>\n",
       "      <td>https://ecommercesite/p/sandalias-peanuts-tall...</td>\n",
       "      <td>0.0</td>\n",
       "      <td>0.4</td>\n",
       "      <td>16.0</td>\n",
       "      <td>4.0</td>\n",
       "      <td>19.0</td>\n",
       "      <td>0.0</td>\n",
       "      <td>0.0</td>\n",
       "      <td>13.0</td>\n",
       "      <td>19.0</td>\n",
       "      <td>16.0</td>\n",
       "      <td>0.0</td>\n",
       "    </tr>\n",
       "    <tr>\n",
       "      <th>38348</th>\n",
       "      <td>544700469</td>\n",
       "      <td>https://ecommercesite/ip/plomeria-y-bano/conec...</td>\n",
       "      <td>0.0</td>\n",
       "      <td>0.0</td>\n",
       "      <td>1.0</td>\n",
       "      <td>0.0</td>\n",
       "      <td>1.0</td>\n",
       "      <td>0.0</td>\n",
       "      <td>0.0</td>\n",
       "      <td>1.0</td>\n",
       "      <td>1.0</td>\n",
       "      <td>1.0</td>\n",
       "      <td>0.0</td>\n",
       "    </tr>\n",
       "    <tr>\n",
       "      <th>19268</th>\n",
       "      <td>273941643</td>\n",
       "      <td>https://ecommercesite/ip/plomeria-y-bano/llave...</td>\n",
       "      <td>0.0</td>\n",
       "      <td>0.0</td>\n",
       "      <td>1.0</td>\n",
       "      <td>0.0</td>\n",
       "      <td>1.0</td>\n",
       "      <td>0.0</td>\n",
       "      <td>0.0</td>\n",
       "      <td>0.0</td>\n",
       "      <td>1.0</td>\n",
       "      <td>1.0</td>\n",
       "      <td>0.0</td>\n",
       "    </tr>\n",
       "    <tr>\n",
       "      <th>7603</th>\n",
       "      <td>108910795</td>\n",
       "      <td>https://ecommercesite/status/005MU83AAN</td>\n",
       "      <td>0.0</td>\n",
       "      <td>1.0</td>\n",
       "      <td>3.0</td>\n",
       "      <td>3.0</td>\n",
       "      <td>3.0</td>\n",
       "      <td>0.0</td>\n",
       "      <td>0.0</td>\n",
       "      <td>3.0</td>\n",
       "      <td>3.0</td>\n",
       "      <td>1.0</td>\n",
       "      <td>0.0</td>\n",
       "    </tr>\n",
       "  </tbody>\n",
       "</table>\n",
       "<p>50000 rows × 13 columns</p>\n",
       "</div>"
      ],
      "text/plain": [
       "          itemId                                    variables/evar7  \\\n",
       "0              0                                        Unspecified   \n",
       "23065  329145030            https://ecommercesite/tu-cuenta/pedidos   \n",
       "41237  584045411     https://ecommercesite/tu-cuenta/iniciar-sesion   \n",
       "47107  665188284  https://ecommercesite/tu-cuenta/verificacion-m...   \n",
       "38805  551179074  https://ecommercesite/ip/pantallas/tv-samsung-...   \n",
       "...          ...                                                ...   \n",
       "19275  274110945  https://ecommercesite/tu-cuenta/pedidos/777236...   \n",
       "19274  274101033  https://ecommercesite/p/sandalias-peanuts-tall...   \n",
       "38348  544700469  https://ecommercesite/ip/plomeria-y-bano/conec...   \n",
       "19268  273941643  https://ecommercesite/ip/plomeria-y-bano/llave...   \n",
       "7603   108910795            https://ecommercesite/status/005MU83AAN   \n",
       "\n",
       "       metrics/pageviews metrics/bouncerate  metrics/visits  metrics/bounces  \\\n",
       "0              3496300.0            0.20304        461817.0          51192.0   \n",
       "23065            35939.0           0.335329         17254.0            784.0   \n",
       "41237            33374.0             0.0131          5276.0              6.0   \n",
       "47107            30107.0                0.0          9975.0              0.0   \n",
       "38805            29900.0           0.020137          7993.0            135.0   \n",
       "...                  ...                ...             ...              ...   \n",
       "19275                0.0                0.0             1.0              0.0   \n",
       "19274                0.0                0.4            16.0              4.0   \n",
       "38348                0.0                0.0             1.0              0.0   \n",
       "19268                0.0                0.0             1.0              0.0   \n",
       "7603                 0.0                1.0             3.0              3.0   \n",
       "\n",
       "       metrics/evar7instances  metrics/event1  metrics/event407  \\\n",
       "0                         0.0        643147.0          277323.0   \n",
       "23065                 65481.0             1.0               1.0   \n",
       "41237                 45141.0             0.0               0.0   \n",
       "47107                 77287.0             1.0               1.0   \n",
       "38805                 62176.0          9273.0             244.0   \n",
       "...                       ...             ...               ...   \n",
       "19275                     1.0             0.0               0.0   \n",
       "19274                    19.0             0.0               0.0   \n",
       "38348                     1.0             0.0               0.0   \n",
       "19268                     1.0             0.0               0.0   \n",
       "7603                      3.0             0.0               0.0   \n",
       "\n",
       "       metrics/exits  metrics/pageevents  metrics/visitors  metrics/carts  \n",
       "0           252128.0           4964898.0          292687.0         4225.0  \n",
       "23065         4347.0             29542.0           10819.0            0.0  \n",
       "41237         1291.0             11767.0            1620.0            0.0  \n",
       "47107          669.0             47180.0            8999.0            0.0  \n",
       "38805         6364.0             32276.0            7246.0            0.0  \n",
       "...              ...                 ...               ...            ...  \n",
       "19275            1.0                 1.0               1.0            0.0  \n",
       "19274           13.0                19.0              16.0            0.0  \n",
       "38348            1.0                 1.0               1.0            0.0  \n",
       "19268            0.0                 1.0               1.0            0.0  \n",
       "7603             3.0                 3.0               1.0            0.0  \n",
       "\n",
       "[50000 rows x 13 columns]"
      ]
     },
     "execution_count": 79,
     "metadata": {},
     "output_type": "execute_result"
    }
   ],
   "source": [
    "df = pd.concat([pd.DataFrame(response.json().get(\"rows\",[])).iloc[:,:-1],pd.DataFrame(pd.DataFrame(response.json().get(\"rows\",[]))[\"data\"].to_list(), columns=mets)], axis=\"columns\")\n",
    "df = df.rename(columns = {'value':dim})\n",
    "df.sort_values(by = [\"metrics/pageviews\"], ascending=False, inplace=True)\n",
    "df"
   ]
  },
  {
   "cell_type": "markdown",
   "metadata": {},
   "source": [
    "Del ejercicio anterior, esta información nos sería de utilidad ya que nos permitiría obtener a nivel usuario la interacción dentro de nuestro Website y poder complementar información y variables que ayuden a mejorar el perofrmance de prediccióna para nuestro modelo de \"Churn\"."
   ]
  }
 ],
 "metadata": {
  "kernelspec": {
   "display_name": "Python 3",
   "language": "python",
   "name": "python3"
  },
  "language_info": {
   "codemirror_mode": {
    "name": "ipython",
    "version": 3
   },
   "file_extension": ".py",
   "mimetype": "text/x-python",
   "name": "python",
   "nbconvert_exporter": "python",
   "pygments_lexer": "ipython3",
   "version": "3.7.9"
  },
  "orig_nbformat": 4
 },
 "nbformat": 4,
 "nbformat_minor": 2
}
