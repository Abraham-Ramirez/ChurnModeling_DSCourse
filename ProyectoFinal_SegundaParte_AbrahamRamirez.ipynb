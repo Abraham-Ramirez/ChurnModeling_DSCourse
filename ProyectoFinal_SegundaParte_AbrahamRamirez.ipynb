{
 "cells": [
  {
   "cell_type": "markdown",
   "metadata": {},
   "source": [
    "# Entrega final de proyecto parte 2: Entrenamiento, evaluación y optimización de modelos de Machine Learning"
   ]
  },
  {
   "cell_type": "markdown",
   "metadata": {},
   "source": [
    "En el presente desafío seguiremos utilizando la base de información usual de transacciones o pedidos realizados en un negocio de Ecommerce tradicional enfocado a la venta de mercancíás generales.\n",
    "\n",
    "El objetivo del proyecto es poder crear un modelo que nos permita predecir el Churn del cliente, es decir, si nos terminará realizando una compra para un periodo particular.\n",
    "\n",
    "Utilizarémos múltiples** modelos de Machine Learning** para seleccionar aquel con el mejor performance en términos de** precision - recall y F1 Score**. También, utilizarémos métodos de **validacion cruzada** para la evaluación de **overfitting** del modelo y la técnica de tuneo de **Hiperparámetros Grid Search CV** para encontrar los parámetros que guíen a nuestro modelos al mejor performance de **precisión** y **accuracy**. "
   ]
  },
  {
   "cell_type": "code",
   "execution_count": 1,
   "metadata": {},
   "outputs": [
    {
     "name": "stdout",
     "output_type": "stream",
     "text": [
      "<class 'pandas.core.frame.DataFrame'>\n",
      "RangeIndex: 16692886 entries, 0 to 16692885\n",
      "Data columns (total 98 columns):\n",
      " #   Column                                Dtype  \n",
      "---  ------                                -----  \n",
      " 0   Unnamed: 0                            int64  \n",
      " 1   Almacen de Origen                     object \n",
      " 2   Almacen detalle                       object \n",
      " 3   banco                                 object \n",
      " 4   Bandera bundle final                  object \n",
      " 5   Bandera CBT                           object \n",
      " 6   Bandera pagos                         object \n",
      " 7   canal                                 object \n",
      " 8   Canal_formato_SO                      object \n",
      " 9   cantidad                              int64  \n",
      " 10  Carrier                               object \n",
      " 11  CATEGORIA                             object \n",
      " 12  Categoria ecomm                       object \n",
      " 13  CLICK AND COLLECT                     object \n",
      " 14  codigo postal                         float64\n",
      " 15  Comision MKP sin IVA                  float64\n",
      " 16  Comision MSI                          float64\n",
      " 17  COSTO CALCULADO                       float64\n",
      " 18  cupon utilizado                       object \n",
      " 19  Cupon_ID                              object \n",
      " 20  Customer_ID                           object \n",
      " 21  Departamento                          object \n",
      " 22  DEPT_NBR                              float64\n",
      " 23  DESCUENTO MULTIAHORRO                 float64\n",
      " 24  DESCUENTO PROMO5000                   float64\n",
      " 25  Det Kiosco                            object \n",
      " 26  es ron                                object \n",
      " 27  Estado republica                      object \n",
      " 28  ESTATAL_TAX                           float64\n",
      " 29  estatus                               object \n",
      " 30  Familia                               object \n",
      " 31  Fecha de cancelacion                  object \n",
      " 32  Fecha de confirmacion                 object \n",
      " 33  FECHA DE CREACION                     object \n",
      " 34  FECHA DE CREACION CON HORA            object \n",
      " 35  fecha de creacion no hora             object \n",
      " 36  fecha de embarque                     object \n",
      " 37  Fecha de entrega                      object \n",
      " 38  Fecha maxima de entrega               object \n",
      " 39  Fecha minima de entrega               object \n",
      " 40  FINELINE_NBR                          float64\n",
      " 41  Flete                                 float64\n",
      " 42  Formato_K                             int64  \n",
      " 43  ID PRODUCTO                           object \n",
      " 44  ID Proveedor/Seller                   float64\n",
      " 45  idDepto                               float64\n",
      " 46  IEPS                                  float64\n",
      " 47  IEPS_TAX                              float64\n",
      " 48  Linea                                 object \n",
      " 49  Monto de interes                      float64\n",
      " 50  Motivo de cancelacion                 object \n",
      " 51  MSI                                   int64  \n",
      " 52  Order_ID                              object \n",
      " 53  Piezas canceladas                     float64\n",
      " 54  Plataforma                            object \n",
      " 55  PRODUCTO                              object \n",
      " 56  SQUAD                                 object \n",
      " 57  Squad ecomm                           object \n",
      " 58  STATUS COMERCIAL                      object \n",
      " 59  STATUS KEY                            float64\n",
      " 60  SUBDIRECCION                          object \n",
      " 61  TASA                                  float64\n",
      " 62  Tasa de interes                       float64\n",
      " 63  tipo de pago                          object \n",
      " 64  TipoItem                              object \n",
      " 65  Total descuentos                      float64\n",
      " 66  TRIBU                                 object \n",
      " 67  Tribu ecomm                           object \n",
      " 68  upc                                   float64\n",
      " 69  Venta bruta                           float64\n",
      " 70  Venta bruta sin descuentos con flete  float64\n",
      " 71  Venta bruta sin descuentos sin flete  float64\n",
      " 72  Venta cancelada                       float64\n",
      " 73  Venta MSI                             float64\n",
      " 74  Tipo_cliente                          object \n",
      " 75  TribuH                                object \n",
      " 76  Formato                               object \n",
      " 77  PADRE                                 float64\n",
      " 78  Zona Fedex                            float64\n",
      " 79  MONTO ENVIO                           float64\n",
      " 80  pedido market place                   float64\n",
      " 81  Estatus_Embarque                      float64\n",
      " 82  Estatus_llegada_Tienda                float64\n",
      " 83  Status_Pendientes                     float64\n",
      " 84  DEPT_ID_BRICK                         float64\n",
      " 85  CAT_N_ECOMM                           float64\n",
      " 86  NUMERO_DEPARTAMENTO                   float64\n",
      " 87  NUMERO_FINELINE                       float64\n",
      " 88  ID_CAT                                float64\n",
      " 89  DEPT_DESC_BRICK                       float64\n",
      " 90  CATEGORY_ID_BRICK                     float64\n",
      " 91  CATEGORY_DESC_BRICK                   float64\n",
      " 92  SUBCAT_ID                             float64\n",
      " 93  SUBCAT_DESC_ECOMM                     float64\n",
      " 94  Nombre Kioscos tablero                object \n",
      " 95  NUMERO_DE_AUTORIZACION                object \n",
      " 96  New_canal                             object \n",
      " 97  Canal_grouped                         object \n",
      "dtypes: float64(43), int64(4), object(51)\n",
      "memory usage: 12.2+ GB\n"
     ]
    }
   ],
   "source": [
    "#Configuración y lectura de datos. También imprimimos una muestra de las columnas para ver como se estructura la información. \n",
    "import numpy as np\n",
    "import pandas as pd\n",
    "import warnings\n",
    "import matplotlib.pyplot as plt\n",
    "import seaborn as sns\n",
    "import matplotlib as mpl\n",
    "\n",
    "mpl.style.use(\"bmh\")\n",
    "warnings.filterwarnings(\"ignore\")\n",
    "\n",
    "route = \"C:/Users/abrah/Documents/\"\n",
    "\n",
    "df = pd.read_csv(route + \"Ecommerce_Transactions_2021.csv\", sep = '|', encoding = 'UTF8') #Leemos nuestros datos através de un archivo CSV e imprimios las columnas contenidas así como su data type que manejan por default.\n",
    "df.info()\n"
   ]
  },
  {
   "cell_type": "code",
   "execution_count": 95,
   "metadata": {},
   "outputs": [
    {
     "data": {
      "text/plain": [
       "0           Order_21817173\n",
       "1           Order_21840860\n",
       "2           Order_22155310\n",
       "3           Order_22280040\n",
       "5           Order_22296212\n",
       "                 ...      \n",
       "16692881    Order_22332445\n",
       "16692882    Order_22332592\n",
       "16692883    Order_22332628\n",
       "16692884    Order_22332628\n",
       "16692885    Order_22332628\n",
       "Name: Order_ID, Length: 13123660, dtype: object"
      ]
     },
     "execution_count": 95,
     "metadata": {},
     "output_type": "execute_result"
    }
   ],
   "source": [
    "df.Order_ID"
   ]
  },
  {
   "cell_type": "markdown",
   "metadata": {},
   "source": [
    "## Feature Engineering"
   ]
  },
  {
   "cell_type": "markdown",
   "metadata": {},
   "source": [
    "En el siguiente proceso, creamos nuevos campos o features adicionales sobre la base oríginal, tratamos los tipos de datos de algúnas variables y agrupamos nuestra base de informacción orifinal a **nivel cliente** con cada uno de los campos señalados."
   ]
  },
  {
   "cell_type": "code",
   "execution_count": 2,
   "metadata": {},
   "outputs": [],
   "source": [
    "## Transforma los tipos de datos oríginales de las distintas variables a los tipos que necesitamos para manipular la información. \n",
    "df[\"FECHA DE CREACION\"] = pd.to_datetime(df[\"FECHA DE CREACION\"], format  = \"%Y-%m-%d\")\n",
    "df[\"Fecha de confirmacion\"] = pd.to_datetime(df[\"Fecha de confirmacion\"], format  = \"%Y-%m-%d\")\n",
    "df[\"Fecha de cancelacion\"] = pd.to_datetime(df[\"Fecha de cancelacion\"], format  = \"%Y-%m-%d\")\n",
    "df[\"FECHA DE CREACION CON HORA\"] = pd.to_datetime(df[\"FECHA DE CREACION CON HORA\"],format= '%Y-%m-%d %H:%M:%S')\n",
    "#df[\"fecha de embarque\"] = pd.to_datetime(df[\"fecha de embarque\"], format  = \"%Y-%m-%d\")\n",
    "#df[\"Fecha de entrega\"] = pd.to_datetime(df[\"Fecha de entrega\"], format  = \"%Y-%m-%d\")\n",
    "#df[\"Fecha maxima de entrega\"] = pd.to_datetime(df[\"Fecha maxima de entrega\"], format  = \"%Y-%m-%d\")\n",
    "#df[\"Fecha minima de entrega\"] = pd.to_datetime(df[\"Fecha minima de entrega\"], format  = \"%Y-%m-%d\")\n",
    "\n",
    "df[\"Año\"] = df[\"FECHA DE CREACION\"].dt.year\n",
    "df[\"Mes\"] = df[\"FECHA DE CREACION\"].dt.month\n",
    "df[\"Dia\"] = df[\"FECHA DE CREACION\"].dt.day\n",
    "\n",
    "#Simple imputting process. \n",
    "df[\"Venta bruta sin descuentos con flete\"] = df[\"Venta bruta sin descuentos con flete\"].fillna(0)\n",
    "df[\"cantidad\"] = df[\"cantidad\"].fillna(0)\n",
    "df[\"Piezas canceladas\"] = df[\"Piezas canceladas\"].fillna(0)\n",
    "df[\"Venta cancelada\"] = df[\"Venta cancelada\"].fillna(0)\n",
    "df[\"Total_venta\"] = df[\"Venta bruta sin descuentos con flete\"] + df[\"Venta cancelada\"]\n",
    "df[\"Total_piezas\"] = df[\"Piezas canceladas\"] + df[\"cantidad\"]"
   ]
  },
  {
   "cell_type": "code",
   "execution_count": 3,
   "metadata": {},
   "outputs": [],
   "source": [
    "# Filtramos la información de un año hacía atrás, es decir, de Junio 2022 hasta Mayo 2023. También, consideramos solo aquellos pedidos que tuvieron un pago confirmado.\n",
    "#df = df.loc[df.loc[:,\"FECHA DE CREACION\"] > \"2022-06-01\",:]\n",
    "df = df.loc[df.loc[:,\"Fecha de confirmacion\"].notna(),:]"
   ]
  },
  {
   "cell_type": "code",
   "execution_count": 4,
   "metadata": {},
   "outputs": [
    {
     "data": {
      "text/html": [
       "<div>\n",
       "<style scoped>\n",
       "    .dataframe tbody tr th:only-of-type {\n",
       "        vertical-align: middle;\n",
       "    }\n",
       "\n",
       "    .dataframe tbody tr th {\n",
       "        vertical-align: top;\n",
       "    }\n",
       "\n",
       "    .dataframe thead th {\n",
       "        text-align: right;\n",
       "    }\n",
       "</style>\n",
       "<table border=\"1\" class=\"dataframe\">\n",
       "  <thead>\n",
       "    <tr style=\"text-align: right;\">\n",
       "      <th></th>\n",
       "      <th>FECHA DE CREACION</th>\n",
       "      <th>Año</th>\n",
       "      <th>Mes</th>\n",
       "      <th>Customer_ID</th>\n",
       "      <th>Order_ID</th>\n",
       "      <th>Total_venta</th>\n",
       "      <th>Total_piezas</th>\n",
       "    </tr>\n",
       "  </thead>\n",
       "  <tbody>\n",
       "    <tr>\n",
       "      <th>0</th>\n",
       "      <td>2021-01-01</td>\n",
       "      <td>2021</td>\n",
       "      <td>1</td>\n",
       "      <td>C1000395</td>\n",
       "      <td>Order_6601912</td>\n",
       "      <td>11620.690000</td>\n",
       "      <td>2.0</td>\n",
       "    </tr>\n",
       "    <tr>\n",
       "      <th>1</th>\n",
       "      <td>2021-01-01</td>\n",
       "      <td>2021</td>\n",
       "      <td>1</td>\n",
       "      <td>C1002490</td>\n",
       "      <td>Order_6600223</td>\n",
       "      <td>5765.510000</td>\n",
       "      <td>1.0</td>\n",
       "    </tr>\n",
       "    <tr>\n",
       "      <th>2</th>\n",
       "      <td>2021-01-01</td>\n",
       "      <td>2021</td>\n",
       "      <td>1</td>\n",
       "      <td>C1003767</td>\n",
       "      <td>Order_6553751</td>\n",
       "      <td>5170.697928</td>\n",
       "      <td>2.0</td>\n",
       "    </tr>\n",
       "    <tr>\n",
       "      <th>3</th>\n",
       "      <td>2021-01-01</td>\n",
       "      <td>2021</td>\n",
       "      <td>1</td>\n",
       "      <td>C1004681</td>\n",
       "      <td>Order_6603468</td>\n",
       "      <td>9849.140000</td>\n",
       "      <td>1.0</td>\n",
       "    </tr>\n",
       "    <tr>\n",
       "      <th>4</th>\n",
       "      <td>2021-01-01</td>\n",
       "      <td>2021</td>\n",
       "      <td>1</td>\n",
       "      <td>C100613</td>\n",
       "      <td>Order_6600045</td>\n",
       "      <td>775.001034</td>\n",
       "      <td>1.0</td>\n",
       "    </tr>\n",
       "    <tr>\n",
       "      <th>5</th>\n",
       "      <td>2021-01-01</td>\n",
       "      <td>2021</td>\n",
       "      <td>1</td>\n",
       "      <td>C1007224</td>\n",
       "      <td>Order_6602121</td>\n",
       "      <td>1119.831034</td>\n",
       "      <td>1.0</td>\n",
       "    </tr>\n",
       "    <tr>\n",
       "      <th>6</th>\n",
       "      <td>2021-01-01</td>\n",
       "      <td>2021</td>\n",
       "      <td>1</td>\n",
       "      <td>C1009042</td>\n",
       "      <td>Order_6599055</td>\n",
       "      <td>2372.413103</td>\n",
       "      <td>1.0</td>\n",
       "    </tr>\n",
       "    <tr>\n",
       "      <th>7</th>\n",
       "      <td>2021-01-01</td>\n",
       "      <td>2021</td>\n",
       "      <td>1</td>\n",
       "      <td>C1012964</td>\n",
       "      <td>Order_6603997</td>\n",
       "      <td>2697.360000</td>\n",
       "      <td>1.0</td>\n",
       "    </tr>\n",
       "    <tr>\n",
       "      <th>8</th>\n",
       "      <td>2021-01-01</td>\n",
       "      <td>2021</td>\n",
       "      <td>1</td>\n",
       "      <td>C1014466</td>\n",
       "      <td>Order_6597681</td>\n",
       "      <td>1033.621034</td>\n",
       "      <td>1.0</td>\n",
       "    </tr>\n",
       "    <tr>\n",
       "      <th>9</th>\n",
       "      <td>2021-01-01</td>\n",
       "      <td>2021</td>\n",
       "      <td>1</td>\n",
       "      <td>C1014610</td>\n",
       "      <td>Order_6603470</td>\n",
       "      <td>5594.830000</td>\n",
       "      <td>1.0</td>\n",
       "    </tr>\n",
       "  </tbody>\n",
       "</table>\n",
       "</div>"
      ],
      "text/plain": [
       "  FECHA DE CREACION   Año  Mes Customer_ID       Order_ID   Total_venta  \\\n",
       "0        2021-01-01  2021    1    C1000395  Order_6601912  11620.690000   \n",
       "1        2021-01-01  2021    1    C1002490  Order_6600223   5765.510000   \n",
       "2        2021-01-01  2021    1    C1003767  Order_6553751   5170.697928   \n",
       "3        2021-01-01  2021    1    C1004681  Order_6603468   9849.140000   \n",
       "4        2021-01-01  2021    1     C100613  Order_6600045    775.001034   \n",
       "5        2021-01-01  2021    1    C1007224  Order_6602121   1119.831034   \n",
       "6        2021-01-01  2021    1    C1009042  Order_6599055   2372.413103   \n",
       "7        2021-01-01  2021    1    C1012964  Order_6603997   2697.360000   \n",
       "8        2021-01-01  2021    1    C1014466  Order_6597681   1033.621034   \n",
       "9        2021-01-01  2021    1    C1014610  Order_6603470   5594.830000   \n",
       "\n",
       "   Total_piezas  \n",
       "0           2.0  \n",
       "1           1.0  \n",
       "2           2.0  \n",
       "3           1.0  \n",
       "4           1.0  \n",
       "5           1.0  \n",
       "6           1.0  \n",
       "7           1.0  \n",
       "8           1.0  \n",
       "9           1.0  "
      ]
     },
     "execution_count": 4,
     "metadata": {},
     "output_type": "execute_result"
    }
   ],
   "source": [
    "df_customer = df.groupby([\"FECHA DE CREACION\",\"Año\",\"Mes\",\"Customer_ID\",\"Order_ID\"]).agg({'Total_venta': np.sum,'Total_piezas': np.sum}).reset_index()\n",
    "df_customer.head(10) #Imprimimos nuestra base de información resultante."
   ]
  },
  {
   "cell_type": "markdown",
   "metadata": {},
   "source": [
    "Nueva estructura de df_customer"
   ]
  },
  {
   "cell_type": "code",
   "execution_count": 5,
   "metadata": {},
   "outputs": [
    {
     "data": {
      "text/html": [
       "<div>\n",
       "<style scoped>\n",
       "    .dataframe tbody tr th:only-of-type {\n",
       "        vertical-align: middle;\n",
       "    }\n",
       "\n",
       "    .dataframe tbody tr th {\n",
       "        vertical-align: top;\n",
       "    }\n",
       "\n",
       "    .dataframe thead th {\n",
       "        text-align: right;\n",
       "    }\n",
       "</style>\n",
       "<table border=\"1\" class=\"dataframe\">\n",
       "  <thead>\n",
       "    <tr style=\"text-align: right;\">\n",
       "      <th></th>\n",
       "      <th>Fecha</th>\n",
       "      <th>Año</th>\n",
       "      <th>Mes</th>\n",
       "      <th>Customer_ID</th>\n",
       "      <th>Order_ID</th>\n",
       "      <th>Venta</th>\n",
       "      <th>Piezas</th>\n",
       "      <th>Venta_pagada</th>\n",
       "      <th>Costo_envio</th>\n",
       "      <th>Total_descuentos</th>\n",
       "      <th>Venta_cancelada</th>\n",
       "      <th>Piezas_canceladas</th>\n",
       "    </tr>\n",
       "  </thead>\n",
       "  <tbody>\n",
       "    <tr>\n",
       "      <th>0</th>\n",
       "      <td>2021-01-01</td>\n",
       "      <td>2021</td>\n",
       "      <td>1</td>\n",
       "      <td>C1000395</td>\n",
       "      <td>Order_6601912</td>\n",
       "      <td>11620.690000</td>\n",
       "      <td>2.0</td>\n",
       "      <td>11620.690000</td>\n",
       "      <td>0.000000</td>\n",
       "      <td>3032.76</td>\n",
       "      <td>0.0</td>\n",
       "      <td>0.0</td>\n",
       "    </tr>\n",
       "    <tr>\n",
       "      <th>1</th>\n",
       "      <td>2021-01-01</td>\n",
       "      <td>2021</td>\n",
       "      <td>1</td>\n",
       "      <td>C1002490</td>\n",
       "      <td>Order_6600223</td>\n",
       "      <td>5765.510000</td>\n",
       "      <td>1.0</td>\n",
       "      <td>5765.510000</td>\n",
       "      <td>84.480000</td>\n",
       "      <td>0.00</td>\n",
       "      <td>0.0</td>\n",
       "      <td>0.0</td>\n",
       "    </tr>\n",
       "    <tr>\n",
       "      <th>2</th>\n",
       "      <td>2021-01-01</td>\n",
       "      <td>2021</td>\n",
       "      <td>1</td>\n",
       "      <td>C1003767</td>\n",
       "      <td>Order_6553751</td>\n",
       "      <td>5170.697928</td>\n",
       "      <td>2.0</td>\n",
       "      <td>5170.697928</td>\n",
       "      <td>0.004828</td>\n",
       "      <td>1706.90</td>\n",
       "      <td>0.0</td>\n",
       "      <td>0.0</td>\n",
       "    </tr>\n",
       "    <tr>\n",
       "      <th>3</th>\n",
       "      <td>2021-01-01</td>\n",
       "      <td>2021</td>\n",
       "      <td>1</td>\n",
       "      <td>C1004681</td>\n",
       "      <td>Order_6603468</td>\n",
       "      <td>9849.140000</td>\n",
       "      <td>1.0</td>\n",
       "      <td>9849.140000</td>\n",
       "      <td>0.000000</td>\n",
       "      <td>0.00</td>\n",
       "      <td>0.0</td>\n",
       "      <td>0.0</td>\n",
       "    </tr>\n",
       "    <tr>\n",
       "      <th>4</th>\n",
       "      <td>2021-01-01</td>\n",
       "      <td>2021</td>\n",
       "      <td>1</td>\n",
       "      <td>C100613</td>\n",
       "      <td>Order_6600045</td>\n",
       "      <td>775.001034</td>\n",
       "      <td>1.0</td>\n",
       "      <td>775.001034</td>\n",
       "      <td>0.001034</td>\n",
       "      <td>301.72</td>\n",
       "      <td>0.0</td>\n",
       "      <td>0.0</td>\n",
       "    </tr>\n",
       "    <tr>\n",
       "      <th>5</th>\n",
       "      <td>2021-01-01</td>\n",
       "      <td>2021</td>\n",
       "      <td>1</td>\n",
       "      <td>C1007224</td>\n",
       "      <td>Order_6602121</td>\n",
       "      <td>1119.831034</td>\n",
       "      <td>1.0</td>\n",
       "      <td>1119.831034</td>\n",
       "      <td>0.001034</td>\n",
       "      <td>0.00</td>\n",
       "      <td>0.0</td>\n",
       "      <td>0.0</td>\n",
       "    </tr>\n",
       "    <tr>\n",
       "      <th>6</th>\n",
       "      <td>2021-01-01</td>\n",
       "      <td>2021</td>\n",
       "      <td>1</td>\n",
       "      <td>C1009042</td>\n",
       "      <td>Order_6599055</td>\n",
       "      <td>2372.413103</td>\n",
       "      <td>1.0</td>\n",
       "      <td>2372.413103</td>\n",
       "      <td>0.003103</td>\n",
       "      <td>0.00</td>\n",
       "      <td>0.0</td>\n",
       "      <td>0.0</td>\n",
       "    </tr>\n",
       "    <tr>\n",
       "      <th>7</th>\n",
       "      <td>2021-01-01</td>\n",
       "      <td>2021</td>\n",
       "      <td>1</td>\n",
       "      <td>C1012964</td>\n",
       "      <td>Order_6603997</td>\n",
       "      <td>2697.360000</td>\n",
       "      <td>1.0</td>\n",
       "      <td>2697.360000</td>\n",
       "      <td>119.780000</td>\n",
       "      <td>344.83</td>\n",
       "      <td>0.0</td>\n",
       "      <td>0.0</td>\n",
       "    </tr>\n",
       "    <tr>\n",
       "      <th>8</th>\n",
       "      <td>2021-01-01</td>\n",
       "      <td>2021</td>\n",
       "      <td>1</td>\n",
       "      <td>C1014466</td>\n",
       "      <td>Order_6597681</td>\n",
       "      <td>1033.621034</td>\n",
       "      <td>1.0</td>\n",
       "      <td>1033.621034</td>\n",
       "      <td>0.001034</td>\n",
       "      <td>431.04</td>\n",
       "      <td>0.0</td>\n",
       "      <td>0.0</td>\n",
       "    </tr>\n",
       "    <tr>\n",
       "      <th>9</th>\n",
       "      <td>2021-01-01</td>\n",
       "      <td>2021</td>\n",
       "      <td>1</td>\n",
       "      <td>C1014610</td>\n",
       "      <td>Order_6603470</td>\n",
       "      <td>5594.830000</td>\n",
       "      <td>1.0</td>\n",
       "      <td>5594.830000</td>\n",
       "      <td>0.000000</td>\n",
       "      <td>1731.89</td>\n",
       "      <td>0.0</td>\n",
       "      <td>0.0</td>\n",
       "    </tr>\n",
       "  </tbody>\n",
       "</table>\n",
       "</div>"
      ],
      "text/plain": [
       "       Fecha   Año  Mes Customer_ID       Order_ID         Venta  Piezas  \\\n",
       "0 2021-01-01  2021    1    C1000395  Order_6601912  11620.690000     2.0   \n",
       "1 2021-01-01  2021    1    C1002490  Order_6600223   5765.510000     1.0   \n",
       "2 2021-01-01  2021    1    C1003767  Order_6553751   5170.697928     2.0   \n",
       "3 2021-01-01  2021    1    C1004681  Order_6603468   9849.140000     1.0   \n",
       "4 2021-01-01  2021    1     C100613  Order_6600045    775.001034     1.0   \n",
       "5 2021-01-01  2021    1    C1007224  Order_6602121   1119.831034     1.0   \n",
       "6 2021-01-01  2021    1    C1009042  Order_6599055   2372.413103     1.0   \n",
       "7 2021-01-01  2021    1    C1012964  Order_6603997   2697.360000     1.0   \n",
       "8 2021-01-01  2021    1    C1014466  Order_6597681   1033.621034     1.0   \n",
       "9 2021-01-01  2021    1    C1014610  Order_6603470   5594.830000     1.0   \n",
       "\n",
       "   Venta_pagada  Costo_envio  Total_descuentos  Venta_cancelada  \\\n",
       "0  11620.690000     0.000000           3032.76              0.0   \n",
       "1   5765.510000    84.480000              0.00              0.0   \n",
       "2   5170.697928     0.004828           1706.90              0.0   \n",
       "3   9849.140000     0.000000              0.00              0.0   \n",
       "4    775.001034     0.001034            301.72              0.0   \n",
       "5   1119.831034     0.001034              0.00              0.0   \n",
       "6   2372.413103     0.003103              0.00              0.0   \n",
       "7   2697.360000   119.780000            344.83              0.0   \n",
       "8   1033.621034     0.001034            431.04              0.0   \n",
       "9   5594.830000     0.000000           1731.89              0.0   \n",
       "\n",
       "   Piezas_canceladas  \n",
       "0                0.0  \n",
       "1                0.0  \n",
       "2                0.0  \n",
       "3                0.0  \n",
       "4                0.0  \n",
       "5                0.0  \n",
       "6                0.0  \n",
       "7                0.0  \n",
       "8                0.0  \n",
       "9                0.0  "
      ]
     },
     "execution_count": 5,
     "metadata": {},
     "output_type": "execute_result"
    }
   ],
   "source": [
    "#Renombramos los campos o columnas para tener mejor estructura de nuestra base de información.\n",
    "df_customer = df.groupby([\"FECHA DE CREACION\",\"Año\",\"Mes\",\"Customer_ID\",\"Order_ID\"]).agg({'Total_venta': np.sum, 'Total_piezas': np.sum,\n",
    "        'Venta bruta sin descuentos con flete': np.sum, 'Flete': np.sum, 'Total descuentos': np.sum, 'Venta cancelada': np.sum, 'Piezas canceladas':np.sum}).reset_index()\n",
    "\n",
    "df_customer.rename(columns={'FECHA DE CREACION':'Fecha','Total_venta':\"Venta\",'Total_piezas': \"Piezas\",'Venta bruta sin descuentos con flete': 'Venta_pagada','Flete':'Costo_envio'\n",
    ",'Total descuentos':'Total_descuentos','Venta cancelada':'Venta_cancelada'\n",
    ",'Piezas canceladas':'Piezas_canceladas'}, inplace=True)\n",
    "\n",
    "df_customer.head(10)"
   ]
  },
  {
   "cell_type": "markdown",
   "metadata": {},
   "source": [
    "### Cálculo de variables: Age, Recency , Frequency & Monetary value (RFM)"
   ]
  },
  {
   "cell_type": "markdown",
   "metadata": {},
   "source": [
    "Para el cálculo del Churn, se utilizará un modelo recursivo de RFM, es decir, iterarémos sobre cada una de las fechas de corte del algoritmo para obtener las variables del modelo de RFM antes de la fecha de corte establecida y tomaremos aquellos cleintes con engagemente para los cuales hayan realizado una compra **un trimestre después**."
   ]
  },
  {
   "cell_type": "markdown",
   "metadata": {},
   "source": [
    "Antes tener nuestra base de información original, mostraremos algunas reglas de cálculo de las variables del RFM."
   ]
  },
  {
   "cell_type": "markdown",
   "metadata": {},
   "source": [
    "#### Recency"
   ]
  },
  {
   "cell_type": "code",
   "execution_count": 6,
   "metadata": {},
   "outputs": [
    {
     "data": {
      "text/html": [
       "<div>\n",
       "<style scoped>\n",
       "    .dataframe tbody tr th:only-of-type {\n",
       "        vertical-align: middle;\n",
       "    }\n",
       "\n",
       "    .dataframe tbody tr th {\n",
       "        vertical-align: top;\n",
       "    }\n",
       "\n",
       "    .dataframe thead th {\n",
       "        text-align: right;\n",
       "    }\n",
       "</style>\n",
       "<table border=\"1\" class=\"dataframe\">\n",
       "  <thead>\n",
       "    <tr style=\"text-align: right;\">\n",
       "      <th></th>\n",
       "      <th>Customer_ID</th>\n",
       "      <th>LastPurchaseDate</th>\n",
       "      <th>Recency</th>\n",
       "    </tr>\n",
       "  </thead>\n",
       "  <tbody>\n",
       "    <tr>\n",
       "      <th>0</th>\n",
       "      <td>C100000</td>\n",
       "      <td>2023-06-06</td>\n",
       "      <td>4</td>\n",
       "    </tr>\n",
       "    <tr>\n",
       "      <th>1</th>\n",
       "      <td>C1000000</td>\n",
       "      <td>2023-06-04</td>\n",
       "      <td>6</td>\n",
       "    </tr>\n",
       "    <tr>\n",
       "      <th>2</th>\n",
       "      <td>C1000011</td>\n",
       "      <td>2023-03-02</td>\n",
       "      <td>100</td>\n",
       "    </tr>\n",
       "    <tr>\n",
       "      <th>3</th>\n",
       "      <td>C1000017</td>\n",
       "      <td>2023-03-27</td>\n",
       "      <td>75</td>\n",
       "    </tr>\n",
       "    <tr>\n",
       "      <th>4</th>\n",
       "      <td>C1000021</td>\n",
       "      <td>2022-11-04</td>\n",
       "      <td>218</td>\n",
       "    </tr>\n",
       "  </tbody>\n",
       "</table>\n",
       "</div>"
      ],
      "text/plain": [
       "  Customer_ID LastPurchaseDate  Recency\n",
       "0     C100000       2023-06-06        4\n",
       "1    C1000000       2023-06-04        6\n",
       "2    C1000011       2023-03-02      100\n",
       "3    C1000017       2023-03-27       75\n",
       "4    C1000021       2022-11-04      218"
      ]
     },
     "execution_count": 6,
     "metadata": {},
     "output_type": "execute_result"
    }
   ],
   "source": [
    "cut_off = df_customer.loc[:,\"Fecha\"].max()\n",
    "recency = df_customer.loc[df_customer.loc[:,\"Fecha\"] < cut_off, :].copy()\n",
    "\n",
    "recency = recency.groupby([\"Customer_ID\"]).agg({'Fecha':'max'}).reset_index().rename(columns={\"Fecha\":\"LastPurchaseDate\"})\n",
    "recency[\"Recency\"] = ((cut_off - recency.LastPurchaseDate).dt.days)\n",
    "recency.head()"
   ]
  },
  {
   "cell_type": "markdown",
   "metadata": {},
   "source": [
    "#### Purchase Frequency"
   ]
  },
  {
   "cell_type": "code",
   "execution_count": 17,
   "metadata": {},
   "outputs": [
    {
     "data": {
      "text/html": [
       "<div>\n",
       "<style scoped>\n",
       "    .dataframe tbody tr th:only-of-type {\n",
       "        vertical-align: middle;\n",
       "    }\n",
       "\n",
       "    .dataframe tbody tr th {\n",
       "        vertical-align: top;\n",
       "    }\n",
       "\n",
       "    .dataframe thead th {\n",
       "        text-align: right;\n",
       "    }\n",
       "</style>\n",
       "<table border=\"1\" class=\"dataframe\">\n",
       "  <thead>\n",
       "    <tr style=\"text-align: right;\">\n",
       "      <th></th>\n",
       "      <th>Customer_ID</th>\n",
       "      <th>Frequency</th>\n",
       "    </tr>\n",
       "  </thead>\n",
       "  <tbody>\n",
       "    <tr>\n",
       "      <th>0</th>\n",
       "      <td>C100000</td>\n",
       "      <td>6</td>\n",
       "    </tr>\n",
       "    <tr>\n",
       "      <th>1</th>\n",
       "      <td>C1000000</td>\n",
       "      <td>3</td>\n",
       "    </tr>\n",
       "    <tr>\n",
       "      <th>2</th>\n",
       "      <td>C1000011</td>\n",
       "      <td>1</td>\n",
       "    </tr>\n",
       "    <tr>\n",
       "      <th>3</th>\n",
       "      <td>C1000017</td>\n",
       "      <td>2</td>\n",
       "    </tr>\n",
       "    <tr>\n",
       "      <th>4</th>\n",
       "      <td>C1000021</td>\n",
       "      <td>1</td>\n",
       "    </tr>\n",
       "  </tbody>\n",
       "</table>\n",
       "</div>"
      ],
      "text/plain": [
       "  Customer_ID  Frequency\n",
       "0     C100000          6\n",
       "1    C1000000          3\n",
       "2    C1000011          1\n",
       "3    C1000017          2\n",
       "4    C1000021          1"
      ]
     },
     "execution_count": 17,
     "metadata": {},
     "output_type": "execute_result"
    }
   ],
   "source": [
    "cut_off = df_customer.Fecha.max()\n",
    "frequency = df_customer.loc[df_customer.loc[:,\"Fecha\"] < cut_off,:].copy()\n",
    "frequency.drop(columns=[\"Año\",\"Mes\"], inplace=True)\n",
    "\n",
    "frequency.set_index(\"Fecha\", inplace=True)\n",
    "frequency.index = pd.DatetimeIndex(frequency.index)\n",
    "\n",
    "frequency_t = frequency.groupby([\"Customer_ID\", pd.Grouper(freq=\"M\", level=\"Fecha\")]).count()\n",
    "frequency_t[\"value_column\"] = 1\n",
    "\n",
    "frequency_t = frequency_t.groupby([\"Customer_ID\"]).sum().reset_index().rename(columns={'value_column':'Frequency'})\n",
    "\n",
    "frequency_t = frequency_t.loc[:,[\"Customer_ID\",\"Frequency\"]]\n",
    "frequency_t.head()\n"
   ]
  },
  {
   "cell_type": "markdown",
   "metadata": {},
   "source": [
    "#### Monetary Value"
   ]
  },
  {
   "cell_type": "code",
   "execution_count": 18,
   "metadata": {},
   "outputs": [
    {
     "data": {
      "text/html": [
       "<div>\n",
       "<style scoped>\n",
       "    .dataframe tbody tr th:only-of-type {\n",
       "        vertical-align: middle;\n",
       "    }\n",
       "\n",
       "    .dataframe tbody tr th {\n",
       "        vertical-align: top;\n",
       "    }\n",
       "\n",
       "    .dataframe thead th {\n",
       "        text-align: right;\n",
       "    }\n",
       "</style>\n",
       "<table border=\"1\" class=\"dataframe\">\n",
       "  <thead>\n",
       "    <tr style=\"text-align: right;\">\n",
       "      <th></th>\n",
       "      <th>Customer_ID</th>\n",
       "      <th>Customer_ID</th>\n",
       "      <th>Average_sales</th>\n",
       "      <th>Total_sales</th>\n",
       "    </tr>\n",
       "  </thead>\n",
       "  <tbody>\n",
       "    <tr>\n",
       "      <th>0</th>\n",
       "      <td>C100000</td>\n",
       "      <td>C100000</td>\n",
       "      <td>5839.516310</td>\n",
       "      <td>58395.163103</td>\n",
       "    </tr>\n",
       "    <tr>\n",
       "      <th>1</th>\n",
       "      <td>C1000000</td>\n",
       "      <td>C1000000</td>\n",
       "      <td>11545.139540</td>\n",
       "      <td>34635.418621</td>\n",
       "    </tr>\n",
       "    <tr>\n",
       "      <th>2</th>\n",
       "      <td>C1000011</td>\n",
       "      <td>C1000011</td>\n",
       "      <td>3792.230000</td>\n",
       "      <td>3792.230000</td>\n",
       "    </tr>\n",
       "    <tr>\n",
       "      <th>3</th>\n",
       "      <td>C1000017</td>\n",
       "      <td>C1000017</td>\n",
       "      <td>2046.551379</td>\n",
       "      <td>4093.102759</td>\n",
       "    </tr>\n",
       "    <tr>\n",
       "      <th>4</th>\n",
       "      <td>C1000021</td>\n",
       "      <td>C1000021</td>\n",
       "      <td>6430.167241</td>\n",
       "      <td>6430.167241</td>\n",
       "    </tr>\n",
       "  </tbody>\n",
       "</table>\n",
       "</div>"
      ],
      "text/plain": [
       "  Customer_ID Customer_ID  Average_sales   Total_sales\n",
       "0     C100000     C100000    5839.516310  58395.163103\n",
       "1    C1000000    C1000000   11545.139540  34635.418621\n",
       "2    C1000011    C1000011    3792.230000   3792.230000\n",
       "3    C1000017    C1000017    2046.551379   4093.102759\n",
       "4    C1000021    C1000021    6430.167241   6430.167241"
      ]
     },
     "execution_count": 18,
     "metadata": {},
     "output_type": "execute_result"
    }
   ],
   "source": [
    "cut_off = df_customer.Fecha.max()\n",
    "mvalue = df_customer.loc[df_customer.loc[:,\"Fecha\"] < cut_off,:].copy()\n",
    "mvalue.drop(columns=[\"Año\",\"Mes\"], inplace=True)\n",
    "\n",
    "#Set date columns as index.\n",
    "mvalue.set_index(mvalue.Fecha, inplace=True)\n",
    "mvalue.index = pd.DatetimeIndex(mvalue.index)\n",
    "\n",
    "mvalue_avg = mvalue.groupby([\"Customer_ID\"])[\"Venta\"].mean().reset_index().rename(columns={\"Venta\":'Average_sales'})\n",
    "mvalue_total = mvalue.groupby([\"Customer_ID\"])[\"Venta\"].sum().reset_index().rename(columns={\"Venta\":'Total_sales'})\n",
    "\n",
    "mvalue = pd.concat([mvalue_avg, mvalue_total], axis=1)\n",
    "mvalue = mvalue.loc[:,[\"Customer_ID\",\"Average_sales\",\"Total_sales\"]]\n",
    "\n",
    "mvalue.head()"
   ]
  },
  {
   "cell_type": "markdown",
   "metadata": {},
   "source": [
    "#### Age"
   ]
  },
  {
   "cell_type": "code",
   "execution_count": 19,
   "metadata": {},
   "outputs": [
    {
     "data": {
      "text/html": [
       "<div>\n",
       "<style scoped>\n",
       "    .dataframe tbody tr th:only-of-type {\n",
       "        vertical-align: middle;\n",
       "    }\n",
       "\n",
       "    .dataframe tbody tr th {\n",
       "        vertical-align: top;\n",
       "    }\n",
       "\n",
       "    .dataframe thead th {\n",
       "        text-align: right;\n",
       "    }\n",
       "</style>\n",
       "<table border=\"1\" class=\"dataframe\">\n",
       "  <thead>\n",
       "    <tr style=\"text-align: right;\">\n",
       "      <th></th>\n",
       "      <th>Customer_ID</th>\n",
       "      <th>Fecha</th>\n",
       "      <th>age</th>\n",
       "    </tr>\n",
       "  </thead>\n",
       "  <tbody>\n",
       "    <tr>\n",
       "      <th>0</th>\n",
       "      <td>C100000</td>\n",
       "      <td>2022-11-16</td>\n",
       "      <td>206</td>\n",
       "    </tr>\n",
       "    <tr>\n",
       "      <th>1</th>\n",
       "      <td>C1000000</td>\n",
       "      <td>2022-08-27</td>\n",
       "      <td>287</td>\n",
       "    </tr>\n",
       "    <tr>\n",
       "      <th>2</th>\n",
       "      <td>C1000011</td>\n",
       "      <td>2023-03-02</td>\n",
       "      <td>100</td>\n",
       "    </tr>\n",
       "    <tr>\n",
       "      <th>3</th>\n",
       "      <td>C1000017</td>\n",
       "      <td>2022-07-30</td>\n",
       "      <td>315</td>\n",
       "    </tr>\n",
       "    <tr>\n",
       "      <th>4</th>\n",
       "      <td>C1000021</td>\n",
       "      <td>2022-11-04</td>\n",
       "      <td>218</td>\n",
       "    </tr>\n",
       "  </tbody>\n",
       "</table>\n",
       "</div>"
      ],
      "text/plain": [
       "  Customer_ID      Fecha  age\n",
       "0     C100000 2022-11-16  206\n",
       "1    C1000000 2022-08-27  287\n",
       "2    C1000011 2023-03-02  100\n",
       "3    C1000017 2022-07-30  315\n",
       "4    C1000021 2022-11-04  218"
      ]
     },
     "execution_count": 19,
     "metadata": {},
     "output_type": "execute_result"
    }
   ],
   "source": [
    "cut_off = df_customer.Fecha.max()\n",
    "age = df_customer.loc[df_customer.loc[:,\"Fecha\"] < cut_off,:].copy()\n",
    "age.drop(columns=[\"Año\",\"Mes\"], inplace=True)\n",
    "\n",
    "age = age.groupby([\"Customer_ID\"])[\"Fecha\"].min().reset_index()\n",
    "age[\"age\"] = (cut_off - age.Fecha).dt.days\n",
    "\n",
    "age.head()"
   ]
  },
  {
   "cell_type": "markdown",
   "metadata": {},
   "source": [
    "#### Definición de funciones para el cálculo de los atributos del modelo RFM y Otras variables adicionales para el cálculo del Churn "
   ]
  },
  {
   "cell_type": "markdown",
   "metadata": {},
   "source": [
    "Dado que tenemos un proceso iterativo que irá calculando dichas features entre periodos, se construye una función que permita obtener una base con estas características ya calculadas.\n",
    "\n",
    "Las funciones que se construyeron son las siguientes:"
   ]
  },
  {
   "cell_type": "code",
   "execution_count": 6,
   "metadata": {},
   "outputs": [],
   "source": [
    "def customer_recency(df_customer, cut_off):\n",
    "    #cut_off = df.loc[:,\"Fecha\"].max()\n",
    "    recency = df_customer.loc[df_customer.loc[:,\"Fecha\"] <= cut_off, :].copy()\n",
    "    recency = recency.groupby([\"Customer_ID\"]).agg({'Fecha':'max'}).reset_index().rename(columns={\"Fecha\":\"LastPurchaseDate\"})\n",
    "    recency[\"Recency\"] = ((cut_off - recency.LastPurchaseDate).dt.days)\n",
    "\n",
    "    return recency.loc[:,[\"Customer_ID\",\"Recency\"]]\n",
    "\n",
    "def customer_frequency_1(df_customer, cut_off):\n",
    "\n",
    "    frequency = df_customer.loc[df_customer.loc[:,\"Fecha\"] <= cut_off,:].copy()\n",
    "    frequency.drop(columns=[\"Año\",\"Mes\"], inplace=True)\n",
    "\n",
    "    frequency.set_index(\"Fecha\", inplace=True)\n",
    "    frequency.index = pd.DatetimeIndex(frequency.index)\n",
    "\n",
    "    frequency_t = frequency.groupby([\"Customer_ID\", pd.Grouper(freq=\"M\", level=\"Fecha\")]).count()\n",
    "    frequency_t[\"value_column\"] = 1\n",
    "\n",
    "    return frequency_t.groupby([\"Customer_ID\"]).sum().reset_index().rename(columns={'value_column':'Frequency'}).loc[:,[\"Customer_ID\",\"Frequency\"]]\n",
    "\n",
    "def customer_frequency(df_customer, cut_off):\n",
    "\n",
    "    frequency = df_customer.loc[df_customer.loc[:,\"Fecha\"] <= cut_off,:].copy()\n",
    "    frequency.drop(columns=[\"Año\",\"Mes\"], inplace=True)\n",
    "\n",
    "    frequency = frequency.groupby([\"Customer_ID\"]).agg({'Order_ID':lambda x: x.nunique()}).reset_index().rename(columns = {'Order_ID':'Frequency'})\n",
    "\n",
    "    return frequency.loc[:,[\"Customer_ID\",\"Frequency\"]]\n",
    "\n",
    "def customer_monetaryvalue(df_customer, cut_off):\n",
    "\n",
    "    mvalue = df_customer.loc[df_customer.loc[:,\"Fecha\"] <= cut_off,:].copy()\n",
    "    mvalue.drop(columns=[\"Año\",\"Mes\"], inplace=True)\n",
    "\n",
    "    mvalue.set_index(mvalue.Fecha, inplace=True)\n",
    "    mvalue.index = pd.DatetimeIndex(mvalue.index)\n",
    "\n",
    "    mvalue_avg = mvalue.groupby([\"Customer_ID\"])[\"Venta\"].mean().reset_index().rename(columns={\"Venta\":'Average_sales'})\n",
    "    mvalue_total = mvalue.groupby([\"Customer_ID\"])[\"Venta\"].sum().reset_index().rename(columns={\"Venta\":'Total_sales'})\n",
    "\n",
    "    mvalue = pd.concat([mvalue_avg, mvalue_total], axis=1)\n",
    "    mvalue = mvalue.loc[:,[\"Customer_ID\",\"Average_sales\",\"Total_sales\"]]\n",
    "    \n",
    "    return mvalue.iloc[:,1:]\n",
    "    \n",
    "def customer_age(df_customer, cut_off):\n",
    "    \n",
    "    age = df_customer.loc[df_customer.loc[:,\"Fecha\"] <= cut_off,:].copy()\n",
    "    age.drop(columns=[\"Año\",\"Mes\"], inplace=True)\n",
    "\n",
    "    age = age.groupby([\"Customer_ID\"])[\"Fecha\"].min().reset_index()\n",
    "    age[\"Age\"] = (cut_off - age.Fecha).dt.days\n",
    " \n",
    "    return age.loc[:,[\"Customer_ID\",\"Age\"]]\n",
    "\n",
    "def customer_cancellations(df_customer, cut_off):\n",
    "    df_cancellations = df_customer.loc[df_customer.loc[:,\"Fecha\"] <= cut_off,:].copy()\n",
    "    df_cancellations.drop(columns=[\"Año\",\"Mes\"], inplace=True)\n",
    "\n",
    "    df_cancellations = df_cancellations.groupby([\"Customer_ID\"])[\"Piezas\",\"Piezas_canceladas\"].sum().reset_index()\n",
    "    df_cancellations.loc[:,\"Ratio_cancellations\"] = df_cancellations.Piezas_canceladas / df_cancellations.Piezas \n",
    "    \n",
    "    return df_cancellations.loc[:,[\"Customer_ID\",\"Ratio_cancellations\"]]\n",
    "    \n",
    "def customer_basket_size(df_customer, cut_off):\n",
    "    df_bs = df_customer.loc[df_customer.loc[:,\"Fecha\"] <= cut_off,:].copy()\n",
    "    df_bs.drop(columns=[\"Año\",\"Mes\"], inplace=True)\n",
    "\n",
    "    df_bs = df_bs.groupby([\"Customer_ID\"]).agg({'Piezas': np.sum , 'Order_ID': lambda x: x.nunique()}).reset_index().rename(columns = {'Order_ID':'Ordenes'})\n",
    "    df_bs.loc[:,\"Basket_size\"] = df_bs.Piezas / df_bs.Ordenes \n",
    "    \n",
    "    return df_bs.loc[:,[\"Customer_ID\",\"Basket_size\"]]\n",
    "\n",
    "def customer_shipping_ratio(df_customer, cut_off):\n",
    "    df_sr = df_customer.loc[df_customer.loc[:,\"Fecha\"] <= cut_off,:].copy()\n",
    "    df_sr.drop(columns= [\"Año\",\"Mes\"], inplace=True)\n",
    "\n",
    "    df_sr = df_sr.groupby([\"Customer_ID\"]).agg({'Costo_envio': np.sum,'Venta_pagada': np.sum}).reset_index()\n",
    "    df_sr.loc[:,\"Shipping_ratio\"] = df_sr.Costo_envio / df_sr.Venta_pagada \n",
    "    \n",
    "    return df_sr.loc[:,[\"Customer_ID\",\"Shipping_ratio\"]]\n",
    "\n",
    "def customer_discount_ratio(df_customer, cut_off):\n",
    "    df_dr = df_customer.loc[df_customer.loc[:,\"Fecha\"] <= cut_off,:].copy()\n",
    "    df_dr.drop(columns= [\"Año\",\"Mes\"], inplace=True)\n",
    "\n",
    "    df_dr = df_dr.groupby([\"Customer_ID\"]).agg({'Total_descuentos': np.sum,'Venta_pagada': np.sum}).reset_index()\n",
    "    df_dr.loc[:,\"Discount_ratio\"] = df_dr.Total_descuentos / (df_dr.Venta_pagada + df_dr.Total_descuentos) \n",
    "    \n",
    "    return df_dr.loc[:,[\"Customer_ID\",\"Discount_ratio\"]]\n",
    "\n",
    "def customer_rfm(df_customer, cut_off):\n",
    "\n",
    "    recency = customer_recency(df_customer, cut_off)\n",
    "    frequency = customer_frequency(df_customer, cut_off)\n",
    "    monetary_value = customer_monetaryvalue(df_customer, cut_off)\n",
    "    age = customer_age(df_customer, cut_off)\n",
    "    \n",
    "    cancellations = customer_cancellations(df_customer, cut_off)\n",
    "    basket_size = customer_basket_size(df_customer, cut_off)\n",
    "    shipping_ratio = customer_shipping_ratio(df_customer, cut_off)\n",
    "    discount_ratio = customer_discount_ratio(df_customer, cut_off)\n",
    "\n",
    "    return pd.merge(left=recency, right=frequency, how='left', left_on= \"Customer_ID\", right_on=\"Customer_ID\").merge(monetary_value, on=\"Customer_ID\").merge(age, on = \"Customer_ID\").merge(cancellations, on = \"Customer_ID\").merge(basket_size, on = \"Customer_ID\").merge(shipping_ratio, on = \"Customer_ID\").merge(discount_ratio, on = \"Customer_ID\")\n"
   ]
  },
  {
   "cell_type": "markdown",
   "metadata": {},
   "source": [
    "Testing de obtención de los atributos del modelo de RFM."
   ]
  },
  {
   "cell_type": "code",
   "execution_count": 7,
   "metadata": {},
   "outputs": [],
   "source": [
    "cut_off = df_customer.Fecha.max()\n",
    "rfm_features = customer_rfm(df_customer, cut_off)"
   ]
  },
  {
   "cell_type": "code",
   "execution_count": 8,
   "metadata": {},
   "outputs": [
    {
     "data": {
      "text/html": [
       "<div>\n",
       "<style scoped>\n",
       "    .dataframe tbody tr th:only-of-type {\n",
       "        vertical-align: middle;\n",
       "    }\n",
       "\n",
       "    .dataframe tbody tr th {\n",
       "        vertical-align: top;\n",
       "    }\n",
       "\n",
       "    .dataframe thead th {\n",
       "        text-align: right;\n",
       "    }\n",
       "</style>\n",
       "<table border=\"1\" class=\"dataframe\">\n",
       "  <thead>\n",
       "    <tr style=\"text-align: right;\">\n",
       "      <th></th>\n",
       "      <th>Customer_ID</th>\n",
       "      <th>Recency</th>\n",
       "      <th>Frequency</th>\n",
       "      <th>Average_sales</th>\n",
       "      <th>Total_sales</th>\n",
       "      <th>Age</th>\n",
       "      <th>Ratio_cancellations</th>\n",
       "      <th>Basket_size</th>\n",
       "      <th>Shipping_ratio</th>\n",
       "      <th>Discount_ratio</th>\n",
       "    </tr>\n",
       "  </thead>\n",
       "  <tbody>\n",
       "    <tr>\n",
       "      <th>0</th>\n",
       "      <td>C1</td>\n",
       "      <td>576</td>\n",
       "      <td>1</td>\n",
       "      <td>128.450000</td>\n",
       "      <td>128.450000</td>\n",
       "      <td>576</td>\n",
       "      <td>0.0</td>\n",
       "      <td>1.000000</td>\n",
       "      <td>0.000000e+00</td>\n",
       "      <td>0.850849</td>\n",
       "    </tr>\n",
       "    <tr>\n",
       "      <th>1</th>\n",
       "      <td>C10000</td>\n",
       "      <td>630</td>\n",
       "      <td>1</td>\n",
       "      <td>9481.892759</td>\n",
       "      <td>9481.892759</td>\n",
       "      <td>630</td>\n",
       "      <td>0.0</td>\n",
       "      <td>1.000000</td>\n",
       "      <td>2.909357e-07</td>\n",
       "      <td>0.120010</td>\n",
       "    </tr>\n",
       "    <tr>\n",
       "      <th>2</th>\n",
       "      <td>C100000</td>\n",
       "      <td>4</td>\n",
       "      <td>10</td>\n",
       "      <td>5839.516310</td>\n",
       "      <td>58395.163103</td>\n",
       "      <td>206</td>\n",
       "      <td>0.0</td>\n",
       "      <td>1.300000</td>\n",
       "      <td>7.986674e-03</td>\n",
       "      <td>0.283161</td>\n",
       "    </tr>\n",
       "    <tr>\n",
       "      <th>3</th>\n",
       "      <td>C1000000</td>\n",
       "      <td>6</td>\n",
       "      <td>7</td>\n",
       "      <td>7309.119409</td>\n",
       "      <td>51163.835862</td>\n",
       "      <td>888</td>\n",
       "      <td>0.0</td>\n",
       "      <td>1.285714</td>\n",
       "      <td>2.325194e-03</td>\n",
       "      <td>0.125778</td>\n",
       "    </tr>\n",
       "    <tr>\n",
       "      <th>4</th>\n",
       "      <td>C1000002</td>\n",
       "      <td>417</td>\n",
       "      <td>3</td>\n",
       "      <td>1023.338851</td>\n",
       "      <td>3070.016552</td>\n",
       "      <td>529</td>\n",
       "      <td>0.0</td>\n",
       "      <td>1.666667</td>\n",
       "      <td>2.134101e-06</td>\n",
       "      <td>0.063630</td>\n",
       "    </tr>\n",
       "    <tr>\n",
       "      <th>...</th>\n",
       "      <td>...</td>\n",
       "      <td>...</td>\n",
       "      <td>...</td>\n",
       "      <td>...</td>\n",
       "      <td>...</td>\n",
       "      <td>...</td>\n",
       "      <td>...</td>\n",
       "      <td>...</td>\n",
       "      <td>...</td>\n",
       "      <td>...</td>\n",
       "    </tr>\n",
       "    <tr>\n",
       "      <th>5430819</th>\n",
       "      <td>C999991</td>\n",
       "      <td>40</td>\n",
       "      <td>3</td>\n",
       "      <td>3785.686207</td>\n",
       "      <td>11357.058621</td>\n",
       "      <td>200</td>\n",
       "      <td>0.0</td>\n",
       "      <td>1.000000</td>\n",
       "      <td>1.039870e-02</td>\n",
       "      <td>0.132363</td>\n",
       "    </tr>\n",
       "    <tr>\n",
       "      <th>5430820</th>\n",
       "      <td>C999992</td>\n",
       "      <td>575</td>\n",
       "      <td>1</td>\n",
       "      <td>4134.480000</td>\n",
       "      <td>4134.480000</td>\n",
       "      <td>575</td>\n",
       "      <td>0.0</td>\n",
       "      <td>4.000000</td>\n",
       "      <td>0.000000e+00</td>\n",
       "      <td>0.215826</td>\n",
       "    </tr>\n",
       "    <tr>\n",
       "      <th>5430821</th>\n",
       "      <td>C999994</td>\n",
       "      <td>135</td>\n",
       "      <td>2</td>\n",
       "      <td>5619.051724</td>\n",
       "      <td>11238.103448</td>\n",
       "      <td>148</td>\n",
       "      <td>0.0</td>\n",
       "      <td>1.000000</td>\n",
       "      <td>5.983523e-03</td>\n",
       "      <td>0.099461</td>\n",
       "    </tr>\n",
       "    <tr>\n",
       "      <th>5430822</th>\n",
       "      <td>C999997</td>\n",
       "      <td>637</td>\n",
       "      <td>1</td>\n",
       "      <td>3987.100000</td>\n",
       "      <td>3987.100000</td>\n",
       "      <td>637</td>\n",
       "      <td>0.0</td>\n",
       "      <td>1.000000</td>\n",
       "      <td>0.000000e+00</td>\n",
       "      <td>0.000003</td>\n",
       "    </tr>\n",
       "    <tr>\n",
       "      <th>5430823</th>\n",
       "      <td>C999999</td>\n",
       "      <td>154</td>\n",
       "      <td>1</td>\n",
       "      <td>8619.798276</td>\n",
       "      <td>8619.798276</td>\n",
       "      <td>154</td>\n",
       "      <td>0.0</td>\n",
       "      <td>4.000000</td>\n",
       "      <td>3.898963e-03</td>\n",
       "      <td>0.000000</td>\n",
       "    </tr>\n",
       "  </tbody>\n",
       "</table>\n",
       "<p>5430824 rows × 10 columns</p>\n",
       "</div>"
      ],
      "text/plain": [
       "        Customer_ID  Recency  Frequency  Average_sales   Total_sales  Age  \\\n",
       "0                C1      576          1     128.450000    128.450000  576   \n",
       "1            C10000      630          1    9481.892759   9481.892759  630   \n",
       "2           C100000        4         10    5839.516310  58395.163103  206   \n",
       "3          C1000000        6          7    7309.119409  51163.835862  888   \n",
       "4          C1000002      417          3    1023.338851   3070.016552  529   \n",
       "...             ...      ...        ...            ...           ...  ...   \n",
       "5430819     C999991       40          3    3785.686207  11357.058621  200   \n",
       "5430820     C999992      575          1    4134.480000   4134.480000  575   \n",
       "5430821     C999994      135          2    5619.051724  11238.103448  148   \n",
       "5430822     C999997      637          1    3987.100000   3987.100000  637   \n",
       "5430823     C999999      154          1    8619.798276   8619.798276  154   \n",
       "\n",
       "         Ratio_cancellations  Basket_size  Shipping_ratio  Discount_ratio  \n",
       "0                        0.0     1.000000    0.000000e+00        0.850849  \n",
       "1                        0.0     1.000000    2.909357e-07        0.120010  \n",
       "2                        0.0     1.300000    7.986674e-03        0.283161  \n",
       "3                        0.0     1.285714    2.325194e-03        0.125778  \n",
       "4                        0.0     1.666667    2.134101e-06        0.063630  \n",
       "...                      ...          ...             ...             ...  \n",
       "5430819                  0.0     1.000000    1.039870e-02        0.132363  \n",
       "5430820                  0.0     4.000000    0.000000e+00        0.215826  \n",
       "5430821                  0.0     1.000000    5.983523e-03        0.099461  \n",
       "5430822                  0.0     1.000000    0.000000e+00        0.000003  \n",
       "5430823                  0.0     4.000000    3.898963e-03        0.000000  \n",
       "\n",
       "[5430824 rows x 10 columns]"
      ]
     },
     "execution_count": 8,
     "metadata": {},
     "output_type": "execute_result"
    }
   ],
   "source": [
    "#Imprime un sample de como luce la información. \n",
    "rfm_features"
   ]
  },
  {
   "cell_type": "code",
   "execution_count": 7,
   "metadata": {},
   "outputs": [],
   "source": [
    "def churn_label(future):\n",
    "    future['DidBuy'] = 1\n",
    "    return future.loc[:,[\"Customer_ID\",\"DidBuy\"]].drop_duplicates()"
   ]
  },
  {
   "cell_type": "markdown",
   "metadata": {},
   "source": [
    "#### Construcción de la base de información para el entrenamiento del modelo. "
   ]
  },
  {
   "cell_type": "markdown",
   "metadata": {},
   "source": [
    "Dentro del siguiente proceso, irémos de manera **trimestral** o por **quarter** construyendo las variables de etiqueta de CHunr a través del campo \"DidBuy\" y las demás variables del enfoque RFM.\n",
    "\n",
    "EL propósito de iterar sobre múltiples periodos es para capturar los efectos de temporalidad y estacionalidad que impactan o se reflejan dentro del comportmamiento del cliente. Con esto, realizaríamos un análisis de Churn con múltiples periodos. La frecuencia de análisis se haría de forma mensual y el dataset final es un consolidado con los atributos del RFM y Labels de Chunrn para cada periodo de análisis\n",
    "\n",
    "El periodo de iteración comprende desde Junio 2022 hasta el 2023, por lo que de manera mensual o mes a mes, irémos calculando las etiqutas de Churn y las caracterías del enfoque del RFM."
   ]
  },
  {
   "cell_type": "markdown",
   "metadata": {},
   "source": [
    "Definición de rangos de fechas con 3 Meses"
   ]
  },
  {
   "cell_type": "code",
   "execution_count": 9,
   "metadata": {},
   "outputs": [
    {
     "name": "stdout",
     "output_type": "stream",
     "text": [
      "Computing rfm features for 2021-03-31 00:00:00 to 2021-06-29 00:00:00\n",
      "Computing rfm features for 2021-06-30 00:00:00 to 2021-09-28 00:00:00\n",
      "Computing rfm features for 2021-09-30 00:00:00 to 2021-12-29 00:00:00\n",
      "Computing rfm features for 2021-12-31 00:00:00 to 2022-03-31 00:00:00\n",
      "Computing rfm features for 2022-03-31 00:00:00 to 2022-06-29 00:00:00\n",
      "Computing rfm features for 2022-06-30 00:00:00 to 2022-09-28 00:00:00\n",
      "Computing rfm features for 2022-09-30 00:00:00 to 2022-12-29 00:00:00\n",
      "Computing rfm features for 2022-12-31 00:00:00 to 2023-03-31 00:00:00\n",
      "Computing rfm features for 2023-03-31 00:00:00 to 2023-06-29 00:00:00\n"
     ]
    }
   ],
   "source": [
    "start_length = 90\n",
    "label_period_days = 90\n",
    "\n",
    "dset_list = list()\n",
    "\n",
    "start_date = df_customer.loc[:,[\"Fecha\"]].min() \n",
    "end_date = df_customer.loc[:,[\"Fecha\"]].max() \n",
    "\n",
    "dates = pd.date_range(start=start_date[0], end=end_date[0], freq='Q')\n",
    "#df_customer.Fecha = pd.to_datetime(df_customer.Fecha, format = \"%Y-%m-%d\") \n",
    "\n",
    "for cut_off in dates:\n",
    "    #observed = df_customer.loc[df_customer.Fecha <= cut_off,:]\n",
    "    future = df_customer.loc[(df_customer.Fecha > cut_off) & (df_customer.Fecha < cut_off + pd.Timedelta(label_period_days, unit='D')),:]\n",
    "\n",
    "    rfm_sdate = cut_off\n",
    "    rfm_edate = cut_off + pd.Timedelta(label_period_days, unit='D')\n",
    "\n",
    "    print(f\"Computing rfm features for {cut_off} to {rfm_edate}\")\n",
    "\n",
    "    #Obtenemos las características RFM de los clientes. \n",
    "    rfm_features = customer_rfm(df_customer, cut_off)\n",
    "    labels = churn_label(future)\n",
    "\n",
    "    dset = pd.merge(left= rfm_features, right=labels, how='outer', left_on=\"Customer_ID\",right_on=\"Customer_ID\").fillna(0)\n",
    "    dset_list.append(dset)\n",
    "\n",
    "#Concatenamos todos los datasets\n",
    "full_dataset = pd.concat(dset_list, axis = 0)\n",
    "res = full_dataset.loc[full_dataset.Recency != 0,:].dropna(axis = 1, how = 'any')"
   ]
  },
  {
   "cell_type": "markdown",
   "metadata": {},
   "source": [
    "Imprimimos una muestra de la base final que se consumirá por para de los modelos de ML para la fase de testing y entrenamiento"
   ]
  },
  {
   "cell_type": "code",
   "execution_count": 11,
   "metadata": {},
   "outputs": [
    {
     "data": {
      "text/html": [
       "<div>\n",
       "<style scoped>\n",
       "    .dataframe tbody tr th:only-of-type {\n",
       "        vertical-align: middle;\n",
       "    }\n",
       "\n",
       "    .dataframe tbody tr th {\n",
       "        vertical-align: top;\n",
       "    }\n",
       "\n",
       "    .dataframe thead th {\n",
       "        text-align: right;\n",
       "    }\n",
       "</style>\n",
       "<table border=\"1\" class=\"dataframe\">\n",
       "  <thead>\n",
       "    <tr style=\"text-align: right;\">\n",
       "      <th></th>\n",
       "      <th>Customer_ID</th>\n",
       "      <th>Recency</th>\n",
       "      <th>Frequency</th>\n",
       "      <th>Average_sales</th>\n",
       "      <th>Total_sales</th>\n",
       "      <th>Age</th>\n",
       "      <th>Ratio_cancellations</th>\n",
       "      <th>Basket_size</th>\n",
       "      <th>Shipping_ratio</th>\n",
       "      <th>Discount_ratio</th>\n",
       "      <th>DidBuy</th>\n",
       "    </tr>\n",
       "  </thead>\n",
       "  <tbody>\n",
       "    <tr>\n",
       "      <th>0</th>\n",
       "      <td>C1000000</td>\n",
       "      <td>87.0</td>\n",
       "      <td>1.0</td>\n",
       "      <td>1033.610000</td>\n",
       "      <td>1033.610000</td>\n",
       "      <td>87.0</td>\n",
       "      <td>0.0</td>\n",
       "      <td>1.0</td>\n",
       "      <td>0.000000e+00</td>\n",
       "      <td>0.000010</td>\n",
       "      <td>1.0</td>\n",
       "    </tr>\n",
       "    <tr>\n",
       "      <th>1</th>\n",
       "      <td>C1000007</td>\n",
       "      <td>80.0</td>\n",
       "      <td>1.0</td>\n",
       "      <td>11874.120000</td>\n",
       "      <td>11874.120000</td>\n",
       "      <td>80.0</td>\n",
       "      <td>0.0</td>\n",
       "      <td>2.0</td>\n",
       "      <td>1.408441e-02</td>\n",
       "      <td>0.153621</td>\n",
       "      <td>0.0</td>\n",
       "    </tr>\n",
       "    <tr>\n",
       "      <th>2</th>\n",
       "      <td>C1000020</td>\n",
       "      <td>34.0</td>\n",
       "      <td>1.0</td>\n",
       "      <td>6801.710000</td>\n",
       "      <td>6801.710000</td>\n",
       "      <td>34.0</td>\n",
       "      <td>0.0</td>\n",
       "      <td>1.0</td>\n",
       "      <td>0.000000e+00</td>\n",
       "      <td>0.122360</td>\n",
       "      <td>0.0</td>\n",
       "    </tr>\n",
       "    <tr>\n",
       "      <th>3</th>\n",
       "      <td>C1000021</td>\n",
       "      <td>36.0</td>\n",
       "      <td>1.0</td>\n",
       "      <td>4783.623793</td>\n",
       "      <td>4783.623793</td>\n",
       "      <td>36.0</td>\n",
       "      <td>0.0</td>\n",
       "      <td>1.0</td>\n",
       "      <td>7.929351e-07</td>\n",
       "      <td>0.000000</td>\n",
       "      <td>0.0</td>\n",
       "    </tr>\n",
       "    <tr>\n",
       "      <th>4</th>\n",
       "      <td>C1000024</td>\n",
       "      <td>53.0</td>\n",
       "      <td>1.0</td>\n",
       "      <td>654.311034</td>\n",
       "      <td>654.311034</td>\n",
       "      <td>53.0</td>\n",
       "      <td>0.0</td>\n",
       "      <td>1.0</td>\n",
       "      <td>1.581026e-06</td>\n",
       "      <td>0.000000</td>\n",
       "      <td>1.0</td>\n",
       "    </tr>\n",
       "    <tr>\n",
       "      <th>...</th>\n",
       "      <td>...</td>\n",
       "      <td>...</td>\n",
       "      <td>...</td>\n",
       "      <td>...</td>\n",
       "      <td>...</td>\n",
       "      <td>...</td>\n",
       "      <td>...</td>\n",
       "      <td>...</td>\n",
       "      <td>...</td>\n",
       "      <td>...</td>\n",
       "      <td>...</td>\n",
       "    </tr>\n",
       "    <tr>\n",
       "      <th>4990822</th>\n",
       "      <td>C999991</td>\n",
       "      <td>129.0</td>\n",
       "      <td>1.0</td>\n",
       "      <td>4205.340690</td>\n",
       "      <td>4205.340690</td>\n",
       "      <td>129.0</td>\n",
       "      <td>0.0</td>\n",
       "      <td>1.0</td>\n",
       "      <td>7.994760e-03</td>\n",
       "      <td>0.198719</td>\n",
       "      <td>1.0</td>\n",
       "    </tr>\n",
       "    <tr>\n",
       "      <th>4990823</th>\n",
       "      <td>C999992</td>\n",
       "      <td>504.0</td>\n",
       "      <td>1.0</td>\n",
       "      <td>4134.480000</td>\n",
       "      <td>4134.480000</td>\n",
       "      <td>504.0</td>\n",
       "      <td>0.0</td>\n",
       "      <td>4.0</td>\n",
       "      <td>0.000000e+00</td>\n",
       "      <td>0.215826</td>\n",
       "      <td>0.0</td>\n",
       "    </tr>\n",
       "    <tr>\n",
       "      <th>4990824</th>\n",
       "      <td>C999994</td>\n",
       "      <td>64.0</td>\n",
       "      <td>2.0</td>\n",
       "      <td>5619.051724</td>\n",
       "      <td>11238.103448</td>\n",
       "      <td>77.0</td>\n",
       "      <td>0.0</td>\n",
       "      <td>1.0</td>\n",
       "      <td>5.983523e-03</td>\n",
       "      <td>0.099461</td>\n",
       "      <td>0.0</td>\n",
       "    </tr>\n",
       "    <tr>\n",
       "      <th>4990825</th>\n",
       "      <td>C999997</td>\n",
       "      <td>566.0</td>\n",
       "      <td>1.0</td>\n",
       "      <td>3987.100000</td>\n",
       "      <td>3987.100000</td>\n",
       "      <td>566.0</td>\n",
       "      <td>0.0</td>\n",
       "      <td>1.0</td>\n",
       "      <td>0.000000e+00</td>\n",
       "      <td>0.000003</td>\n",
       "      <td>0.0</td>\n",
       "    </tr>\n",
       "    <tr>\n",
       "      <th>4990826</th>\n",
       "      <td>C999999</td>\n",
       "      <td>83.0</td>\n",
       "      <td>1.0</td>\n",
       "      <td>8619.798276</td>\n",
       "      <td>8619.798276</td>\n",
       "      <td>83.0</td>\n",
       "      <td>0.0</td>\n",
       "      <td>4.0</td>\n",
       "      <td>3.898963e-03</td>\n",
       "      <td>0.000000</td>\n",
       "      <td>0.0</td>\n",
       "    </tr>\n",
       "  </tbody>\n",
       "</table>\n",
       "<p>26181433 rows × 11 columns</p>\n",
       "</div>"
      ],
      "text/plain": [
       "        Customer_ID  Recency  Frequency  Average_sales   Total_sales    Age  \\\n",
       "0          C1000000     87.0        1.0    1033.610000   1033.610000   87.0   \n",
       "1          C1000007     80.0        1.0   11874.120000  11874.120000   80.0   \n",
       "2          C1000020     34.0        1.0    6801.710000   6801.710000   34.0   \n",
       "3          C1000021     36.0        1.0    4783.623793   4783.623793   36.0   \n",
       "4          C1000024     53.0        1.0     654.311034    654.311034   53.0   \n",
       "...             ...      ...        ...            ...           ...    ...   \n",
       "4990822     C999991    129.0        1.0    4205.340690   4205.340690  129.0   \n",
       "4990823     C999992    504.0        1.0    4134.480000   4134.480000  504.0   \n",
       "4990824     C999994     64.0        2.0    5619.051724  11238.103448   77.0   \n",
       "4990825     C999997    566.0        1.0    3987.100000   3987.100000  566.0   \n",
       "4990826     C999999     83.0        1.0    8619.798276   8619.798276   83.0   \n",
       "\n",
       "         Ratio_cancellations  Basket_size  Shipping_ratio  Discount_ratio  \\\n",
       "0                        0.0          1.0    0.000000e+00        0.000010   \n",
       "1                        0.0          2.0    1.408441e-02        0.153621   \n",
       "2                        0.0          1.0    0.000000e+00        0.122360   \n",
       "3                        0.0          1.0    7.929351e-07        0.000000   \n",
       "4                        0.0          1.0    1.581026e-06        0.000000   \n",
       "...                      ...          ...             ...             ...   \n",
       "4990822                  0.0          1.0    7.994760e-03        0.198719   \n",
       "4990823                  0.0          4.0    0.000000e+00        0.215826   \n",
       "4990824                  0.0          1.0    5.983523e-03        0.099461   \n",
       "4990825                  0.0          1.0    0.000000e+00        0.000003   \n",
       "4990826                  0.0          4.0    3.898963e-03        0.000000   \n",
       "\n",
       "         DidBuy  \n",
       "0           1.0  \n",
       "1           0.0  \n",
       "2           0.0  \n",
       "3           0.0  \n",
       "4           1.0  \n",
       "...         ...  \n",
       "4990822     1.0  \n",
       "4990823     0.0  \n",
       "4990824     0.0  \n",
       "4990825     0.0  \n",
       "4990826     0.0  \n",
       "\n",
       "[26181433 rows x 11 columns]"
      ]
     },
     "execution_count": 11,
     "metadata": {},
     "output_type": "execute_result"
    }
   ],
   "source": [
    "res"
   ]
  },
  {
   "cell_type": "markdown",
   "metadata": {},
   "source": [
    "## **Entrenamiento de Modelos de Machine Learning**\n"
   ]
  },
  {
   "cell_type": "markdown",
   "metadata": {},
   "source": [
    "Antes de pasar al entrenamiento del modelo de ML, se harán algunos procesos adicionales de tratamiento de información como lo es el uso de MinMaxScaler para escalar los datos entre los rango de 1 y 0.\n",
    "\n",
    "Dado que nuenuestra base de información, en cada una de las variables del enfoque RFM no poseen una distribución normal, se considera usar el procesamiento a través del MinMaxScaler."
   ]
  },
  {
   "cell_type": "markdown",
   "metadata": {},
   "source": [
    "Seperando nuestros datos en conjunto de **entrenamiento**, **test** y aplicación de escalamiento de datos (MinMaxScaler)."
   ]
  },
  {
   "cell_type": "code",
   "execution_count": 10,
   "metadata": {},
   "outputs": [],
   "source": [
    "from sklearn.model_selection import train_test_split\n",
    "from sklearn.preprocessing import MinMaxScaler\n",
    "\n",
    "rec_df = res.sample(frac=1)\n",
    "\n",
    "# Obtenemos la matriz de datos o features y la matriz de respuesta.\n",
    "X = rec_df.loc[:,[\"Recency\",\"Frequency\",\"Average_sales\",\"Age\",\"Ratio_cancellations\",\"Basket_size\",\"Shipping_ratio\",\"Discount_ratio\"]].values\n",
    "y = rec_df.loc[:,[\"DidBuy\"]].values.reshape(-1)\n",
    "\n",
    "#Aplicamos el método fit_transform a través de Min-Max Scaler para  transformar nuestros datos. \n",
    "scaler = MinMaxScaler()\n",
    "X_scale  = scaler.fit_transform(X)\n",
    "\n",
    "test_size = 0.2\n",
    "X_train, X_test, y_train, y_test = train_test_split(X_scale, y, test_size=test_size, random_state=42, shuffle=True)"
   ]
  },
  {
   "cell_type": "markdown",
   "metadata": {},
   "source": [
    "### SMOTE - Atacando el problema de desbalanceo en nuestra base de información. \n",
    "Importante, observemos  lo siguiente:"
   ]
  },
  {
   "cell_type": "code",
   "execution_count": 11,
   "metadata": {},
   "outputs": [
    {
     "data": {
      "text/plain": [
       "0.0    23247981\n",
       "1.0     2933452\n",
       "Name: DidBuy, dtype: int64"
      ]
     },
     "execution_count": 11,
     "metadata": {},
     "output_type": "execute_result"
    }
   ],
   "source": [
    "rec_df.DidBuy.value_counts()"
   ]
  },
  {
   "cell_type": "markdown",
   "metadata": {},
   "source": [
    "Como se observa, alrededor de del 7.8% de las observaciones son aquellos clientes que han realizado una compra en los periodos futuros de observación, mientras que el 92.2% de los cliente no realizaron una compra **(Churn)**\n",
    "\n",
    "La clase minoría en este caso son los **clientes con compra**.\n",
    "La clase mayorista eran los **clientes sin compra** o **clientes con Churn**.\n",
    "\n",
    "Así, tenemos un problema de **clases imbalanceadas**. \n",
    "\n",
    "Para atacar el problmea anterior, usarémos una técnica denominada SMOTE (Synthetic Minotiry Oversampling Technique). Lo que harémos es hacer sampling para tener más registros de la clase minorísta , es decir, de aquellos **clientes con compra**. \n",
    "\n"
   ]
  },
  {
   "cell_type": "code",
   "execution_count": 12,
   "metadata": {},
   "outputs": [],
   "source": [
    "from imblearn.over_sampling import SMOTE\n",
    "oversample = SMOTE()\n",
    "X_train_over, y_train_over = oversample.fit_resample(X_train, y_train)"
   ]
  },
  {
   "cell_type": "code",
   "execution_count": 13,
   "metadata": {},
   "outputs": [
    {
     "data": {
      "text/plain": [
       "0.0    18599204\n",
       "1.0    18599204\n",
       "dtype: int64"
      ]
     },
     "execution_count": 13,
     "metadata": {},
     "output_type": "execute_result"
    }
   ],
   "source": [
    "pd.Series(y_train_over).value_counts()"
   ]
  },
  {
   "cell_type": "markdown",
   "metadata": {},
   "source": [
    "Se realizó un oversampling de la clase minoría para así tratar de arreglar el problema de desbalanceo. \n",
    "\n",
    "**Nuestra proporción de clases ahora está 50 - 50.**"
   ]
  },
  {
   "cell_type": "markdown",
   "metadata": {},
   "source": [
    "### **Entrenamiento del 1er modelo de Machine Learning : Decision Trees**"
   ]
  },
  {
   "cell_type": "markdown",
   "metadata": {},
   "source": [
    "Dentro del siguiente ejercicio, utilizaremos un modelo de arbol de decisión para nuestro problema de clasificación de Churn.\n",
    "\n",
    "Utilizaremos la medida de 'gini' como criterio de split de información para cada nodo interno hasta alcanzar nodos terminales. Nuestro arbol tendrá un máxima profundidad de 8, el splitter se considera como 'best', y min_sample_split = 8.\n"
   ]
  },
  {
   "cell_type": "code",
   "execution_count": 43,
   "metadata": {},
   "outputs": [],
   "source": [
    "from sklearn.metrics import accuracy_score\n",
    "from sklearn import metrics\n",
    "from sklearn.tree import DecisionTreeClassifier\n",
    "\n",
    "clf= DecisionTreeClassifier(\n",
    "    criterion='gini',\n",
    "    max_depth=8,\n",
    "    min_samples_split=8,\n",
    "    min_samples_leaf=1,\n",
    "    max_features=None,\n",
    "    splitter='best',\n",
    "    random_state=1234\n",
    ")\n",
    "\n",
    "clf_no = clf.fit(X_train, y_train) \n",
    "clf_wo = clf.fit(X_train_over, y_train_over) "
   ]
  },
  {
   "cell_type": "code",
   "execution_count": 44,
   "metadata": {},
   "outputs": [
    {
     "name": "stdout",
     "output_type": "stream",
     "text": [
      "Accuary datos entrenamiento: 0.7621, Accuracy datos Test: 0.7619, Accuracy test Oversampled: 0.7619\n"
     ]
    }
   ],
   "source": [
    "# Guaradmos los valores reales del conjunto de entrenamiento y  \n",
    "predictions = pd.DataFrame()\n",
    "predictions['true'] = y_train\n",
    "predictions['preds'] = clf_no.predict(X_train) #Predicciones sobre el training set\n",
    "\n",
    "# Test set\n",
    "predictions_test = pd.DataFrame()\n",
    "predictions_test['true'] = y_test\n",
    "predictions_test['preds'] = clf_no.predict(X_test)\n",
    "predictions_test['preds_over'] = clf_wo.predict(X_test)\n",
    "\n",
    "#Calculamos el accuracy de los pronósticos\n",
    "# Calculamos el accuracy \n",
    "train_acc = accuracy_score(predictions.true, predictions.preds)\n",
    "test_acc = accuracy_score(predictions_test.true, predictions_test.preds)\n",
    "test_acc_over = accuracy_score(predictions_test.true, predictions_test.preds_over)\n",
    "\n",
    "print(f\"Accuary datos entrenamiento: {train_acc:.4f}, Accuracy datos Test: {test_acc:.4f}, Accuracy test Oversampled: {test_acc_over:.4f}\")\n"
   ]
  },
  {
   "cell_type": "markdown",
   "metadata": {},
   "source": [
    "Matríz de confusión sobre datos **sin oversampling - SMOTE**"
   ]
  },
  {
   "cell_type": "code",
   "execution_count": 45,
   "metadata": {},
   "outputs": [
    {
     "data": {
      "text/plain": [
       "<sklearn.metrics._plot.confusion_matrix.ConfusionMatrixDisplay at 0x2a3d4195808>"
      ]
     },
     "execution_count": 45,
     "metadata": {},
     "output_type": "execute_result"
    },
    {
     "data": {
      "text/plain": [
       "<Figure size 864x288 with 0 Axes>"
      ]
     },
     "metadata": {},
     "output_type": "display_data"
    },
    {
     "data": {
      "image/png": "[encoded data removed]",
      "text/plain": [
       "<Figure size 432x288 with 2 Axes>"
      ]
     },
     "metadata": {
      "needs_background": "light"
     },
     "output_type": "display_data"
    }
   ],
   "source": [
    "# Graficamos una matriz de confusión\n",
    "plt.figure(figsize=(12,4))\n",
    "metrics.plot_confusion_matrix(clf_no, X_test, y_test, display_labels=['Negative', 'Positive'])"
   ]
  },
  {
   "cell_type": "markdown",
   "metadata": {},
   "source": [
    "Matríz de confusión sobre datos **con oversampling - SMOTE**"
   ]
  },
  {
   "cell_type": "code",
   "execution_count": 46,
   "metadata": {},
   "outputs": [
    {
     "data": {
      "text/plain": [
       "<sklearn.metrics._plot.confusion_matrix.ConfusionMatrixDisplay at 0x2a3d3088848>"
      ]
     },
     "execution_count": 46,
     "metadata": {},
     "output_type": "execute_result"
    },
    {
     "data": {
      "text/plain": [
       "<Figure size 864x288 with 0 Axes>"
      ]
     },
     "metadata": {},
     "output_type": "display_data"
    },
    {
     "data": {
      "image/png": "[encoded data removed]",
      "text/plain": [
       "<Figure size 432x288 with 2 Axes>"
      ]
     },
     "metadata": {
      "needs_background": "light"
     },
     "output_type": "display_data"
    }
   ],
   "source": [
    "plt.figure(figsize=(12,4))\n",
    "metrics.plot_confusion_matrix(clf_wo, X_test, y_test, display_labels=['Negative', 'Positive'])"
   ]
  },
  {
   "cell_type": "markdown",
   "metadata": {},
   "source": [
    "Reporte de performance sobre datos sin **oversampling - SMOTE**"
   ]
  },
  {
   "cell_type": "code",
   "execution_count": 47,
   "metadata": {},
   "outputs": [
    {
     "name": "stdout",
     "output_type": "stream",
     "text": [
      "              precision    recall  f1-score   support\n",
      "\n",
      "         0.0       0.93      0.79      0.86   4648777\n",
      "         1.0       0.24      0.51      0.33    587510\n",
      "\n",
      "    accuracy                           0.76   5236287\n",
      "   macro avg       0.58      0.65      0.59   5236287\n",
      "weighted avg       0.85      0.76      0.80   5236287\n",
      "\n"
     ]
    }
   ],
   "source": [
    "print(metrics.classification_report(predictions_test.true, predictions_test.preds))"
   ]
  },
  {
   "cell_type": "markdown",
   "metadata": {},
   "source": [
    "Reporte de performance sobre datos con **oversampling - SMOTE**"
   ]
  },
  {
   "cell_type": "code",
   "execution_count": 48,
   "metadata": {},
   "outputs": [
    {
     "name": "stdout",
     "output_type": "stream",
     "text": [
      "              precision    recall  f1-score   support\n",
      "\n",
      "         0.0       0.93      0.79      0.86   4648777\n",
      "         1.0       0.24      0.51      0.33    587510\n",
      "\n",
      "    accuracy                           0.76   5236287\n",
      "   macro avg       0.58      0.65      0.59   5236287\n",
      "weighted avg       0.85      0.76      0.80   5236287\n",
      "\n"
     ]
    }
   ],
   "source": [
    "print(metrics.classification_report(predictions_test.true, predictions_test.preds_over))"
   ]
  },
  {
   "cell_type": "markdown",
   "metadata": {},
   "source": [
    "**Resultados**\n",
    "\n",
    "Dataset sin **SMOTE u oversampling**:\n",
    "\n",
    "Vemos que el accuracy del test set y el training set sin oversampling es de 0.76, mientras que con el oversampling | SMOTE el accuracy es practiamente igual.\n",
    "\n",
    "No se tiene una diferenciación en los resultados si comparamos la base original contra aquella con SMOTE\n",
    "\n",
    "Véamos que para este modelo, tenemos buenos índices de recall y precision de la clase \"Churn\", 0.79 y 0.93 respectivamente. Por otra parte, se observa que el F1 score de la clase 0 es 0.86 y 0.33 para la clase positiva. El modelo presenta mejor performance en términos de recall para la clase positiva, es decir, de 0.51. Por otra parte, en precision quedamos en 0.24 y F1 score con 0.33. Nuestro modelo presentaría oportunidad para identificar a la clase positiva o \"No Churn\". "
   ]
  },
  {
   "cell_type": "markdown",
   "metadata": {},
   "source": [
    "**ROC Curve | Datos con oversampling - SMOTE y Datos sin Oversampling**\n"
   ]
  },
  {
   "cell_type": "code",
   "execution_count": 49,
   "metadata": {},
   "outputs": [
    {
     "name": "stdout",
     "output_type": "stream",
     "text": [
      "0.7060715458622626 0.7060715458622626\n"
     ]
    },
    {
     "data": {
      "image/png": "[encoded data removed]",
      "text/plain": [
       "<Figure size 576x432 with 1 Axes>"
      ]
     },
     "metadata": {
      "needs_background": "light"
     },
     "output_type": "display_data"
    }
   ],
   "source": [
    "y_scores_tree_no = clf_no.predict_proba(X_test)\n",
    "y_scores_tree_wo = clf_wo.predict_proba(X_test)\n",
    "\n",
    "\n",
    "fpr_tree_no, tpr_tree_no, thresholds_tree_no = roc_curve(y_test, y_scores_tree_no[:,1])\n",
    "roc_auc_tree_no = auc(fpr_tree_no, tpr_tree_no)   # Este es el indicador AUC de la curva ROC\n",
    "\n",
    "fpr_tree_wo, tpr_tree_wo, thresholds_tree_wo = roc_curve(y_test, y_scores_tree_wo[:,1])\n",
    "roc_auc_tree_wo = auc(fpr_tree_wo, tpr_tree_wo)   # Este es el indicador AUC de la curva ROC\n",
    "\n",
    "print(roc_auc_tree_no, roc_auc_tree_wo)\n",
    "\n",
    "plt.figure(figsize=(8, 6))\n",
    "plt.plot(fpr_tree_no, tpr_tree_no, color='darkorange', lw=2, label=f'Decision Tree (AUC = {roc_auc_tree_no:.2f})')\n",
    "plt.plot([0, 1], [0, 1], color='navy', lw=2, linestyle='--')\n",
    "plt.xlabel('False Positive Rate')\n",
    "plt.ylabel('True Positive Rate')\n",
    "plt.title('Receiver Operating Characteristic (ROC) Curve for Decision Tree')\n",
    "plt.legend(loc='lower right')\n",
    "plt.show()"
   ]
  },
  {
   "cell_type": "markdown",
   "metadata": {},
   "source": [
    "El gráfico anterior muestra el indicador **AUC** de la curva **ROC** con un valor de 0.71, lo cual, tiene buen performance en cuanto a la diferenciación de las dos clases: **\"Churn\"** y **\"No Churn\"**."
   ]
  },
  {
   "cell_type": "markdown",
   "metadata": {},
   "source": [
    "### **Entrenamiento del 2do (a) modelo de Machine Learning : BAGGING METHOD - RANDOM FORESTS**"
   ]
  },
  {
   "cell_type": "markdown",
   "metadata": {},
   "source": [
    "En este caso, utilizaremos métodos de ensamblaje para entrenar nuestro modelo de Machine Learning y así entrender cuales son los clientes con mayor riesgo de presentar **Churn.**\n",
    "\n",
    "Este problema es del tipo supervisadO por lo que el Modelo utilizado será el siguiente: **Random Forest**\n",
    "\n",
    "También, se entrenan dos modelos: Una base con el conjunto de información original y otro con SMOTE aplicado. Esto, para reducir el sesgo producido por el problema de desbalanceo.  "
   ]
  },
  {
   "cell_type": "code",
   "execution_count": 51,
   "metadata": {},
   "outputs": [],
   "source": [
    "from sklearn.metrics import accuracy_score\n",
    "from sklearn import metrics\n",
    "from sklearn.ensemble import RandomForestClassifier\n",
    "\n",
    "#Entrenamos el modelo sobre la base de información imbalanceada\n",
    "rf = RandomForestClassifier(random_state=42, n_estimators = 100, criterion = 'entropy', min_samples_split = 3, min_samples_leaf = 2, max_depth = 10).fit(X_train,y_train)\n",
    "\n",
    "#Entrenamos el modelo sobre la nueva base con la clase minoría con oversampling | SMOTE\n",
    "rf_over = RandomForestClassifier(random_state=42, n_estimators = 100, criterion = 'entropy', min_samples_split = 3, min_samples_leaf = 2, max_depth = 10).fit(X_train_over, y_train_over)"
   ]
  },
  {
   "cell_type": "markdown",
   "metadata": {},
   "source": [
    "#### Evaluación del Modelo de clasificación de Random Forests. "
   ]
  },
  {
   "cell_type": "markdown",
   "metadata": {},
   "source": [
    "Accuracy assessment: En base al modelo anterior, harémos las predicciones correspondiente sobre el dataset de muestra y training y así revisar **Accuracy** de clasificiación. "
   ]
  },
  {
   "cell_type": "code",
   "execution_count": 52,
   "metadata": {},
   "outputs": [
    {
     "name": "stdout",
     "output_type": "stream",
     "text": [
      "Accuary datos entrenamiento: 0.8910, Accuracy datos Test: 0.8908, Accuracy test Oversampled: 0.7471\n"
     ]
    }
   ],
   "source": [
    "# Guaradmos los valores reales del conjunto de entrenamiento y  \n",
    "predictions = pd.DataFrame()\n",
    "predictions['true'] = y_train\n",
    "predictions['preds'] = rf.predict(X_train)\n",
    "\n",
    "# Test set\n",
    "predictions_test = pd.DataFrame()\n",
    "predictions_test['true'] = y_test\n",
    "predictions_test['preds'] = rf.predict(X_test)\n",
    "predictions_test['preds_over'] = rf_over.predict(X_test)\n",
    "\n",
    "# Calculamos el accuracy \n",
    "train_acc = accuracy_score(predictions.true, predictions.preds)\n",
    "test_acc = accuracy_score(predictions_test.true, predictions_test.preds)\n",
    "test_acc_over = accuracy_score(predictions_test.true, predictions_test.preds_over)\n",
    "\n",
    "print(f\"Accuary datos entrenamiento: {train_acc:.4f}, Accuracy datos Test: {test_acc:.4f}, Accuracy test Oversampled: {test_acc_over:.4f}\")"
   ]
  },
  {
   "cell_type": "markdown",
   "metadata": {},
   "source": [
    "Matríz de confusión sobre datos sin **oversampling - SMOTE**"
   ]
  },
  {
   "cell_type": "code",
   "execution_count": 53,
   "metadata": {},
   "outputs": [
    {
     "data": {
      "text/plain": [
       "<sklearn.metrics._plot.confusion_matrix.ConfusionMatrixDisplay at 0x2a3d2f5d708>"
      ]
     },
     "execution_count": 53,
     "metadata": {},
     "output_type": "execute_result"
    },
    {
     "data": {
      "text/plain": [
       "<Figure size 864x288 with 0 Axes>"
      ]
     },
     "metadata": {},
     "output_type": "display_data"
    },
    {
     "data": {
      "image/png": "[encoded data removed]",
      "text/plain": [
       "<Figure size 432x288 with 2 Axes>"
      ]
     },
     "metadata": {
      "needs_background": "light"
     },
     "output_type": "display_data"
    }
   ],
   "source": [
    "# Graficamos una matriz de confusión\n",
    "plt.figure(figsize=(12,4))\n",
    "metrics.plot_confusion_matrix(rf, X_test, y_test, display_labels=['Negative', 'Positive'])"
   ]
  },
  {
   "cell_type": "markdown",
   "metadata": {},
   "source": [
    "Matríz de confusión sobre datos con **oversampling - SMOTE**"
   ]
  },
  {
   "cell_type": "code",
   "execution_count": 54,
   "metadata": {},
   "outputs": [
    {
     "data": {
      "text/plain": [
       "<sklearn.metrics._plot.confusion_matrix.ConfusionMatrixDisplay at 0x2a3d2f41708>"
      ]
     },
     "execution_count": 54,
     "metadata": {},
     "output_type": "execute_result"
    },
    {
     "data": {
      "text/plain": [
       "<Figure size 864x288 with 0 Axes>"
      ]
     },
     "metadata": {},
     "output_type": "display_data"
    },
    {
     "data": {
      "image/png": "[encoded data removed]",
      "text/plain": [
       "<Figure size 432x288 with 2 Axes>"
      ]
     },
     "metadata": {
      "needs_background": "light"
     },
     "output_type": "display_data"
    }
   ],
   "source": [
    "plt.figure(figsize=(12,4))\n",
    "metrics.plot_confusion_matrix(rf_over, X_test, y_test, display_labels=['Negative', 'Positive'])"
   ]
  },
  {
   "cell_type": "markdown",
   "metadata": {},
   "source": [
    "Reporte de Precision - Recall - F1 Score | **Datos sin oversampling - SMOTE**\n"
   ]
  },
  {
   "cell_type": "code",
   "execution_count": 55,
   "metadata": {},
   "outputs": [
    {
     "name": "stdout",
     "output_type": "stream",
     "text": [
      "              precision    recall  f1-score   support\n",
      "\n",
      "         0.0       0.89      1.00      0.94   4648777\n",
      "         1.0       0.66      0.05      0.10    587510\n",
      "\n",
      "    accuracy                           0.89   5236287\n",
      "   macro avg       0.78      0.53      0.52   5236287\n",
      "weighted avg       0.87      0.89      0.85   5236287\n",
      "\n"
     ]
    }
   ],
   "source": [
    "print(metrics.classification_report(predictions_test.true, predictions_test.preds))"
   ]
  },
  {
   "cell_type": "markdown",
   "metadata": {},
   "source": [
    "Reporte de Precision - Recall - F1 Score | **Datos con oversampling - SMOTE**\n"
   ]
  },
  {
   "cell_type": "code",
   "execution_count": 56,
   "metadata": {},
   "outputs": [
    {
     "name": "stdout",
     "output_type": "stream",
     "text": [
      "              precision    recall  f1-score   support\n",
      "\n",
      "         0.0       0.93      0.77      0.84   4648777\n",
      "         1.0       0.24      0.56      0.33    587510\n",
      "\n",
      "    accuracy                           0.75   5236287\n",
      "   macro avg       0.58      0.66      0.59   5236287\n",
      "weighted avg       0.85      0.75      0.79   5236287\n",
      "\n"
     ]
    }
   ],
   "source": [
    "print(metrics.classification_report(predictions_test.true, predictions_test.preds_over))"
   ]
  },
  {
   "cell_type": "markdown",
   "metadata": {},
   "source": [
    "**Resultados**\n",
    "\n",
    "El uso de SMOTE en nuestro modelo de Arboles aleatorios sacrifica performance de precision para la clase positiva, sin emabrgo, aumentamos el recall. También, se observa una mejor de F1 Score para la clase positiva, de 0.10 a 0.33.\n",
    "\n",
    "El accuracy en SMOTE se castiga, pasando de 0.89 a 0.75. Para este caso, podemos utilizar este modelo con un mayor balanceo a través de SMOTE para la construcción de nuestro modelos de **predicción de Churn**. Se presenta el mismo comportamiento de performance repecto a la variante B.\n",
    "\n"
   ]
  },
  {
   "cell_type": "markdown",
   "metadata": {},
   "source": [
    "**ROC Curve | Datos con oversampling - SMOTE y Datos sin Oversampling**"
   ]
  },
  {
   "cell_type": "markdown",
   "metadata": {},
   "source": [
    "La curva ROC se calculó y graficó, para este caso, con el conjunto de datos **sin Oversampling**."
   ]
  },
  {
   "cell_type": "code",
   "execution_count": 57,
   "metadata": {},
   "outputs": [
    {
     "name": "stdout",
     "output_type": "stream",
     "text": [
      "0.7301736681682739 0.7236803217586222\n"
     ]
    },
    {
     "data": {
      "image/png": "[encoded data removed]",
      "text/plain": [
       "<Figure size 576x432 with 1 Axes>"
      ]
     },
     "metadata": {
      "needs_background": "light"
     },
     "output_type": "display_data"
    }
   ],
   "source": [
    "y_scores_tree_no = rf.predict_proba(X_test)\n",
    "y_scores_tree_wo = rf_over.predict_proba(X_test)\n",
    "\n",
    "fpr_tree_no, tpr_tree_no, thresholds_tree_no = roc_curve(y_test, y_scores_tree_no[:,1])\n",
    "roc_auc_tree_no = auc(fpr_tree_no, tpr_tree_no)   # Este es el indicador AUC de la curva ROC\n",
    "\n",
    "fpr_tree_wo, tpr_tree_wo, thresholds_tree_wo = roc_curve(y_test, y_scores_tree_wo[:,1])\n",
    "roc_auc_tree_wo = auc(fpr_tree_wo, tpr_tree_wo)   # Este es el indicador AUC de la curva ROC\n",
    "\n",
    "print(roc_auc_tree_no, roc_auc_tree_wo)\n",
    "\n",
    "plt.figure(figsize=(8, 6))\n",
    "plt.plot(fpr_tree_no, tpr_tree_no, color='darkorange', lw=2, label=f'Random Forests (AUC = {roc_auc_tree_no:.2f})')\n",
    "plt.plot([0, 1], [0, 1], color='navy', lw=2, linestyle='--')\n",
    "plt.xlabel('False Positive Rate')\n",
    "plt.ylabel('True Positive Rate')\n",
    "plt.title('Receiver Operating Characteristic (ROC) Curve for Random Forests')\n",
    "plt.legend(loc='lower right')\n",
    "plt.show()"
   ]
  },
  {
   "cell_type": "markdown",
   "metadata": {},
   "source": [
    "El gráfico anterior muestra el indicador **AUC** de la curva **ROC** con un valor de **0.73**, lo cual, tiene buen performance en cuanto a la diferenciación de las dos clases: **\"Churn\"** y **\"No Churn\"**."
   ]
  },
  {
   "cell_type": "markdown",
   "metadata": {},
   "source": [
    "### **Entrenamiento del 2do (b) modelo de Machine Learning : BAGGING METHOD - RANDOM FORESTS**"
   ]
  },
  {
   "cell_type": "code",
   "execution_count": 58,
   "metadata": {},
   "outputs": [],
   "source": [
    "from sklearn.metrics import accuracy_score\n",
    "from sklearn import metrics\n",
    "from sklearn.ensemble import RandomForestClassifier\n",
    "\n",
    "#Entrenamos el modelo sobre la base de información imbalanceada\n",
    "rf = RandomForestClassifier(random_state=42,n_estimators = 200, criterion = 'gini', min_samples_split = 3, min_samples_leaf = 2, max_depth = 7).fit(X_train,y_train)\n",
    "\n",
    "#Entrenamos el modelo sobre la nueva base con la clase minoría con oversampling | SMOTE\n",
    "rf_over = RandomForestClassifier(random_state=42,n_estimators = 200, criterion = 'gini', min_samples_split = 3, min_samples_leaf = 2, max_depth = 7).fit(X_train_over, y_train_over)"
   ]
  },
  {
   "cell_type": "markdown",
   "metadata": {},
   "source": [
    "#### Evaluación del Modelo de clasificación de Random Forests. "
   ]
  },
  {
   "cell_type": "markdown",
   "metadata": {},
   "source": [
    "Accuracy assessment: En base al modelo anterior, harémos las predicciones correspondiente sobre el dataset de muestra y training y así revisar **Accuracy** de clasificiación. "
   ]
  },
  {
   "cell_type": "code",
   "execution_count": 59,
   "metadata": {},
   "outputs": [
    {
     "name": "stdout",
     "output_type": "stream",
     "text": [
      "Accuary datos entrenamiento: 0.8905, Accuracy datos Test: 0.8903, Accuracy test Oversampled: 0.7166\n"
     ]
    }
   ],
   "source": [
    "# Guardamos los valores reales del conjunto de entrenamiento y  \n",
    "predictions = pd.DataFrame()\n",
    "predictions['true'] = y_train\n",
    "predictions['preds'] = rf.predict(X_train)\n",
    "\n",
    "# Test set\n",
    "predictions_test = pd.DataFrame()\n",
    "predictions_test['true'] = y_test\n",
    "predictions_test['preds'] = rf.predict(X_test)\n",
    "predictions_test['preds_over'] = rf_over.predict(X_test)\n",
    "\n",
    "# Calculamos el accuracy \n",
    "train_acc = accuracy_score(predictions.true, predictions.preds)\n",
    "test_acc = accuracy_score(predictions_test.true, predictions_test.preds)\n",
    "test_acc_over = accuracy_score(predictions_test.true, predictions_test.preds_over)\n",
    "\n",
    "print(f\"Accuary datos entrenamiento: {train_acc:.4f}, Accuracy datos Test: {test_acc:.4f}, Accuracy test Oversampled: {test_acc_over:.4f}\")"
   ]
  },
  {
   "cell_type": "markdown",
   "metadata": {},
   "source": [
    "Matríz de confusión sobre datos sin **oversampling - SMOTE**"
   ]
  },
  {
   "cell_type": "code",
   "execution_count": 60,
   "metadata": {},
   "outputs": [
    {
     "data": {
      "text/plain": [
       "<sklearn.metrics._plot.confusion_matrix.ConfusionMatrixDisplay at 0x2a3d309f648>"
      ]
     },
     "execution_count": 60,
     "metadata": {},
     "output_type": "execute_result"
    },
    {
     "data": {
      "text/plain": [
       "<Figure size 864x288 with 0 Axes>"
      ]
     },
     "metadata": {},
     "output_type": "display_data"
    },
    {
     "data": {
      "image/png": "[encoded data removed]",
      "text/plain": [
       "<Figure size 432x288 with 2 Axes>"
      ]
     },
     "metadata": {
      "needs_background": "light"
     },
     "output_type": "display_data"
    }
   ],
   "source": [
    "plt.figure(figsize=(12,4))\n",
    "metrics.plot_confusion_matrix(rf, X_test, y_test, display_labels=['Negative', 'Positive'])"
   ]
  },
  {
   "cell_type": "markdown",
   "metadata": {},
   "source": [
    "Matríz de confusión sobre datos con **oversampling - SMOTE**"
   ]
  },
  {
   "cell_type": "code",
   "execution_count": 61,
   "metadata": {},
   "outputs": [
    {
     "data": {
      "text/plain": [
       "<sklearn.metrics._plot.confusion_matrix.ConfusionMatrixDisplay at 0x2a3d30c1cc8>"
      ]
     },
     "execution_count": 61,
     "metadata": {},
     "output_type": "execute_result"
    },
    {
     "data": {
      "text/plain": [
       "<Figure size 864x288 with 0 Axes>"
      ]
     },
     "metadata": {},
     "output_type": "display_data"
    },
    {
     "data": {
      "image/png": "[encoded data removed]",
      "text/plain": [
       "<Figure size 432x288 with 2 Axes>"
      ]
     },
     "metadata": {
      "needs_background": "light"
     },
     "output_type": "display_data"
    }
   ],
   "source": [
    "plt.figure(figsize=(12,4))\n",
    "metrics.plot_confusion_matrix(rf_over, X_test, y_test, display_labels=['Negative', 'Positive'])"
   ]
  },
  {
   "cell_type": "markdown",
   "metadata": {},
   "source": [
    "Reporte de Precision - Recall - F1 Score | **Datos sin oversampling - SMOTE**\n"
   ]
  },
  {
   "cell_type": "code",
   "execution_count": 62,
   "metadata": {},
   "outputs": [
    {
     "name": "stdout",
     "output_type": "stream",
     "text": [
      "              precision    recall  f1-score   support\n",
      "\n",
      "         0.0       0.89      1.00      0.94   4648777\n",
      "         1.0       0.68      0.04      0.08    587510\n",
      "\n",
      "    accuracy                           0.89   5236287\n",
      "   macro avg       0.79      0.52      0.51   5236287\n",
      "weighted avg       0.87      0.89      0.84   5236287\n",
      "\n"
     ]
    }
   ],
   "source": [
    "print(metrics.classification_report(predictions_test.true, predictions_test.preds))"
   ]
  },
  {
   "cell_type": "markdown",
   "metadata": {},
   "source": [
    "Reporte de Precision - Recall - F1 Score | **Datos con oversampling - SMOTE**\n"
   ]
  },
  {
   "cell_type": "code",
   "execution_count": 63,
   "metadata": {},
   "outputs": [
    {
     "name": "stdout",
     "output_type": "stream",
     "text": [
      "              precision    recall  f1-score   support\n",
      "\n",
      "         0.0       0.93      0.73      0.82   4648777\n",
      "         1.0       0.22      0.59      0.32    587510\n",
      "\n",
      "    accuracy                           0.72   5236287\n",
      "   macro avg       0.58      0.66      0.57   5236287\n",
      "weighted avg       0.85      0.72      0.76   5236287\n",
      "\n"
     ]
    }
   ],
   "source": [
    "print(metrics.classification_report(predictions_test.true, predictions_test.preds_over))"
   ]
  },
  {
   "cell_type": "markdown",
   "metadata": {},
   "source": [
    "**Resultados**\n",
    "\n",
    "El uso de SMOTE en nuestro modelo de Arboles aleatorios sacrifica performance de precision para la clase positiva, sin emabrgo, aumentamos el recall. También, se observa una mejor de F1 Score para la clase positiva, de 0.08 a 0.31.\n",
    "\n",
    "El accuracy en SMOTE se castiga, pasando de 0.89 a 0.72. Para este caso, podemos utilizar este modelo con un mayor balanceo a través de SMOTE para la construcción de nuestro modelos de **predicción de Churn**. "
   ]
  },
  {
   "cell_type": "markdown",
   "metadata": {},
   "source": [
    "**ROC Curve | Datos con oversampling - SMOTE y Datos sin Oversampling**\n"
   ]
  },
  {
   "cell_type": "markdown",
   "metadata": {},
   "source": [
    "La curva ROC se calculó y graficó, para este caso, con el conjunto de datos **sin Oversampling**."
   ]
  },
  {
   "cell_type": "code",
   "execution_count": 64,
   "metadata": {},
   "outputs": [
    {
     "name": "stdout",
     "output_type": "stream",
     "text": [
      "0.7275993921462567 0.7212448773056729\n"
     ]
    },
    {
     "data": {
      "image/png": "[encoded data removed]",
      "text/plain": [
       "<Figure size 576x432 with 1 Axes>"
      ]
     },
     "metadata": {
      "needs_background": "light"
     },
     "output_type": "display_data"
    }
   ],
   "source": [
    "y_scores_tree_no = rf.predict_proba(X_test)\n",
    "y_scores_tree_wo = rf_over.predict_proba(X_test)\n",
    "\n",
    "fpr_tree_no, tpr_tree_no, thresholds_tree_no = roc_curve(y_test, y_scores_tree_no[:,1])\n",
    "roc_auc_tree_no = auc(fpr_tree_no, tpr_tree_no)   # Este es el indicador AUC de la curva ROC\n",
    "\n",
    "fpr_tree_wo, tpr_tree_wo, thresholds_tree_wo = roc_curve(y_test, y_scores_tree_wo[:,1])\n",
    "roc_auc_tree_wo = auc(fpr_tree_wo, tpr_tree_wo)   # Este es el indicador AUC de la curva ROC\n",
    "\n",
    "print(roc_auc_tree_no, roc_auc_tree_wo)\n",
    "\n",
    "plt.figure(figsize=(8, 6))\n",
    "plt.plot(fpr_tree_no, tpr_tree_no, color='darkorange', lw=2, label=f'Random Forests (AUC = {roc_auc_tree_no:.2f})')\n",
    "plt.plot([0, 1], [0, 1], color='navy', lw=2, linestyle='--')\n",
    "plt.xlabel('False Positive Rate')\n",
    "plt.ylabel('True Positive Rate')\n",
    "plt.title('Receiver Operating Characteristic (ROC) Curve for Random Forests')\n",
    "plt.legend(loc='lower right')\n",
    "plt.show()"
   ]
  },
  {
   "cell_type": "markdown",
   "metadata": {},
   "source": [
    "El gráfico anterior muestra el indicador **AUC** de la curva **ROC** con un valor de 0.73, lo cual, tiene buen performance en cuanto a la diferenciación de las dos clases: **\"Churn\"** y **\"No Churn\"**."
   ]
  },
  {
   "cell_type": "markdown",
   "metadata": {},
   "source": [
    "### **Entrenamiento del 3er (a) modelo de Machine Learning : BOOSTING METHODS - XGBoost**"
   ]
  },
  {
   "cell_type": "code",
   "execution_count": 65,
   "metadata": {},
   "outputs": [],
   "source": [
    "import xgboost as xgb\n",
    "\n",
    "xgb_model =  xgb.XGBClassifier(n_estimators = 100, learning_rate = 0.1, random_state = 42, max_depth = 6)\n",
    "\n",
    "#Entrenamiento del modelo sobre información sin oversampling.\n",
    "xgb_model_no = xgb_model.fit(X_train, y_train)\n",
    "\n",
    "#Entrenamiento del modelo con oversampling | SMOTE\n",
    "xgb_model_wo = xgb_model.fit(X_train_over, y_train_over)\n"
   ]
  },
  {
   "cell_type": "markdown",
   "metadata": {},
   "source": [
    "#### Evaluación del Modelo de clasificación de XGBoost. "
   ]
  },
  {
   "cell_type": "code",
   "execution_count": 66,
   "metadata": {},
   "outputs": [
    {
     "name": "stdout",
     "output_type": "stream",
     "text": [
      "Accuary datos entrenamiento: 0.8343, Accuracy datos Test: 0.8340, Accuracy test Oversampled: 0.8340\n"
     ]
    }
   ],
   "source": [
    "from sklearn.metrics import accuracy_score\n",
    "from sklearn import metrics\n",
    "\n",
    "# Guaradmos los valores reales del conjunto de entrenamiento y  \n",
    "predictions = pd.DataFrame()\n",
    "predictions['true'] = y_train\n",
    "predictions['preds'] = xgb_model_no.predict(X_train)\n",
    "\n",
    "# Test set\n",
    "predictions_test = pd.DataFrame()\n",
    "predictions_test['true'] = y_test\n",
    "predictions_test['preds'] = xgb_model_no.predict(X_test)\n",
    "predictions_test['preds_over'] = xgb_model_wo.predict(X_test)\n",
    "\n",
    "# Calculamos el accuracy \n",
    "train_acc = accuracy_score(predictions.true, predictions.preds)\n",
    "test_acc = accuracy_score(predictions_test.true, predictions_test.preds)\n",
    "test_acc_over = accuracy_score(predictions_test.true, predictions_test.preds_over)\n",
    "\n",
    "print(f\"Accuary datos entrenamiento: {train_acc:.4f}, Accuracy datos Test: {test_acc:.4f}, Accuracy test Oversampled: {test_acc_over:.4f}\")"
   ]
  },
  {
   "cell_type": "markdown",
   "metadata": {},
   "source": [
    "Matríz de confusión sobre datos **sin oversampling - SMOTE**"
   ]
  },
  {
   "cell_type": "code",
   "execution_count": 67,
   "metadata": {},
   "outputs": [
    {
     "data": {
      "text/plain": [
       "<sklearn.metrics._plot.confusion_matrix.ConfusionMatrixDisplay at 0x2a3d2dcb288>"
      ]
     },
     "execution_count": 67,
     "metadata": {},
     "output_type": "execute_result"
    },
    {
     "data": {
      "text/plain": [
       "<Figure size 864x288 with 0 Axes>"
      ]
     },
     "metadata": {},
     "output_type": "display_data"
    },
    {
     "data": {
      "image/png": "[encoded data removed]",
      "text/plain": [
       "<Figure size 432x288 with 2 Axes>"
      ]
     },
     "metadata": {
      "needs_background": "light"
     },
     "output_type": "display_data"
    }
   ],
   "source": [
    "plt.figure(figsize=(12,4))\n",
    "metrics.plot_confusion_matrix(xgb_model_no, X_test, y_test, display_labels=['Negative', 'Positive'])"
   ]
  },
  {
   "cell_type": "markdown",
   "metadata": {},
   "source": [
    "Matríz de confusión sobre datos **con oversampling - SMOTE**"
   ]
  },
  {
   "cell_type": "code",
   "execution_count": 68,
   "metadata": {},
   "outputs": [
    {
     "data": {
      "text/plain": [
       "<sklearn.metrics._plot.confusion_matrix.ConfusionMatrixDisplay at 0x2a3d1d00648>"
      ]
     },
     "execution_count": 68,
     "metadata": {},
     "output_type": "execute_result"
    },
    {
     "data": {
      "text/plain": [
       "<Figure size 864x288 with 0 Axes>"
      ]
     },
     "metadata": {},
     "output_type": "display_data"
    },
    {
     "data": {
      "image/png": "[encoded data removed]",
      "text/plain": [
       "<Figure size 432x288 with 2 Axes>"
      ]
     },
     "metadata": {
      "needs_background": "light"
     },
     "output_type": "display_data"
    }
   ],
   "source": [
    "plt.figure(figsize=(12,4))\n",
    "metrics.plot_confusion_matrix(xgb_model_wo, X_test, y_test, display_labels=['Negative', 'Positive'])"
   ]
  },
  {
   "cell_type": "markdown",
   "metadata": {},
   "source": [
    "Reporte de performance sobre datos sin **oversampling - SMOTE**"
   ]
  },
  {
   "cell_type": "code",
   "execution_count": 69,
   "metadata": {},
   "outputs": [
    {
     "name": "stdout",
     "output_type": "stream",
     "text": [
      "              precision    recall  f1-score   support\n",
      "\n",
      "         0.0       0.91      0.90      0.91   4648777\n",
      "         1.0       0.27      0.28      0.28    587510\n",
      "\n",
      "    accuracy                           0.83   5236287\n",
      "   macro avg       0.59      0.59      0.59   5236287\n",
      "weighted avg       0.84      0.83      0.84   5236287\n",
      "\n"
     ]
    }
   ],
   "source": [
    "print(metrics.classification_report(predictions_test.true, predictions_test.preds))"
   ]
  },
  {
   "cell_type": "markdown",
   "metadata": {},
   "source": [
    "Reporte de performance sobre datos con **oversampling - SMOTE**"
   ]
  },
  {
   "cell_type": "code",
   "execution_count": 70,
   "metadata": {},
   "outputs": [
    {
     "name": "stdout",
     "output_type": "stream",
     "text": [
      "              precision    recall  f1-score   support\n",
      "\n",
      "         0.0       0.91      0.90      0.91   4648777\n",
      "         1.0       0.27      0.28      0.28    587510\n",
      "\n",
      "    accuracy                           0.83   5236287\n",
      "   macro avg       0.59      0.59      0.59   5236287\n",
      "weighted avg       0.84      0.83      0.84   5236287\n",
      "\n"
     ]
    }
   ],
   "source": [
    "print(metrics.classification_report(predictions_test.true, predictions_test.preds_over))"
   ]
  },
  {
   "cell_type": "markdown",
   "metadata": {},
   "source": [
    "**Resultados**\n",
    "\n",
    "El uso de **SMOTE** para el entrenamiento de nuestro modelo no marcó diferencial alguno en términos de precision, reacll y f1-score.\n",
    "\n",
    "Nuestro modelo de **XBGboost** bajo la **variante A** presenta un buen performance en términos de precisión, **83%** , mientras que el F-Score de la clase negativo se mantiene en **0.92** y de la clases positiva **0.28**. El rendimiento en términos de F1 score para la clase 1 no es el mejor si se compara contra otros modelos. Por otra parte, presenta un mejor **rendimiento en F1 score** de clase positiva respecto a la **variante B**.  \n"
   ]
  },
  {
   "cell_type": "markdown",
   "metadata": {},
   "source": [
    "**ROC Curve | Datos con oversampling - SMOTE y Datos sin Oversampling**\n"
   ]
  },
  {
   "cell_type": "code",
   "execution_count": 71,
   "metadata": {},
   "outputs": [
    {
     "name": "stdout",
     "output_type": "stream",
     "text": [
      "0.6756401467163299 0.6756401467163299\n"
     ]
    },
    {
     "data": {
      "image/png": "[encoded data removed]",
      "text/plain": [
       "<Figure size 576x432 with 1 Axes>"
      ]
     },
     "metadata": {
      "needs_background": "light"
     },
     "output_type": "display_data"
    }
   ],
   "source": [
    "y_scores_tree_no = xgb_model_no.predict_proba(X_test)\n",
    "y_scores_tree_wo = xgb_model_wo.predict_proba(X_test)\n",
    "\n",
    "fpr_tree_no, tpr_tree_no, thresholds_tree_no = roc_curve(y_test, y_scores_tree_no[:,1])\n",
    "roc_auc_tree_no = auc(fpr_tree_no, tpr_tree_no)   # Este es el indicador AUC de la curva ROC\n",
    "\n",
    "fpr_tree_wo, tpr_tree_wo, thresholds_tree_wo = roc_curve(y_test, y_scores_tree_wo[:,1])\n",
    "roc_auc_tree_wo = auc(fpr_tree_wo, tpr_tree_wo)   # Este es el indicador AUC de la curva ROC\n",
    "\n",
    "print(roc_auc_tree_no, roc_auc_tree_wo)\n",
    "\n",
    "plt.figure(figsize=(8, 6))\n",
    "plt.plot(fpr_tree_no, tpr_tree_no, color='darkorange', lw=2, label=f'XGBoost (AUC = {roc_auc_tree_no:.2f})')\n",
    "plt.plot([0, 1], [0, 1], color='navy', lw=2, linestyle='--')\n",
    "plt.xlabel('False Positive Rate')\n",
    "plt.ylabel('True Positive Rate')\n",
    "plt.title('Receiver Operating Characteristic (ROC) Curve for XGboost')\n",
    "plt.legend(loc='lower right')\n",
    "plt.show()"
   ]
  },
  {
   "cell_type": "markdown",
   "metadata": {},
   "source": [
    "El gráfico anterior muestra el indicador **AUC** de la curva **ROC** con un valor de 0.68, lo cual, tiene buen performance en cuanto a la diferenciación de las dos clases: **\"Churn\"** y **\"No Churn\"**. Por otra parte, presenta menor performance en comparación con los métodos de **Bagging**, en este caso, para **Random Forests**."
   ]
  },
  {
   "cell_type": "markdown",
   "metadata": {},
   "source": [
    "### **Entrenamiento del 3er (b) modelo de Machine Learning : BOOSTING METHODS - XGBoost**"
   ]
  },
  {
   "cell_type": "code",
   "execution_count": 72,
   "metadata": {},
   "outputs": [],
   "source": [
    "import xgboost as xgb\n",
    "\n",
    "#Entrenamos el modelo sobre la base de información imbalanceada\n",
    "xgb_model =  xgb.XGBClassifier(n_estimators = 200, learning_rate = 0.5, random_state = 42, max_depth = 8)\n",
    "\n",
    "#Entrenamiento sobre \n",
    "xgb_model_no = xgb_model.fit(X_train, y_train)\n",
    "\n",
    "#Datos con oversampling.\n",
    "xgb_model_wo = xgb_model.fit(X_train_over, y_train_over)\n"
   ]
  },
  {
   "cell_type": "markdown",
   "metadata": {},
   "source": [
    "#### Evaluación del Modelo de clasificación de XGBoost. "
   ]
  },
  {
   "cell_type": "code",
   "execution_count": 73,
   "metadata": {},
   "outputs": [
    {
     "name": "stdout",
     "output_type": "stream",
     "text": [
      "Accuary datos entrenamiento: 0.8617, Accuracy datos Test: 0.8600, Accuracy test Oversampled: 0.8600\n"
     ]
    }
   ],
   "source": [
    "from sklearn.metrics import accuracy_score\n",
    "from sklearn import metrics\n",
    "\n",
    "# Guaradmos los valores reales del conjunto de entrenamiento y  \n",
    "predictions = pd.DataFrame()\n",
    "predictions['true'] = y_train\n",
    "predictions['preds'] = xgb_model_no.predict(X_train)\n",
    "\n",
    "# Test set\n",
    "predictions_test = pd.DataFrame()\n",
    "predictions_test['true'] = y_test\n",
    "predictions_test['preds'] = xgb_model_no.predict(X_test)\n",
    "predictions_test['preds_over'] = xgb_model_wo.predict(X_test)\n",
    "\n",
    "# Calculamos el accuracy \n",
    "train_acc = accuracy_score(predictions.true, predictions.preds)\n",
    "test_acc = accuracy_score(predictions_test.true, predictions_test.preds)\n",
    "test_acc_over = accuracy_score(predictions_test.true, predictions_test.preds_over)\n",
    "\n",
    "print(f\"Accuary datos entrenamiento: {train_acc:.4f}, Accuracy datos Test: {test_acc:.4f}, Accuracy test Oversampled: {test_acc_over:.4f}\")"
   ]
  },
  {
   "cell_type": "markdown",
   "metadata": {},
   "source": [
    "Matríz de confusión sobre datos **sin oversampling - SMOTE**"
   ]
  },
  {
   "cell_type": "code",
   "execution_count": 74,
   "metadata": {},
   "outputs": [
    {
     "data": {
      "text/plain": [
       "<sklearn.metrics._plot.confusion_matrix.ConfusionMatrixDisplay at 0x2a3d1bddc48>"
      ]
     },
     "execution_count": 74,
     "metadata": {},
     "output_type": "execute_result"
    },
    {
     "data": {
      "text/plain": [
       "<Figure size 864x288 with 0 Axes>"
      ]
     },
     "metadata": {},
     "output_type": "display_data"
    },
    {
     "data": {
      "image/png": "[encoded data removed]",
      "text/plain": [
       "<Figure size 432x288 with 2 Axes>"
      ]
     },
     "metadata": {
      "needs_background": "light"
     },
     "output_type": "display_data"
    }
   ],
   "source": [
    "# Graficamos una matriz de confusión\n",
    "plt.figure(figsize=(12,4))\n",
    "metrics.plot_confusion_matrix(xgb_model_no, X_test, y_test, display_labels=['Negative', 'Positive'])"
   ]
  },
  {
   "cell_type": "markdown",
   "metadata": {},
   "source": [
    "Matríz de confusión sobre datos **con oversampling - SMOTE**"
   ]
  },
  {
   "cell_type": "code",
   "execution_count": 75,
   "metadata": {},
   "outputs": [
    {
     "data": {
      "text/plain": [
       "<sklearn.metrics._plot.confusion_matrix.ConfusionMatrixDisplay at 0x2a3d1ba8788>"
      ]
     },
     "execution_count": 75,
     "metadata": {},
     "output_type": "execute_result"
    },
    {
     "data": {
      "text/plain": [
       "<Figure size 864x288 with 0 Axes>"
      ]
     },
     "metadata": {},
     "output_type": "display_data"
    },
    {
     "data": {
      "image/png": "[encoded data removed]",
      "text/plain": [
       "<Figure size 432x288 with 2 Axes>"
      ]
     },
     "metadata": {
      "needs_background": "light"
     },
     "output_type": "display_data"
    }
   ],
   "source": [
    "# Graficamos una matriz de confusión\n",
    "plt.figure(figsize=(12,4))\n",
    "metrics.plot_confusion_matrix(xgb_model_wo, X_test, y_test, display_labels=['Negative', 'Positive'])"
   ]
  },
  {
   "cell_type": "markdown",
   "metadata": {},
   "source": [
    "Reporte de performance de métricas sobre datos sin **oversampling - SMOTE**"
   ]
  },
  {
   "cell_type": "code",
   "execution_count": 76,
   "metadata": {},
   "outputs": [
    {
     "name": "stdout",
     "output_type": "stream",
     "text": [
      "              precision    recall  f1-score   support\n",
      "\n",
      "         0.0       0.90      0.95      0.92   4648777\n",
      "         1.0       0.30      0.18      0.22    587510\n",
      "\n",
      "    accuracy                           0.86   5236287\n",
      "   macro avg       0.60      0.56      0.57   5236287\n",
      "weighted avg       0.83      0.86      0.84   5236287\n",
      "\n"
     ]
    }
   ],
   "source": [
    "#Imprimimos todas las métricas en 1 - Sobre base de información sin algoritmo de SMOTE para atacar desbalanceo\n",
    "print(metrics.classification_report(predictions_test.true, predictions_test.preds))"
   ]
  },
  {
   "cell_type": "markdown",
   "metadata": {},
   "source": [
    "Reporte de perofrmance de métricas sobre datos datos con **oversampling - SMOTE**"
   ]
  },
  {
   "cell_type": "code",
   "execution_count": 77,
   "metadata": {},
   "outputs": [
    {
     "name": "stdout",
     "output_type": "stream",
     "text": [
      "              precision    recall  f1-score   support\n",
      "\n",
      "         0.0       0.90      0.95      0.92   4648777\n",
      "         1.0       0.30      0.18      0.22    587510\n",
      "\n",
      "    accuracy                           0.86   5236287\n",
      "   macro avg       0.60      0.56      0.57   5236287\n",
      "weighted avg       0.83      0.86      0.84   5236287\n",
      "\n"
     ]
    }
   ],
   "source": [
    "#Imprimimos todas las métricas en 1 - Sobre base de información sin algoritmo de SMOTE para atacar desbalanceo\n",
    "print(metrics.classification_report(predictions_test.true, predictions_test.preds_over))"
   ]
  },
  {
   "cell_type": "markdown",
   "metadata": {},
   "source": [
    "**Resultados**\n",
    "\n",
    "El uso de **SMOTE** para el entrenamiento de nuestro modelo no marcó diferencial alguna en términos de precision, reacll y f1-score.\n",
    "\n",
    "Nuestro modelo de **XBGboost** bajo la **variante B** presenta un buen performance en términos de precisión, **86%** , mientras que el F-Score de la clase negativo se mantiene en **0.92** y de la clases positiva **0.22**. El rendimiento en términos de F1 score para la clase 1 no es el mejor si se compara contra otros modelos.\n",
    "\n"
   ]
  },
  {
   "cell_type": "markdown",
   "metadata": {},
   "source": [
    "**ROC Curve | Datos con oversampling - SMOTE y Datos sin Oversampling**\n"
   ]
  },
  {
   "cell_type": "code",
   "execution_count": 78,
   "metadata": {},
   "outputs": [
    {
     "name": "stdout",
     "output_type": "stream",
     "text": [
      "0.6628307775719364 0.6628307775719364\n"
     ]
    },
    {
     "data": {
      "image/png": "[encoded data removed]",
      "text/plain": [
       "<Figure size 576x432 with 1 Axes>"
      ]
     },
     "metadata": {
      "needs_background": "light"
     },
     "output_type": "display_data"
    }
   ],
   "source": [
    "y_scores_tree_no = xgb_model_no.predict_proba(X_test)\n",
    "y_scores_tree_wo = xgb_model_wo.predict_proba(X_test)\n",
    "\n",
    "\n",
    "fpr_tree_no, tpr_tree_no, thresholds_tree_no = roc_curve(y_test, y_scores_tree_no[:,1])\n",
    "roc_auc_tree_no = auc(fpr_tree_no, tpr_tree_no)   # Este es el indicador AUC de la curva ROC\n",
    "\n",
    "fpr_tree_wo, tpr_tree_wo, thresholds_tree_wo = roc_curve(y_test, y_scores_tree_wo[:,1])\n",
    "roc_auc_tree_wo = auc(fpr_tree_wo, tpr_tree_wo)   # Este es el indicador AUC de la curva ROC\n",
    "\n",
    "print(roc_auc_tree_no, roc_auc_tree_wo)\n",
    "\n",
    "plt.figure(figsize=(8, 6))\n",
    "plt.plot(fpr_tree_no, tpr_tree_no, color='darkorange', lw=2, label=f'XGboost (AUC = {roc_auc_tree_no:.2f})')\n",
    "plt.plot([0, 1], [0, 1], color='navy', lw=2, linestyle='--')\n",
    "plt.xlabel('False Positive Rate')\n",
    "plt.ylabel('True Positive Rate')\n",
    "plt.title('Receiver Operating Characteristic (ROC) Curve for XGboost')\n",
    "plt.legend(loc='lower right')\n",
    "plt.show()"
   ]
  },
  {
   "cell_type": "markdown",
   "metadata": {},
   "source": [
    "El gráfico anterior muestra el indicador **AUC** de la curva **ROC** con un valor de 0.66, lo cual, tiene buen performance en cuanto a la diferenciación de las dos clases: **\"Churn\"** y **\"No Churn\"**. De igual manera, presenta menor performance contra la **variante A** de **XGboost** y los modelos de **Random Forests**.  "
   ]
  },
  {
   "cell_type": "markdown",
   "metadata": {},
   "source": [
    "### **Entrenamiento del 4to modelo de Machine Learning : LOGISTIC REGRESSION**"
   ]
  },
  {
   "cell_type": "markdown",
   "metadata": {},
   "source": [
    "Para este caso, utilizarémos un modelo de **regresión logística** para comparar el performance de dicho modelo con aquellos del tipo Bagging como Random Forests o del tipo Boosting como **XGboost**. "
   ]
  },
  {
   "cell_type": "markdown",
   "metadata": {},
   "source": [
    "Se entrenarán dichos modelos sobre la base total y la base desbalanceada. Para la evaluación mediremos Precision, Recall y F1 score de las clases positivas y negativas así como el gráfico de una matriz de confusión. "
   ]
  },
  {
   "cell_type": "code",
   "execution_count": null,
   "metadata": {},
   "outputs": [],
   "source": [
    "from sklearn.linear_model import LogisticRegression\n",
    "from sklearn.metrics import accuracy_score\n",
    "from sklearn import metrics\n",
    "\n",
    "#Entrenamos nuestro modelo dentro de la información sin oversampling.\n",
    "logistic_reg = LogisticRegression(solver = 'lbfgs')\n",
    "logistic_reg.fit(X_train, y_train)\n",
    "\n",
    "#Entrenamos nuestro modelo dentro de la información con oversampling.\n",
    "logistic_reg_smote = LogisticRegression(solver='lbfgs')\n",
    "logistic_reg_smote.fit(X_train_over,y_train_over)"
   ]
  },
  {
   "cell_type": "markdown",
   "metadata": {},
   "source": [
    "Evaluación del modelo de clasificación de **\"Logistic Regression\"**"
   ]
  },
  {
   "cell_type": "code",
   "execution_count": 80,
   "metadata": {},
   "outputs": [
    {
     "name": "stdout",
     "output_type": "stream",
     "text": [
      "Accuary datos entrenamiento: 0.8899, Accuracy datos Test: 0.8897, Accuracy test Oversampled: 0.6847\n"
     ]
    }
   ],
   "source": [
    "# Guaradmos los valores reales del conjunto de entrenamiento y  \n",
    "predictions = pd.DataFrame()\n",
    "predictions['true'] = y_train\n",
    "predictions['preds'] = logistic_reg.predict(X_train)\n",
    "\n",
    "# Test set\n",
    "predictions_test = pd.DataFrame()\n",
    "predictions_test['true'] = y_test\n",
    "predictions_test['preds'] = logistic_reg.predict(X_test)\n",
    "predictions_test['preds_over'] = logistic_reg_smote.predict(X_test)\n",
    "\n",
    "# Calculamos el accuracy \n",
    "train_acc = accuracy_score(predictions.true, predictions.preds)\n",
    "test_acc = accuracy_score(predictions_test.true, predictions_test.preds)\n",
    "test_acc_over = accuracy_score(predictions_test.true, predictions_test.preds_over)\n",
    "\n",
    "print(f\"Accuary datos entrenamiento: {train_acc:.4f}, Accuracy datos Test: {test_acc:.4f}, Accuracy test Oversampled: {test_acc_over:.4f}\")"
   ]
  },
  {
   "cell_type": "markdown",
   "metadata": {},
   "source": [
    "Matríz de confusión sobre datos sin **oversampling - SMOTE**"
   ]
  },
  {
   "cell_type": "code",
   "execution_count": 81,
   "metadata": {},
   "outputs": [
    {
     "data": {
      "text/plain": [
       "<sklearn.metrics._plot.confusion_matrix.ConfusionMatrixDisplay at 0x2a3d1b99908>"
      ]
     },
     "execution_count": 81,
     "metadata": {},
     "output_type": "execute_result"
    },
    {
     "data": {
      "text/plain": [
       "<Figure size 864x288 with 0 Axes>"
      ]
     },
     "metadata": {},
     "output_type": "display_data"
    },
    {
     "data": {
      "image/png": "[encoded data removed]",
      "text/plain": [
       "<Figure size 432x288 with 2 Axes>"
      ]
     },
     "metadata": {
      "needs_background": "light"
     },
     "output_type": "display_data"
    }
   ],
   "source": [
    "plt.figure(figsize=(12,4))\n",
    "metrics.plot_confusion_matrix(logistic_reg, X_test, y_test, display_labels=['Negative', 'Positive'])"
   ]
  },
  {
   "cell_type": "markdown",
   "metadata": {},
   "source": [
    "Matríz de confusión sobre datos con **oversampling - SMOTE**"
   ]
  },
  {
   "cell_type": "code",
   "execution_count": 82,
   "metadata": {},
   "outputs": [
    {
     "data": {
      "text/plain": [
       "<sklearn.metrics._plot.confusion_matrix.ConfusionMatrixDisplay at 0x2a3d0a88208>"
      ]
     },
     "execution_count": 82,
     "metadata": {},
     "output_type": "execute_result"
    },
    {
     "data": {
      "text/plain": [
       "<Figure size 864x288 with 0 Axes>"
      ]
     },
     "metadata": {},
     "output_type": "display_data"
    },
    {
     "data": {
      "image/png": "[encoded data removed]",
      "text/plain": [
       "<Figure size 432x288 with 2 Axes>"
      ]
     },
     "metadata": {
      "needs_background": "light"
     },
     "output_type": "display_data"
    }
   ],
   "source": [
    "plt.figure(figsize=(12,4))\n",
    "metrics.plot_confusion_matrix(logistic_reg_smote, X_test, y_test, display_labels=['Negative', 'Positive'])"
   ]
  },
  {
   "cell_type": "markdown",
   "metadata": {},
   "source": [
    "Reporte de Precision - Recall - F1 Score | **Datos sin oversampling - SMOTE**"
   ]
  },
  {
   "cell_type": "code",
   "execution_count": 83,
   "metadata": {},
   "outputs": [
    {
     "name": "stdout",
     "output_type": "stream",
     "text": [
      "              precision    recall  f1-score   support\n",
      "\n",
      "         0.0       0.89      1.00      0.94   4648777\n",
      "         1.0       0.62      0.04      0.08    587510\n",
      "\n",
      "    accuracy                           0.89   5236287\n",
      "   macro avg       0.75      0.52      0.51   5236287\n",
      "weighted avg       0.86      0.89      0.84   5236287\n",
      "\n"
     ]
    }
   ],
   "source": [
    "print(metrics.classification_report(predictions_test.true, predictions_test.preds))"
   ]
  },
  {
   "cell_type": "markdown",
   "metadata": {},
   "source": [
    "Reporte de Precision - Recall - F1 Score | **Datos con oversampling - SMOTE**"
   ]
  },
  {
   "cell_type": "code",
   "execution_count": 84,
   "metadata": {},
   "outputs": [
    {
     "name": "stdout",
     "output_type": "stream",
     "text": [
      "              precision    recall  f1-score   support\n",
      "\n",
      "         0.0       0.94      0.69      0.80   4648777\n",
      "         1.0       0.21      0.63      0.31    587510\n",
      "\n",
      "    accuracy                           0.68   5236287\n",
      "   macro avg       0.57      0.66      0.55   5236287\n",
      "weighted avg       0.85      0.68      0.74   5236287\n",
      "\n"
     ]
    }
   ],
   "source": [
    "print(metrics.classification_report(predictions_test.true, predictions_test.preds_over))"
   ]
  },
  {
   "cell_type": "markdown",
   "metadata": {},
   "source": [
    "**Resultados**\n",
    "\n",
    "Para este caso particular, vemos que el modelo de **regresión logística**, bajo la implementación de **SMOTE** presenta buen performance en términos de generalización de la clase 0 y la clase 1. El F1 score de la clase 1 pasa de 0.08  a 0.31, por lo que vemos una mejor en este indicador, sacrificando el buen prevision que teníamos y aumentando el recall. Nuestro accuracy baja de **0.89** a **0.69** bajo el uso de **SMOTE**.\n",
    "\n",
    "En base a lo comentado previamente, se recomienda entrena el modelo bajo el uso de **oversampling (SMOTE)**."
   ]
  },
  {
   "cell_type": "markdown",
   "metadata": {},
   "source": [
    "**ROC Curve | Datos con oversampling - SMOTE y Datos sin Oversampling**\n"
   ]
  },
  {
   "cell_type": "code",
   "execution_count": 85,
   "metadata": {},
   "outputs": [
    {
     "name": "stdout",
     "output_type": "stream",
     "text": [
      "0.7159691372629268 0.7191247183944047\n"
     ]
    },
    {
     "data": {
      "image/png": "[encoded data removed]",
      "text/plain": [
       "<Figure size 576x432 with 1 Axes>"
      ]
     },
     "metadata": {
      "needs_background": "light"
     },
     "output_type": "display_data"
    }
   ],
   "source": [
    "y_scores_tree_no = logistic_reg.predict_proba(X_test)\n",
    "y_scores_tree_wo = logistic_reg_smote.predict_proba(X_test)\n",
    "\n",
    "fpr_tree_no, tpr_tree_no, thresholds_tree_no = roc_curve(y_test, y_scores_tree_no[:,1])\n",
    "roc_auc_tree_no = auc(fpr_tree_no, tpr_tree_no)   # Este es el indicador AUC de la curva ROC\n",
    "\n",
    "fpr_tree_wo, tpr_tree_wo, thresholds_tree_wo = roc_curve(y_test, y_scores_tree_wo[:,1])\n",
    "roc_auc_tree_wo = auc(fpr_tree_wo, tpr_tree_wo)   # Este es el indicador AUC de la curva ROC\n",
    "\n",
    "print(roc_auc_tree_no, roc_auc_tree_wo)\n",
    "\n",
    "plt.figure(figsize=(8, 6))\n",
    "plt.plot(fpr_tree_no, tpr_tree_no, color='darkorange', lw=2, label=f'Logistic Regression (AUC = {roc_auc_tree_no:.2f})')\n",
    "plt.plot([0, 1], [0, 1], color='navy', lw=2, linestyle='--')\n",
    "plt.xlabel('False Positive Rate')\n",
    "plt.ylabel('True Positive Rate')\n",
    "plt.title('Receiver Operating Characteristic (ROC) Curve for Logistic Regression')\n",
    "plt.legend(loc='lower right')\n",
    "plt.show()"
   ]
  },
  {
   "cell_type": "markdown",
   "metadata": {},
   "source": [
    "El gráfico anterior muestra el indicador **AUC** de la curva **ROC** con un valor de 0.72, lo cual, tiene buen performance en cuanto a la diferenciación de las dos clases: **\"Churn\"** y **\"No Churn\"**. "
   ]
  },
  {
   "cell_type": "markdown",
   "metadata": {},
   "source": [
    "### **Cross Validation y Curva ROC (Ejercicios de prueba)**"
   ]
  },
  {
   "cell_type": "markdown",
   "metadata": {},
   "source": [
    "**Implementación de cross validation**\n",
    "\n",
    "En esta sección estarémos implementando cross validations para  el diagnóstico de la varianza de nuestro modelo, comprobar si tenemos un modelo de alta varianza debido a que en la validación simple utilizamos solo una muestra aleatoria de nuestros datos paricular.\n",
    "\n",
    "El utilizaremos dos enfoques, **Cross Validation** y **Stratified Cross Validation** y comparamos ambos enfoques."
   ]
  },
  {
   "cell_type": "markdown",
   "metadata": {},
   "source": [
    "**Simple K Fold con Cross validation sobre datos sin oversampling**\n"
   ]
  },
  {
   "cell_type": "code",
   "execution_count": null,
   "metadata": {},
   "outputs": [
    {
     "name": "stdout",
     "output_type": "stream",
     "text": [
      "[0.13974561 0.12501171 0.1300184  0.12430892 0.12012624 0.12571738\n",
      " 0.13271378] [0.89098225 0.89076902 0.89109922 0.89116506 0.8911704  0.89104671\n",
      " 0.89127397]\n"
     ]
    }
   ],
   "source": [
    "from sklearn.model_selection import KFold, cross_val_score\n",
    "from sklearn.tree import DecisionTreeClassifier\n",
    "\n",
    "kfold = KFold(n_splits=7, shuffle=True, random_state=1) #Creamos el conjunto de validación\n",
    "\n",
    "clf= DecisionTreeClassifier(\n",
    "    criterion='gini',\n",
    "    max_depth=8,\n",
    "    min_samples_split=8,\n",
    "    min_samples_leaf=1,\n",
    "    max_features=None,\n",
    "    splitter='best',\n",
    "    random_state=1234\n",
    ")\n",
    "\n",
    "scores_f1 = cross_val_score(clf, X_train, y_train, scoring='f1', cv = kfold)  \n",
    "scores_acc = cross_val_score(clf, X_train, y_train, scoring='accuracy', cv = kfold)  \n",
    "\n",
    "print(scores_f1,scores_acc)"
   ]
  },
  {
   "cell_type": "markdown",
   "metadata": {},
   "source": [
    "**Stratifield Cross validation sobre datos sin oversampling**\n"
   ]
  },
  {
   "cell_type": "code",
   "execution_count": null,
   "metadata": {},
   "outputs": [
    {
     "name": "stdout",
     "output_type": "stream",
     "text": [
      "Iteracion: 1  Accuracy: 0.8911039071097605  Precision: 0.6445829570733211  Recall: 0.06236122889933475  f1: 0.11372039300487079\n",
      "Iteracion: 2  Accuracy: 0.8910847836097577  Precision: 0.6183943089430894  Recall: 0.07261073477989419  f1: 0.1299616133455123\n",
      "Iteracion: 3  Accuracy: 0.891150670000136  Precision: 0.6369035386954913  Recall: 0.06604133416578414  f1: 0.1196735648960632\n",
      "Iteracion: 4  Accuracy: 0.8910740412635004  Precision: 0.6112099339787227  Recall: 0.07614564732856309  f1: 0.13542037728984926\n",
      "Iteracion: 5  Accuracy: 0.8909986061208934  Precision: 0.6372091011333161  Recall: 0.06277887397772844  f1: 0.11429702017713672\n"
     ]
    }
   ],
   "source": [
    "import numpy as np\n",
    "import pandas as pd\n",
    "from sklearn.model_selection import StratifiedKFold\n",
    "from sklearn.metrics import recall_score, f1_score, precision_score, accuracy_score\n",
    "from sklearn.tree import DecisionTreeClassifier\n",
    "\n",
    "skf = StratifiedKFold(n_splits=7, random_state=42, shuffle=True)\n",
    "skf.get_n_splits(X_train, y_train)\n",
    "\n",
    "clf= DecisionTreeClassifier(\n",
    "    criterion='gini',\n",
    "    max_depth=8,\n",
    "    min_samples_split=8,\n",
    "    min_samples_leaf=1,\n",
    "    max_features=None,\n",
    "    splitter='best',\n",
    "    random_state=1234\n",
    ")\n",
    "\n",
    "accuracy_list = list()\n",
    "precision_list = list()\n",
    "recall_list = list()\n",
    "f1_list = list()\n",
    "\n",
    "for i in range(0,skf.get_n_splits(X_train, y_train)):\n",
    "  train, test = list(skf.split(X_train, y_train))[i]\n",
    "  X_train_n, y_train_n, X_test_n, y_test_n= X_train[train], y_train[train], X_train[test],y_train[test]\n",
    "  clf.fit(X_train_n, y_train_n)\n",
    "  pred = clf.predict(X_test_n)\n",
    "  \n",
    "  # Calculo parámetros de evaluación de modelo\n",
    "  accuracy = accuracy_score(y_true=y_test_n, y_pred= pred)\n",
    "  precision = precision_score(y_true=y_test_n, y_pred= pred)\n",
    "  recall = recall_score(y_true=y_test_n, y_pred= pred)\n",
    "  f1_scor = f1_score(y_true=y_test_n, y_pred= pred)\n",
    "  \n",
    "  accuracy_list.append(accuracy)\n",
    "  precision_list.append(precision)\n",
    "  recall_list.append(recall)\n",
    "  f1_list.append(f1_scor)\n",
    "  \n",
    "  print('Iteracion:',i+1, ' Accuracy:', accuracy, ' Precision:',precision, ' Recall:',recall, ' f1:', f1_scor)"
   ]
  },
  {
   "cell_type": "markdown",
   "metadata": {},
   "source": [
    "**Curva ROC** "
   ]
  },
  {
   "cell_type": "markdown",
   "metadata": {},
   "source": [
    "El indicador AUC de la curva ROC es un elemento importante para la medición del performance del modelo respecto a la capacidad de diferenciar dos clases dado un problema de **clasificación binario**. El indicador AUC, entre más cerca se encuentre de 1, tendrá buen rendimiento en diferencias las clases en cuestión. Dicho esto, se considera un buen modelo aquel que tiene un **AUC mayor o igual a 0.7**."
   ]
  },
  {
   "cell_type": "code",
   "execution_count": null,
   "metadata": {},
   "outputs": [
    {
     "data": {
      "image/png": "[encoded data removed]",
      "text/plain": [
       "<Figure size 576x432 with 1 Axes>"
      ]
     },
     "metadata": {},
     "output_type": "display_data"
    }
   ],
   "source": [
    "import numpy as np\n",
    "import pandas as pd\n",
    "from sklearn.model_selection import StratifiedKFold\n",
    "from sklearn.metrics import recall_score, f1_score, precision_score, accuracy_score, roc_curve, auc\n",
    "from sklearn.tree import DecisionTreeClassifier\n",
    "import matplotlib.pyplot as plt\n",
    "import seaborn as sns\n",
    "\n",
    "clf= DecisionTreeClassifier(\n",
    "    criterion='gini',\n",
    "    max_depth=8,\n",
    "    min_samples_split=8,\n",
    "    min_samples_leaf=1,\n",
    "    max_features=None,\n",
    "    splitter='best',\n",
    "    random_state=1234\n",
    ")\n",
    "\n",
    "clf_no = clf.fit(X_train, y_train)\n",
    "clf_wo = clf.fit(X_train_over, y_train_over)\n",
    "\n",
    "y_scores_tree_no = clf_no.predict_proba(X_test)\n",
    "y_scores_tree_wo = clf_wo.predict_proba(X_test)\n",
    "\n",
    "\n",
    "fpr_tree_no, tpr_tree_no, thresholds_tree_no = roc_curve(y_test, y_scores_tree_no[:,1])\n",
    "roc_auc_tree_no = auc(fpr_tree_no, tpr_tree_no)   # Este es el indicador AUC de la curva ROC\n",
    "\n",
    "fpr_tree_wo, tpr_tree_wo, thresholds_tree_wo = roc_curve(y_test, y_scores_tree_wo[:,1])\n",
    "roc_auc_tree_wo = auc(fpr_tree_wo, tpr_tree_wo)   # Este es el indicador AUC de la curva ROC\n",
    "\n",
    "print(roc_auc_tree_no,roc_auc_tree_wo)\n",
    "\n",
    "plt.figure(figsize=(8, 6))\n",
    "plt.plot(fpr_tree_no, tpr_tree_no, color='darkorange', lw=2, label=f'Decision Tree (AUC = {roc_auc_tree_no:.2f})')\n",
    "plt.plot([0, 1], [0, 1], color='navy', lw=2, linestyle='--')\n",
    "plt.xlabel('False Positive Rate')\n",
    "plt.ylabel('True Positive Rate')\n",
    "plt.title('Receiver Operating Characteristic (ROC) Curve for Decision Tree')\n",
    "plt.legend(loc='lower right')\n",
    "plt.show()"
   ]
  },
  {
   "cell_type": "markdown",
   "metadata": {},
   "source": [
    "### **Hyperparameter tunning con Cross Validation y curva ROC**"
   ]
  },
  {
   "cell_type": "markdown",
   "metadata": {},
   "source": [
    "En la siguiente sección, realizaremos el entrenamiento de los modelos de ML a través de Grid Search CV y el uso de un conjunto de validación para ver el performance de las métricas.\n",
    "\n",
    "Grid Search CV es un método de fuerza bruta, por lo que los tiempos de ejecución se espera que sean altos en comparación contra otros métodos como **Randomized Grid Search**. Los ejercicios se realizarán sobre la base sin SMOTE y se utilizará el **indicador F1 Score** para el conjunto de **cross validation**. También, se especifican aquellos parámetros donde le método entrenará los algoritmos y determinar la mejor combinación que guíe al **mejor performance de F1 Score**."
   ]
  },
  {
   "cell_type": "markdown",
   "metadata": {},
   "source": [
    "#### **Grid Search CV | Decision trees**"
   ]
  },
  {
   "cell_type": "code",
   "execution_count": null,
   "metadata": {},
   "outputs": [
    {
     "name": "stdout",
     "output_type": "stream",
     "text": [
      "F1 score:0.14 | Precision score:0.58 | Recall score:0.08 | Accuracy score:0.89 | ROC Curve: 0.72\n",
      "Best Hyperparameters:\n",
      "{'criterion': 'gini', 'max_depth': 4, 'min_samples_leaf': 1, 'min_samples_split': 2, 'splitter': 'best'}\n"
     ]
    }
   ],
   "source": [
    "from sklearn.tree import DecisionTreeClassifier\n",
    "from sklearn.metrics import accuracy_score, f1_score,recall_score, precision_score\n",
    "from sklearn.model_selection import StratifiedKFold,GridSearchCV, RandomizedSearchCV \n",
    "from sklearn.experimental import enable_halving_search_cv\n",
    "\n",
    "\n",
    "param_grid = {\n",
    "    'max_depth': [4,8,10],\n",
    "    'min_samples_split': [2,4,6],\n",
    "    'min_samples_leaf': [1,3,4],\n",
    "    'splitter': ['best'], \n",
    "    'criterion' : ['gini','entropy']\n",
    "}\n",
    "\n",
    "clf = DecisionTreeClassifier(random_state=42)\n",
    "\n",
    "stratified_kfold = StratifiedKFold(n_splits=7, shuffle=True, random_state=42)\n",
    "grid_search = GridSearchCV(clf, param_grid, scoring='f1', cv=stratified_kfold)\n",
    "grid_search.fit(X_train,y_train)\n",
    "\n",
    "best_model = grid_search.best_estimator_\n",
    "\n",
    "y_pred_best_model = best_model.predict(X_test)\n",
    "y_proba_best_model = best_model.predict_proba(X_test)\n",
    "\n",
    "f1_score_ = f1_score(y_test, y_pred_best_model)\n",
    "\n",
    "f1_best_tree = f1_score(y_test, y_pred_best_model)\n",
    "precision_best_tree = precision_score(y_test, y_pred_best_model)\n",
    "recall_best_tree = recall_score(y_test, y_pred_best_model)\n",
    "accuracy_best_tree  = accuracy_score(y_test,y_pred_best_model)\n",
    "\n",
    "#ROC Curve\n",
    "fpr_best_model, tpr_best_model, thresholds_best_model = roc_curve(y_test, y_proba_best_model[:,1])\n",
    "roc_auc_best_model = auc(fpr_best_model, tpr_best_model)   # Este es el indicador AUC de la curva ROC\n",
    "\n",
    "print(f'F1 score:{f1_best_tree:.2f} | Precision score:{precision_best_tree:.2f} | Recall score:{recall_best_tree:.2f} | Accuracy score:{accuracy_best_tree:.2f} | ROC Curve: {roc_auc_best_model:.2f}')\n",
    "\n",
    "print('Best Hyperparameters:')\n",
    "print(grid_search.best_params_)"
   ]
  },
  {
   "cell_type": "markdown",
   "metadata": {},
   "source": [
    "Cómo se observa, los siguientes parámetros son los que dieron los mejores resultados en función del **F1 Score: {'criterion': 'gini', 'max_depth': 4, 'min_samples_leaf': 1, 'min_samples_split': 2, 'splitter': 'best'}**"
   ]
  },
  {
   "cell_type": "markdown",
   "metadata": {},
   "source": [
    "Reporte de performance de métricas **sin Oversampling | SMOTE**"
   ]
  },
  {
   "cell_type": "code",
   "execution_count": null,
   "metadata": {},
   "outputs": [
    {
     "name": "stdout",
     "output_type": "stream",
     "text": [
      "              precision    recall  f1-score   support\n",
      "\n",
      "         0.0       0.90      0.99      0.94   4648777\n",
      "         1.0       0.58      0.08      0.14    587510\n",
      "\n",
      "    accuracy                           0.89   5236287\n",
      "   macro avg       0.74      0.54      0.54   5236287\n",
      "weighted avg       0.86      0.89      0.85   5236287\n",
      "\n"
     ]
    }
   ],
   "source": [
    "predictions_test = pd.DataFrame()\n",
    "predictions_test['true'] = y_test\n",
    "predictions_test['preds'] = best_model.predict(X_test)\n",
    "\n",
    "print(metrics.classification_report(predictions_test.true, predictions_test.preds))"
   ]
  },
  {
   "cell_type": "markdown",
   "metadata": {},
   "source": [
    "#### **Grid Search CV | Logistic Regression** \n"
   ]
  },
  {
   "cell_type": "code",
   "execution_count": null,
   "metadata": {},
   "outputs": [
    {
     "name": "stdout",
     "output_type": "stream",
     "text": [
      "F1 score:0.31 | Precision score:0.21 | Recall score:0.63 | Accuracy score:0.69 | ROC Curve: 0.72\n",
      "Best Hyperparameters:\n",
      "{'C': 1, 'class_weight': 'balanced', 'penalty': 'none'}\n"
     ]
    }
   ],
   "source": [
    "from sklearn.metrics import accuracy_score, f1_score,recall_score, precision_score\n",
    "from sklearn.linear_model import LogisticRegression\n",
    "from sklearn.model_selection import StratifiedKFold,GridSearchCV, RandomizedSearchCV \n",
    "from sklearn.experimental import enable_halving_search_cv\n",
    "\n",
    "\n",
    "param_grid = {\n",
    "    'penalty': ['none','l2'],\n",
    "    'C' : [1,0.1,10],\n",
    "    'class_weight': ['balanced']\n",
    "}\n",
    "\n",
    "log_reg = LogisticRegression(random_state=42)\n",
    "\n",
    "stratified_kfold = StratifiedKFold(n_splits=7, shuffle=True, random_state=42)\n",
    "grid_search = GridSearchCV(log_reg, param_grid, scoring='f1', cv=stratified_kfold)\n",
    "grid_search.fit(X_train,y_train)\n",
    "\n",
    "best_model = grid_search.best_estimator_\n",
    "\n",
    "y_pred_best_model = best_model.predict(X_test)\n",
    "y_proba_best_model = best_model.predict_proba(X_test)\n",
    "\n",
    "f1_score_ = f1_score(y_test, y_pred_best_model)\n",
    "\n",
    "f1_best_tree = f1_score(y_test, y_pred_best_model)\n",
    "precision_best_tree = precision_score(y_test, y_pred_best_model)\n",
    "recall_best_tree = recall_score(y_test, y_pred_best_model)\n",
    "accuracy_best_tree  = accuracy_score(y_test,y_pred_best_model)\n",
    "\n",
    "#ROC Curve\n",
    "fpr_best_model, tpr_best_model, thresholds_best_model = roc_curve(y_test, y_proba_best_model[:,1])\n",
    "roc_auc_best_model = auc(fpr_best_model, tpr_best_model)   # Este es el indicador AUC de la curva ROC\n",
    "\n",
    "print(f'F1 score:{f1_best_tree:.2f} | Precision score:{precision_best_tree:.2f} | Recall score:{recall_best_tree:.2f} | Accuracy score:{accuracy_best_tree:.2f} | ROC Curve: {roc_auc_best_model:.2f}')\n",
    "\n",
    "print('Best Hyperparameters:')\n",
    "print(grid_search.best_params_)"
   ]
  },
  {
   "cell_type": "markdown",
   "metadata": {},
   "source": [
    "Cómo se observa, los siguientes parámetros son los que dieron los mejores resultados en función del **F1 Score: {'C': 1, 'class_weight': 'balanced', 'penalty': 'none'}**"
   ]
  },
  {
   "cell_type": "markdown",
   "metadata": {},
   "source": [
    "Reporte de performance de métricas **sin Oversampling | SMOTE**"
   ]
  },
  {
   "cell_type": "code",
   "execution_count": null,
   "metadata": {},
   "outputs": [
    {
     "name": "stdout",
     "output_type": "stream",
     "text": [
      "              precision    recall  f1-score   support\n",
      "\n",
      "         0.0       0.94      0.70      0.80   4648777\n",
      "         1.0       0.21      0.63      0.31    587510\n",
      "\n",
      "    accuracy                           0.69   5236287\n",
      "   macro avg       0.57      0.66      0.56   5236287\n",
      "weighted avg       0.85      0.69      0.75   5236287\n",
      "\n"
     ]
    }
   ],
   "source": [
    "predictions_test = pd.DataFrame()\n",
    "predictions_test['true'] = y_test\n",
    "predictions_test['preds'] = best_model.predict(X_test)\n",
    "\n",
    "print(metrics.classification_report(predictions_test.true, predictions_test.preds))"
   ]
  },
  {
   "cell_type": "markdown",
   "metadata": {},
   "source": [
    "#### **Grid Search CV | Xgboost** "
   ]
  },
  {
   "cell_type": "code",
   "execution_count": null,
   "metadata": {},
   "outputs": [
    {
     "name": "stdout",
     "output_type": "stream",
     "text": [
      "F1 score:0.14 | Precision score:0.63 | Recall score:0.08 | Accuracy score:0.89 | ROC Curve: 0.73\n",
      "Best Hyperparameters:\n",
      "{'learning_rate': 0.2, 'max_depth': 8, 'n_estimators': 200}\n"
     ]
    }
   ],
   "source": [
    "from sklearn.metrics import accuracy_score, f1_score,recall_score, precision_score\n",
    "import xgboost as xgb\n",
    "from sklearn.model_selection import StratifiedKFold,GridSearchCV, RandomizedSearchCV \n",
    "from sklearn.experimental import enable_halving_search_cv\n",
    "\n",
    "\n",
    "param_grid = {\n",
    "    'max_depth': [2,6,8],\n",
    "    'n_estimators' : [50,150,200],\n",
    "    'learning_rate': [0.1,0.2,0.01]\n",
    "}\n",
    "\n",
    "xgb_model = xgb.XGBClassifier(random_state=42)\n",
    "\n",
    "stratified_kfold = StratifiedKFold(n_splits=7, shuffle=True, random_state=42)\n",
    "grid_search = GridSearchCV(xgb_model, param_grid, scoring='f1', cv=stratified_kfold)\n",
    "grid_search.fit(X_train,y_train)\n",
    "\n",
    "best_model = grid_search.best_estimator_\n",
    "\n",
    "y_pred_best_model = best_model.predict(X_test)\n",
    "y_proba_best_model = best_model.predict_proba(X_test)\n",
    "\n",
    "f1_score_ = f1_score(y_test, y_pred_best_model)\n",
    "\n",
    "f1_best_tree = f1_score(y_test, y_pred_best_model)\n",
    "precision_best_tree = precision_score(y_test, y_pred_best_model)\n",
    "recall_best_tree = recall_score(y_test, y_pred_best_model)\n",
    "accuracy_best_tree  = accuracy_score(y_test,y_pred_best_model)\n",
    "\n",
    "fpr_best_model, tpr_best_model, thresholds_best_model = roc_curve(y_test, y_proba_best_model[:,1])\n",
    "roc_auc_best_model = auc(fpr_best_model, tpr_best_model)   # Este es el indicador AUC de la curva ROC\n",
    "\n",
    "print(f'F1 score:{f1_best_tree:.2f} | Precision score:{precision_best_tree:.2f} | Recall score:{recall_best_tree:.2f} | Accuracy score:{accuracy_best_tree:.2f} | ROC Curve: {roc_auc_best_model:.2f}')\n",
    "\n",
    "print('Best Hyperparameters:')\n",
    "print(grid_search.best_params_)"
   ]
  },
  {
   "cell_type": "markdown",
   "metadata": {},
   "source": [
    "Cómo se observa, los siguientes parámetros son los que dieron los mejores resultados en función del **F1 Score: {'learning_rate': 0.2, 'max_depth': 8, 'n_estimators': 200}**"
   ]
  },
  {
   "cell_type": "markdown",
   "metadata": {},
   "source": [
    "Reporte de performance de métricas **sin Oversampling | SMOTE**"
   ]
  },
  {
   "cell_type": "code",
   "execution_count": null,
   "metadata": {},
   "outputs": [
    {
     "name": "stdout",
     "output_type": "stream",
     "text": [
      "              precision    recall  f1-score   support\n",
      "\n",
      "         0.0       0.89      0.99      0.94   4648777\n",
      "         1.0       0.63      0.08      0.14    587510\n",
      "\n",
      "    accuracy                           0.89   5236287\n",
      "   macro avg       0.76      0.54      0.54   5236287\n",
      "weighted avg       0.87      0.89      0.85   5236287\n",
      "\n"
     ]
    }
   ],
   "source": [
    "predictions_test = pd.DataFrame()\n",
    "predictions_test['true'] = y_test\n",
    "predictions_test['preds'] = best_model.predict(X_test)\n",
    "\n",
    "print(metrics.classification_report(predictions_test.true, predictions_test.preds))"
   ]
  },
  {
   "cell_type": "markdown",
   "metadata": {},
   "source": [
    "### **Conclusión de entrenamiento, evaluación y selección de modelos de Machine Learning**"
   ]
  },
  {
   "cell_type": "markdown",
   "metadata": {},
   "source": [
    "\n",
    "A través del entrenamiento de diferentes modelos de Machine Learning, podemos tomar aquel con el mejor performance en términos de predicción de la variable objetivo.\n",
    "\n",
    "Los modelos de árboles fueron preferentemente seleccionados dado su rápida **implementación y flexibilidad** para el manejo de datos atípicos como **XGboost** o **Random Forests**, sin embargo, esto no sucede en modelos de árboles simples o en logistic regression. También, la implementación de métodos de validación cómo cross validation nos permite reducir el efecto de **“Overfitting”** y tener una mejor visibilidad del performance real de nuestro modelo sobre diferentes subconjuntos del dataset.\n",
    "\n",
    "Respecto a cuál modelo debemos elegir, dado que nuestro interés es predecir **cuales tienen mayor probabilidad de Churn**, tomaremos aquel con mayor precision y recall sobre la clase “Churn”. Así, tomamos el modelo “**XGBoost variante A sin SMOTE (validación simple)**. Tiene buen precision, recall y f1 score, así como buen performance de estos mismos indicadores sobre la clase “No Churn”.\n",
    "\n",
    "Se mantiene buen **AUC** de **0.67** y un accuracy de **83%**. Debemos tener cuidado sobre este último por el problema de desbalanceo, sin embargo, la aplicación de oversampling no contribuyó a la mejora de dicho modelo. Adicionalmente, recomendámos realizar pruebas sobre otra malla de parámetros de **Grid Search CV**. \n",
    "\n"
   ]
  },
  {
   "cell_type": "markdown",
   "metadata": {},
   "source": [
    "### **Apéndice: Entrenamiento del modelo de Machine Learning (XGBoost) con metodo de reducción de dimensiones: componentes principales**\n",
    "\n"
   ]
  },
  {
   "cell_type": "markdown",
   "metadata": {},
   "source": [
    "Dentro del modelo de ML, utilizaremos el modelo XGBoost para entrenar nuestro modelo con solo **dos componentes principales del PCA**, los cuales, agruparían el 80% de la varianza del data set original.\n",
    "\n",
    "Cabe remarcar que para este ejercicio usaremos la información **sin oversampling con SMOTE**."
   ]
  },
  {
   "cell_type": "markdown",
   "metadata": {},
   "source": [
    "#### **Feature extraction: Reducción de dimensionalidad**"
   ]
  },
  {
   "cell_type": "markdown",
   "metadata": {},
   "source": [
    "Dentro del proceso de feature engineering, en el pasado, tuvimos la oportunidad de utilizar **Backward and Forward elimination** para seleccionar las variables más relevantes dentro de nuestro modelo de Machine Learning a través de la métrica de F1 Score. Este método formó parte del proceso de **\"Feature Selection\"** del tipo **\"Wrapper methods\"**.\n",
    "\n",
    "En la siguiente sección, utilizaremos un modelo Basado en **Feature Extraction**, el cual, extrae variables relevantes como una combinación lineal de las variables originales con menor número de dimensiones. **El método a utilizar será PCA**. "
   ]
  },
  {
   "cell_type": "markdown",
   "metadata": {},
   "source": [
    "En la siguiente sección, utilizaremos el modelo seleccionado en la sección anterior denominado **XGBoost** para entrenar nuestro modelo de machine learning con variables procesadas a través de **PCA**. Para este caso particular, utilizaremos los datos sin **OVERSAMPLING - SMOTE** para aplicar la técnica de reducción de dimensionalidad.  "
   ]
  },
  {
   "cell_type": "code",
   "execution_count": null,
   "metadata": {},
   "outputs": [],
   "source": [
    "from sklearn.decomposition import PCA\n",
    "\n",
    "pca = PCA()\n",
    "X_train_pca = pca.fit_transform(X_train)\n",
    "X_test_pca = pca.transform(X_test)"
   ]
  },
  {
   "cell_type": "markdown",
   "metadata": {},
   "source": [
    "Análisis de la varianza explicada para cada componente. "
   ]
  },
  {
   "cell_type": "code",
   "execution_count": null,
   "metadata": {},
   "outputs": [
    {
     "data": {
      "text/plain": [
       "array([6.53005472e-01, 1.53514893e-01, 1.03007667e-01, 8.41313046e-02,\n",
       "       5.52523427e-03, 6.10655012e-04, 1.68298537e-04, 3.64757637e-05])"
      ]
     },
     "metadata": {},
     "output_type": "display_data"
    }
   ],
   "source": [
    "#Análisis de la varianza explicada para cada componente\n",
    "explained_variance = pca.explained_variance_ratio_\n",
    "explained_variance"
   ]
  },
  {
   "cell_type": "markdown",
   "metadata": {},
   "source": [
    "**Insight**: De la matriz de exploración de la explicación de varianza, vemos que los **primeros dos componentes**, en conjunto, explican alrededor del **80% de la varianza del conjunto de datos original**.\n",
    "\n",
    "El tercero **explica un 10% de la varianza**, el cuarto componente explica solo **8%** y así consecutivamente. "
   ]
  },
  {
   "cell_type": "markdown",
   "metadata": {},
   "source": [
    "A continuación, realizarémos el entrenamiento de nuestro modelo con la **curva ROC**."
   ]
  },
  {
   "cell_type": "code",
   "execution_count": 15,
   "metadata": {},
   "outputs": [],
   "source": [
    "import xgboost as xgb\n",
    "from sklearn.decomposition import PCA\n",
    "from sklearn.metrics import accuracy_score\n",
    "from sklearn import metrics\n",
    "\n",
    "\n",
    "#Obtenemos solo los dos principales componentes\n",
    "pca = PCA(n_components=2)\n",
    "X_train_pca = pca.fit_transform(X_train)\n",
    "X_test_pca = pca.transform(X_test)\n",
    "\n",
    "#Entrenamos el modelo sobre la base de información imbalanceada\n",
    "xgb_model =  xgb.XGBClassifier(learning_rate = 0.1, random_state = 42)\n",
    "\n",
    "#We train over the data set that is not oversampled.\n",
    "xgb_model_no = xgb_model.fit(X_train_pca, y_train)\n"
   ]
  },
  {
   "cell_type": "markdown",
   "metadata": {},
   "source": [
    "Evaluación del modelo de clasifiación **XGBoost** con las nuevas variables del **PCA**."
   ]
  },
  {
   "cell_type": "code",
   "execution_count": 16,
   "metadata": {},
   "outputs": [
    {
     "name": "stdout",
     "output_type": "stream",
     "text": [
      "Accuary datos entrenamiento: 0.8883, Accuracy datos Test: 0.8881\n"
     ]
    }
   ],
   "source": [
    "# Guardamos los valores reales del conjunto de entrenamiento y  \n",
    "predictions = pd.DataFrame()\n",
    "predictions['true'] = y_train\n",
    "predictions['preds'] = xgb_model_no.predict(X_train_pca)\n",
    "\n",
    "# Test set\n",
    "predictions_test = pd.DataFrame()\n",
    "predictions_test['true'] = y_test\n",
    "predictions_test['preds'] = xgb_model_no.predict(X_test_pca)\n",
    "\n",
    "# Calculamos el accuracy \n",
    "train_acc = accuracy_score(predictions.true, predictions.preds)\n",
    "test_acc = accuracy_score(predictions_test.true, predictions_test.preds)\n",
    "\n",
    "print(f\"Accuary datos entrenamiento: {train_acc:.4f}, Accuracy datos Test: {test_acc:.4f}\")"
   ]
  },
  {
   "cell_type": "markdown",
   "metadata": {},
   "source": [
    "Matriz de confusión"
   ]
  },
  {
   "cell_type": "code",
   "execution_count": 17,
   "metadata": {},
   "outputs": [
    {
     "data": {
      "text/plain": [
       "<sklearn.metrics._plot.confusion_matrix.ConfusionMatrixDisplay at 0x228c6bb0f48>"
      ]
     },
     "execution_count": 17,
     "metadata": {},
     "output_type": "execute_result"
    },
    {
     "data": {
      "text/plain": [
       "<Figure size 864x288 with 0 Axes>"
      ]
     },
     "metadata": {},
     "output_type": "display_data"
    },
    {
     "data": {
      "image/png": "[encoded data removed]",
      "text/plain": [
       "<Figure size 432x288 with 2 Axes>"
      ]
     },
     "metadata": {
      "needs_background": "light"
     },
     "output_type": "display_data"
    }
   ],
   "source": [
    "# Graficamos una matriz de confusión\n",
    "plt.figure(figsize=(12,4))\n",
    "metrics.plot_confusion_matrix(xgb_model_no, X_test_pca, y_test, display_labels=['Negative', 'Positive'])"
   ]
  },
  {
   "cell_type": "markdown",
   "metadata": {},
   "source": [
    "Reporte de Precision - Recall - F1 Score | **Datos sin oversampling - SMOTE**"
   ]
  },
  {
   "cell_type": "code",
   "execution_count": 18,
   "metadata": {},
   "outputs": [
    {
     "name": "stdout",
     "output_type": "stream",
     "text": [
      "              precision    recall  f1-score   support\n",
      "\n",
      "         0.0       0.89      1.00      0.94   4648506\n",
      "         1.0       0.57      0.01      0.02    587781\n",
      "\n",
      "    accuracy                           0.89   5236287\n",
      "   macro avg       0.73      0.51      0.48   5236287\n",
      "weighted avg       0.85      0.89      0.84   5236287\n",
      "\n"
     ]
    }
   ],
   "source": [
    "print(metrics.classification_report(predictions_test.true, predictions_test.preds))"
   ]
  },
  {
   "cell_type": "markdown",
   "metadata": {},
   "source": [
    "De acuerdo con el reporte anterior, la implementación de **PCA** en nuestro modelo, en términos de **F1 Score para la clase 1 (\"No Churn\")**, tiene **los resultados más bajos** si se compara contra los demás modelos donde se utilizaba el conjutno de **datos originales**. Dicho esto, no se recomienda la utilización de PCA, al menos para este caso, para el entrenamiento de nuestro modelo de predicción de **Churn**. "
   ]
  }
 ],
 "metadata": {
  "kernelspec": {
   "display_name": "Python 3",
   "language": "python",
   "name": "python3"
  },
  "language_info": {
   "codemirror_mode": {
    "name": "ipython",
    "version": 3
   },
   "file_extension": ".py",
   "mimetype": "text/x-python",
   "name": "python",
   "nbconvert_exporter": "python",
   "pygments_lexer": "ipython3",
   "version": "3.7.9"
  },
  "orig_nbformat": 4
 },
 "nbformat": 4,
 "nbformat_minor": 2
}
