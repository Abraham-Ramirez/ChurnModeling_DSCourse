{
 "cells": [
  {
   "cell_type": "markdown",
   "metadata": {},
   "source": [
    "# Desafío de Clase 24: Ingeniería de atributos y selección de variables."
   ]
  },
  {
   "cell_type": "markdown",
   "metadata": {},
   "source": [
    "En el presente desafío seguiremos utilizando la base de información usual de transacciones o pedidos realizados en un negocio de Ecommerce tradicional enfocado a la venta de mercancíás generales.\n",
    "\n",
    "El objetivo del proyecto es poder crear un modelo que nos permita predecir el Churn del cliente, es decir, si nos terminará realizando una compra para un periodo particular.\n",
    "\n",
    "El enfoque de este análisis consiste en calcular las siguientes variables de manera recursiva:\n",
    "\n",
    "1. **Edad:** Tiempo transcurrido (días) entre la primer compra y un punto de corte.\n",
    "2. **Monetary value:** Venta promedio que un cliente ha generado a través de una fecha de corte.\n",
    "3. **Frequency:** Número de pedidos generados antes de una fecha de corte. \n",
    "4. **Recency:** Diferencía en días entre la compra más reciente y un punto de corte.\n",
    "\n",
    "Posteriormente al cálculo de estas métricas, utilizarémos un modelo de Machine Learning: RandomForest para poder hacer la predición de Churn de nuestra base de clientes."
   ]
  },
  {
   "cell_type": "code",
   "execution_count": 1,
   "metadata": {},
   "outputs": [
    {
     "name": "stdout",
     "output_type": "stream",
     "text": [
      "<class 'pandas.core.frame.DataFrame'>\n",
      "RangeIndex: 16692886 entries, 0 to 16692885\n",
      "Data columns (total 98 columns):\n",
      " #   Column                                Dtype  \n",
      "---  ------                                -----  \n",
      " 0   Unnamed: 0                            int64  \n",
      " 1   Almacen de Origen                     object \n",
      " 2   Almacen detalle                       object \n",
      " 3   banco                                 object \n",
      " 4   Bandera bundle final                  object \n",
      " 5   Bandera CBT                           object \n",
      " 6   Bandera pagos                         object \n",
      " 7   canal                                 object \n",
      " 8   Canal_formato_SO                      object \n",
      " 9   cantidad                              int64  \n",
      " 10  Carrier                               object \n",
      " 11  CATEGORIA                             object \n",
      " 12  Categoria ecomm                       object \n",
      " 13  CLICK AND COLLECT                     object \n",
      " 14  codigo postal                         float64\n",
      " 15  Comision MKP sin IVA                  float64\n",
      " 16  Comision MSI                          float64\n",
      " 17  COSTO CALCULADO                       float64\n",
      " 18  cupon utilizado                       object \n",
      " 19  Cupon_ID                              object \n",
      " 20  Customer_ID                           object \n",
      " 21  Departamento                          object \n",
      " 22  DEPT_NBR                              float64\n",
      " 23  DESCUENTO MULTIAHORRO                 float64\n",
      " 24  DESCUENTO PROMO5000                   float64\n",
      " 25  Det Kiosco                            object \n",
      " 26  es ron                                object \n",
      " 27  Estado republica                      object \n",
      " 28  ESTATAL_TAX                           float64\n",
      " 29  estatus                               object \n",
      " 30  Familia                               object \n",
      " 31  Fecha de cancelacion                  object \n",
      " 32  Fecha de confirmacion                 object \n",
      " 33  FECHA DE CREACION                     object \n",
      " 34  FECHA DE CREACION CON HORA            object \n",
      " 35  fecha de creacion no hora             object \n",
      " 36  fecha de embarque                     object \n",
      " 37  Fecha de entrega                      object \n",
      " 38  Fecha maxima de entrega               object \n",
      " 39  Fecha minima de entrega               object \n",
      " 40  FINELINE_NBR                          float64\n",
      " 41  Flete                                 float64\n",
      " 42  Formato_K                             int64  \n",
      " 43  ID PRODUCTO                           object \n",
      " 44  ID Proveedor/Seller                   float64\n",
      " 45  idDepto                               float64\n",
      " 46  IEPS                                  float64\n",
      " 47  IEPS_TAX                              float64\n",
      " 48  Linea                                 object \n",
      " 49  Monto de interes                      float64\n",
      " 50  Motivo de cancelacion                 object \n",
      " 51  MSI                                   int64  \n",
      " 52  Order_ID                              object \n",
      " 53  Piezas canceladas                     float64\n",
      " 54  Plataforma                            object \n",
      " 55  PRODUCTO                              object \n",
      " 56  SQUAD                                 object \n",
      " 57  Squad ecomm                           object \n",
      " 58  STATUS COMERCIAL                      object \n",
      " 59  STATUS KEY                            float64\n",
      " 60  SUBDIRECCION                          object \n",
      " 61  TASA                                  float64\n",
      " 62  Tasa de interes                       float64\n",
      " 63  tipo de pago                          object \n",
      " 64  TipoItem                              object \n",
      " 65  Total descuentos                      float64\n",
      " 66  TRIBU                                 object \n",
      " 67  Tribu ecomm                           object \n",
      " 68  upc                                   float64\n",
      " 69  Venta bruta                           float64\n",
      " 70  Venta bruta sin descuentos con flete  float64\n",
      " 71  Venta bruta sin descuentos sin flete  float64\n",
      " 72  Venta cancelada                       float64\n",
      " 73  Venta MSI                             float64\n",
      " 74  Tipo_cliente                          object \n",
      " 75  TribuH                                object \n",
      " 76  Formato                               object \n",
      " 77  PADRE                                 float64\n",
      " 78  Zona Fedex                            float64\n",
      " 79  MONTO ENVIO                           float64\n",
      " 80  pedido market place                   float64\n",
      " 81  Estatus_Embarque                      float64\n",
      " 82  Estatus_llegada_Tienda                float64\n",
      " 83  Status_Pendientes                     float64\n",
      " 84  DEPT_ID_BRICK                         float64\n",
      " 85  CAT_N_ECOMM                           float64\n",
      " 86  NUMERO_DEPARTAMENTO                   float64\n",
      " 87  NUMERO_FINELINE                       float64\n",
      " 88  ID_CAT                                float64\n",
      " 89  DEPT_DESC_BRICK                       float64\n",
      " 90  CATEGORY_ID_BRICK                     float64\n",
      " 91  CATEGORY_DESC_BRICK                   float64\n",
      " 92  SUBCAT_ID                             float64\n",
      " 93  SUBCAT_DESC_ECOMM                     float64\n",
      " 94  Nombre Kioscos tablero                object \n",
      " 95  NUMERO_DE_AUTORIZACION                object \n",
      " 96  New_canal                             object \n",
      " 97  Canal_grouped                         object \n",
      "dtypes: float64(43), int64(4), object(51)\n",
      "memory usage: 12.2+ GB\n"
     ]
    }
   ],
   "source": [
    "#Configuración y lectura de datos. También imprimimos una muestra de las columnas para ver como se estructura la información. \n",
    "import numpy as np\n",
    "import pandas as pd\n",
    "import warnings\n",
    "import matplotlib.pyplot as plt\n",
    "import seaborn as sns\n",
    "import matplotlib as mpl\n",
    "\n",
    "mpl.style.use(\"bmh\")\n",
    "warnings.filterwarnings(\"ignore\")\n",
    "\n",
    "route = \"C:/Users/abrah/Documents/\"\n",
    "\n",
    "df = pd.read_csv(route + \"Ecommerce_Transactions_2021.csv\", sep = '|', encoding = 'UTF8') #Leemos nuestros datos através de un archivo CSV e imprimios las columnas contenidas así como su data type que manejan por default.\n",
    "df.info()\n"
   ]
  },
  {
   "cell_type": "markdown",
   "metadata": {},
   "source": [
    "## Feature Engineering"
   ]
  },
  {
   "cell_type": "markdown",
   "metadata": {},
   "source": [
    "En el siguiente proceso, creamos nuevos campos o features adicionales sobre la base oríginal, tratamos los tipos de datos de algúnas variables y agrupamos nuestra base de informacción orifinal a **nivel cliente** con cada uno de los campos señalados."
   ]
  },
  {
   "cell_type": "code",
   "execution_count": 2,
   "metadata": {},
   "outputs": [],
   "source": [
    "## Transforma los tipos de datos oríginales de las distintas variables a los tipos que necesitamos para manipular la información. \n",
    "df[\"FECHA DE CREACION\"] = pd.to_datetime(df[\"FECHA DE CREACION\"], format  = \"%Y-%m-%d\")\n",
    "df[\"Fecha de confirmacion\"] = pd.to_datetime(df[\"Fecha de confirmacion\"], format  = \"%Y-%m-%d\")\n",
    "df[\"Fecha de cancelacion\"] = pd.to_datetime(df[\"Fecha de cancelacion\"], format  = \"%Y-%m-%d\")\n",
    "df[\"FECHA DE CREACION CON HORA\"] = pd.to_datetime(df[\"FECHA DE CREACION CON HORA\"],format= '%Y-%m-%d %H:%M:%S')\n",
    "#df[\"fecha de embarque\"] = pd.to_datetime(df[\"fecha de embarque\"], format  = \"%Y-%m-%d\")\n",
    "#df[\"Fecha de entrega\"] = pd.to_datetime(df[\"Fecha de entrega\"], format  = \"%Y-%m-%d\")\n",
    "#df[\"Fecha maxima de entrega\"] = pd.to_datetime(df[\"Fecha maxima de entrega\"], format  = \"%Y-%m-%d\")\n",
    "#df[\"Fecha minima de entrega\"] = pd.to_datetime(df[\"Fecha minima de entrega\"], format  = \"%Y-%m-%d\")\n",
    "\n",
    "df[\"Año\"] = df[\"FECHA DE CREACION\"].dt.year\n",
    "df[\"Mes\"] = df[\"FECHA DE CREACION\"].dt.month\n",
    "df[\"Dia\"] = df[\"FECHA DE CREACION\"].dt.day\n",
    "\n",
    "#Simple imputting process. \n",
    "df[\"Venta bruta sin descuentos con flete\"] = df[\"Venta bruta sin descuentos con flete\"].fillna(0)\n",
    "df[\"cantidad\"] = df[\"cantidad\"].fillna(0)\n",
    "df[\"Piezas canceladas\"] = df[\"Piezas canceladas\"].fillna(0)\n",
    "df[\"Venta cancelada\"] = df[\"Venta cancelada\"].fillna(0)\n",
    "df[\"Total_venta\"] = df[\"Venta bruta sin descuentos con flete\"] + df[\"Venta cancelada\"]\n",
    "df[\"Total_piezas\"] = df[\"Piezas canceladas\"] + df[\"cantidad\"]"
   ]
  },
  {
   "cell_type": "code",
   "execution_count": 3,
   "metadata": {},
   "outputs": [],
   "source": [
    "# Filtramos la información de un año hacía atrás, es decir, de Junio 2022 hasta Mayo 2023. También, consideramos solo aquellos pedidos que tuvieron un pago confirmado.\n",
    "#df = df.loc[df.loc[:,\"FECHA DE CREACION\"] > \"2022-06-01\",:]\n",
    "df = df.loc[df.loc[:,\"Fecha de confirmacion\"].notna(),:]"
   ]
  },
  {
   "cell_type": "code",
   "execution_count": 4,
   "metadata": {},
   "outputs": [
    {
     "data": {
      "text/html": [
       "<div>\n",
       "<style scoped>\n",
       "    .dataframe tbody tr th:only-of-type {\n",
       "        vertical-align: middle;\n",
       "    }\n",
       "\n",
       "    .dataframe tbody tr th {\n",
       "        vertical-align: top;\n",
       "    }\n",
       "\n",
       "    .dataframe thead th {\n",
       "        text-align: right;\n",
       "    }\n",
       "</style>\n",
       "<table border=\"1\" class=\"dataframe\">\n",
       "  <thead>\n",
       "    <tr style=\"text-align: right;\">\n",
       "      <th></th>\n",
       "      <th>FECHA DE CREACION</th>\n",
       "      <th>Año</th>\n",
       "      <th>Mes</th>\n",
       "      <th>Customer_ID</th>\n",
       "      <th>Order_ID</th>\n",
       "      <th>Total_venta</th>\n",
       "      <th>Total_piezas</th>\n",
       "    </tr>\n",
       "  </thead>\n",
       "  <tbody>\n",
       "    <tr>\n",
       "      <th>0</th>\n",
       "      <td>2021-01-01</td>\n",
       "      <td>2021</td>\n",
       "      <td>1</td>\n",
       "      <td>C1000395</td>\n",
       "      <td>Order_6601912</td>\n",
       "      <td>11620.690000</td>\n",
       "      <td>2.0</td>\n",
       "    </tr>\n",
       "    <tr>\n",
       "      <th>1</th>\n",
       "      <td>2021-01-01</td>\n",
       "      <td>2021</td>\n",
       "      <td>1</td>\n",
       "      <td>C1002490</td>\n",
       "      <td>Order_6600223</td>\n",
       "      <td>5765.510000</td>\n",
       "      <td>1.0</td>\n",
       "    </tr>\n",
       "    <tr>\n",
       "      <th>2</th>\n",
       "      <td>2021-01-01</td>\n",
       "      <td>2021</td>\n",
       "      <td>1</td>\n",
       "      <td>C1003767</td>\n",
       "      <td>Order_6553751</td>\n",
       "      <td>5170.697928</td>\n",
       "      <td>2.0</td>\n",
       "    </tr>\n",
       "    <tr>\n",
       "      <th>3</th>\n",
       "      <td>2021-01-01</td>\n",
       "      <td>2021</td>\n",
       "      <td>1</td>\n",
       "      <td>C1004681</td>\n",
       "      <td>Order_6603468</td>\n",
       "      <td>9849.140000</td>\n",
       "      <td>1.0</td>\n",
       "    </tr>\n",
       "    <tr>\n",
       "      <th>4</th>\n",
       "      <td>2021-01-01</td>\n",
       "      <td>2021</td>\n",
       "      <td>1</td>\n",
       "      <td>C100613</td>\n",
       "      <td>Order_6600045</td>\n",
       "      <td>775.001034</td>\n",
       "      <td>1.0</td>\n",
       "    </tr>\n",
       "    <tr>\n",
       "      <th>5</th>\n",
       "      <td>2021-01-01</td>\n",
       "      <td>2021</td>\n",
       "      <td>1</td>\n",
       "      <td>C1007224</td>\n",
       "      <td>Order_6602121</td>\n",
       "      <td>1119.831034</td>\n",
       "      <td>1.0</td>\n",
       "    </tr>\n",
       "    <tr>\n",
       "      <th>6</th>\n",
       "      <td>2021-01-01</td>\n",
       "      <td>2021</td>\n",
       "      <td>1</td>\n",
       "      <td>C1009042</td>\n",
       "      <td>Order_6599055</td>\n",
       "      <td>2372.413103</td>\n",
       "      <td>1.0</td>\n",
       "    </tr>\n",
       "    <tr>\n",
       "      <th>7</th>\n",
       "      <td>2021-01-01</td>\n",
       "      <td>2021</td>\n",
       "      <td>1</td>\n",
       "      <td>C1012964</td>\n",
       "      <td>Order_6603997</td>\n",
       "      <td>2697.360000</td>\n",
       "      <td>1.0</td>\n",
       "    </tr>\n",
       "    <tr>\n",
       "      <th>8</th>\n",
       "      <td>2021-01-01</td>\n",
       "      <td>2021</td>\n",
       "      <td>1</td>\n",
       "      <td>C1014466</td>\n",
       "      <td>Order_6597681</td>\n",
       "      <td>1033.621034</td>\n",
       "      <td>1.0</td>\n",
       "    </tr>\n",
       "    <tr>\n",
       "      <th>9</th>\n",
       "      <td>2021-01-01</td>\n",
       "      <td>2021</td>\n",
       "      <td>1</td>\n",
       "      <td>C1014610</td>\n",
       "      <td>Order_6603470</td>\n",
       "      <td>5594.830000</td>\n",
       "      <td>1.0</td>\n",
       "    </tr>\n",
       "  </tbody>\n",
       "</table>\n",
       "</div>"
      ],
      "text/plain": [
       "  FECHA DE CREACION   Año  Mes Customer_ID       Order_ID   Total_venta  \\\n",
       "0        2021-01-01  2021    1    C1000395  Order_6601912  11620.690000   \n",
       "1        2021-01-01  2021    1    C1002490  Order_6600223   5765.510000   \n",
       "2        2021-01-01  2021    1    C1003767  Order_6553751   5170.697928   \n",
       "3        2021-01-01  2021    1    C1004681  Order_6603468   9849.140000   \n",
       "4        2021-01-01  2021    1     C100613  Order_6600045    775.001034   \n",
       "5        2021-01-01  2021    1    C1007224  Order_6602121   1119.831034   \n",
       "6        2021-01-01  2021    1    C1009042  Order_6599055   2372.413103   \n",
       "7        2021-01-01  2021    1    C1012964  Order_6603997   2697.360000   \n",
       "8        2021-01-01  2021    1    C1014466  Order_6597681   1033.621034   \n",
       "9        2021-01-01  2021    1    C1014610  Order_6603470   5594.830000   \n",
       "\n",
       "   Total_piezas  \n",
       "0           2.0  \n",
       "1           1.0  \n",
       "2           2.0  \n",
       "3           1.0  \n",
       "4           1.0  \n",
       "5           1.0  \n",
       "6           1.0  \n",
       "7           1.0  \n",
       "8           1.0  \n",
       "9           1.0  "
      ]
     },
     "execution_count": 4,
     "metadata": {},
     "output_type": "execute_result"
    }
   ],
   "source": [
    "df_customer = df.groupby([\"FECHA DE CREACION\",\"Año\",\"Mes\",\"Customer_ID\",\"Order_ID\"]).agg({'Total_venta': np.sum,'Total_piezas': np.sum}).reset_index()\n",
    "df_customer.head(10) #Imprimimos nuestra base de información resultante."
   ]
  },
  {
   "cell_type": "markdown",
   "metadata": {},
   "source": [
    "Nueva estructura de df_customer"
   ]
  },
  {
   "cell_type": "code",
   "execution_count": 5,
   "metadata": {},
   "outputs": [
    {
     "data": {
      "text/html": [
       "<div>\n",
       "<style scoped>\n",
       "    .dataframe tbody tr th:only-of-type {\n",
       "        vertical-align: middle;\n",
       "    }\n",
       "\n",
       "    .dataframe tbody tr th {\n",
       "        vertical-align: top;\n",
       "    }\n",
       "\n",
       "    .dataframe thead th {\n",
       "        text-align: right;\n",
       "    }\n",
       "</style>\n",
       "<table border=\"1\" class=\"dataframe\">\n",
       "  <thead>\n",
       "    <tr style=\"text-align: right;\">\n",
       "      <th></th>\n",
       "      <th>Fecha</th>\n",
       "      <th>Año</th>\n",
       "      <th>Mes</th>\n",
       "      <th>Customer_ID</th>\n",
       "      <th>Order_ID</th>\n",
       "      <th>Venta</th>\n",
       "      <th>Piezas</th>\n",
       "      <th>Venta_pagada</th>\n",
       "      <th>Costo_envio</th>\n",
       "      <th>Total_descuentos</th>\n",
       "      <th>Venta_cancelada</th>\n",
       "      <th>Piezas_canceladas</th>\n",
       "    </tr>\n",
       "  </thead>\n",
       "  <tbody>\n",
       "    <tr>\n",
       "      <th>0</th>\n",
       "      <td>2021-01-01</td>\n",
       "      <td>2021</td>\n",
       "      <td>1</td>\n",
       "      <td>C1000395</td>\n",
       "      <td>Order_6601912</td>\n",
       "      <td>11620.690000</td>\n",
       "      <td>2.0</td>\n",
       "      <td>11620.690000</td>\n",
       "      <td>0.000000</td>\n",
       "      <td>3032.76</td>\n",
       "      <td>0.0</td>\n",
       "      <td>0.0</td>\n",
       "    </tr>\n",
       "    <tr>\n",
       "      <th>1</th>\n",
       "      <td>2021-01-01</td>\n",
       "      <td>2021</td>\n",
       "      <td>1</td>\n",
       "      <td>C1002490</td>\n",
       "      <td>Order_6600223</td>\n",
       "      <td>5765.510000</td>\n",
       "      <td>1.0</td>\n",
       "      <td>5765.510000</td>\n",
       "      <td>84.480000</td>\n",
       "      <td>0.00</td>\n",
       "      <td>0.0</td>\n",
       "      <td>0.0</td>\n",
       "    </tr>\n",
       "    <tr>\n",
       "      <th>2</th>\n",
       "      <td>2021-01-01</td>\n",
       "      <td>2021</td>\n",
       "      <td>1</td>\n",
       "      <td>C1003767</td>\n",
       "      <td>Order_6553751</td>\n",
       "      <td>5170.697928</td>\n",
       "      <td>2.0</td>\n",
       "      <td>5170.697928</td>\n",
       "      <td>0.004828</td>\n",
       "      <td>1706.90</td>\n",
       "      <td>0.0</td>\n",
       "      <td>0.0</td>\n",
       "    </tr>\n",
       "    <tr>\n",
       "      <th>3</th>\n",
       "      <td>2021-01-01</td>\n",
       "      <td>2021</td>\n",
       "      <td>1</td>\n",
       "      <td>C1004681</td>\n",
       "      <td>Order_6603468</td>\n",
       "      <td>9849.140000</td>\n",
       "      <td>1.0</td>\n",
       "      <td>9849.140000</td>\n",
       "      <td>0.000000</td>\n",
       "      <td>0.00</td>\n",
       "      <td>0.0</td>\n",
       "      <td>0.0</td>\n",
       "    </tr>\n",
       "    <tr>\n",
       "      <th>4</th>\n",
       "      <td>2021-01-01</td>\n",
       "      <td>2021</td>\n",
       "      <td>1</td>\n",
       "      <td>C100613</td>\n",
       "      <td>Order_6600045</td>\n",
       "      <td>775.001034</td>\n",
       "      <td>1.0</td>\n",
       "      <td>775.001034</td>\n",
       "      <td>0.001034</td>\n",
       "      <td>301.72</td>\n",
       "      <td>0.0</td>\n",
       "      <td>0.0</td>\n",
       "    </tr>\n",
       "    <tr>\n",
       "      <th>5</th>\n",
       "      <td>2021-01-01</td>\n",
       "      <td>2021</td>\n",
       "      <td>1</td>\n",
       "      <td>C1007224</td>\n",
       "      <td>Order_6602121</td>\n",
       "      <td>1119.831034</td>\n",
       "      <td>1.0</td>\n",
       "      <td>1119.831034</td>\n",
       "      <td>0.001034</td>\n",
       "      <td>0.00</td>\n",
       "      <td>0.0</td>\n",
       "      <td>0.0</td>\n",
       "    </tr>\n",
       "    <tr>\n",
       "      <th>6</th>\n",
       "      <td>2021-01-01</td>\n",
       "      <td>2021</td>\n",
       "      <td>1</td>\n",
       "      <td>C1009042</td>\n",
       "      <td>Order_6599055</td>\n",
       "      <td>2372.413103</td>\n",
       "      <td>1.0</td>\n",
       "      <td>2372.413103</td>\n",
       "      <td>0.003103</td>\n",
       "      <td>0.00</td>\n",
       "      <td>0.0</td>\n",
       "      <td>0.0</td>\n",
       "    </tr>\n",
       "    <tr>\n",
       "      <th>7</th>\n",
       "      <td>2021-01-01</td>\n",
       "      <td>2021</td>\n",
       "      <td>1</td>\n",
       "      <td>C1012964</td>\n",
       "      <td>Order_6603997</td>\n",
       "      <td>2697.360000</td>\n",
       "      <td>1.0</td>\n",
       "      <td>2697.360000</td>\n",
       "      <td>119.780000</td>\n",
       "      <td>344.83</td>\n",
       "      <td>0.0</td>\n",
       "      <td>0.0</td>\n",
       "    </tr>\n",
       "    <tr>\n",
       "      <th>8</th>\n",
       "      <td>2021-01-01</td>\n",
       "      <td>2021</td>\n",
       "      <td>1</td>\n",
       "      <td>C1014466</td>\n",
       "      <td>Order_6597681</td>\n",
       "      <td>1033.621034</td>\n",
       "      <td>1.0</td>\n",
       "      <td>1033.621034</td>\n",
       "      <td>0.001034</td>\n",
       "      <td>431.04</td>\n",
       "      <td>0.0</td>\n",
       "      <td>0.0</td>\n",
       "    </tr>\n",
       "    <tr>\n",
       "      <th>9</th>\n",
       "      <td>2021-01-01</td>\n",
       "      <td>2021</td>\n",
       "      <td>1</td>\n",
       "      <td>C1014610</td>\n",
       "      <td>Order_6603470</td>\n",
       "      <td>5594.830000</td>\n",
       "      <td>1.0</td>\n",
       "      <td>5594.830000</td>\n",
       "      <td>0.000000</td>\n",
       "      <td>1731.89</td>\n",
       "      <td>0.0</td>\n",
       "      <td>0.0</td>\n",
       "    </tr>\n",
       "  </tbody>\n",
       "</table>\n",
       "</div>"
      ],
      "text/plain": [
       "       Fecha   Año  Mes Customer_ID       Order_ID         Venta  Piezas  \\\n",
       "0 2021-01-01  2021    1    C1000395  Order_6601912  11620.690000     2.0   \n",
       "1 2021-01-01  2021    1    C1002490  Order_6600223   5765.510000     1.0   \n",
       "2 2021-01-01  2021    1    C1003767  Order_6553751   5170.697928     2.0   \n",
       "3 2021-01-01  2021    1    C1004681  Order_6603468   9849.140000     1.0   \n",
       "4 2021-01-01  2021    1     C100613  Order_6600045    775.001034     1.0   \n",
       "5 2021-01-01  2021    1    C1007224  Order_6602121   1119.831034     1.0   \n",
       "6 2021-01-01  2021    1    C1009042  Order_6599055   2372.413103     1.0   \n",
       "7 2021-01-01  2021    1    C1012964  Order_6603997   2697.360000     1.0   \n",
       "8 2021-01-01  2021    1    C1014466  Order_6597681   1033.621034     1.0   \n",
       "9 2021-01-01  2021    1    C1014610  Order_6603470   5594.830000     1.0   \n",
       "\n",
       "   Venta_pagada  Costo_envio  Total_descuentos  Venta_cancelada  \\\n",
       "0  11620.690000     0.000000           3032.76              0.0   \n",
       "1   5765.510000    84.480000              0.00              0.0   \n",
       "2   5170.697928     0.004828           1706.90              0.0   \n",
       "3   9849.140000     0.000000              0.00              0.0   \n",
       "4    775.001034     0.001034            301.72              0.0   \n",
       "5   1119.831034     0.001034              0.00              0.0   \n",
       "6   2372.413103     0.003103              0.00              0.0   \n",
       "7   2697.360000   119.780000            344.83              0.0   \n",
       "8   1033.621034     0.001034            431.04              0.0   \n",
       "9   5594.830000     0.000000           1731.89              0.0   \n",
       "\n",
       "   Piezas_canceladas  \n",
       "0                0.0  \n",
       "1                0.0  \n",
       "2                0.0  \n",
       "3                0.0  \n",
       "4                0.0  \n",
       "5                0.0  \n",
       "6                0.0  \n",
       "7                0.0  \n",
       "8                0.0  \n",
       "9                0.0  "
      ]
     },
     "execution_count": 5,
     "metadata": {},
     "output_type": "execute_result"
    }
   ],
   "source": [
    "#Renombramos los campos o columnas para tener mejor estructura de nuestra base de información.\n",
    "df_customer = df.groupby([\"FECHA DE CREACION\",\"Año\",\"Mes\",\"Customer_ID\",\"Order_ID\"]).agg({'Total_venta': np.sum, 'Total_piezas': np.sum,\n",
    "        'Venta bruta sin descuentos con flete': np.sum, 'Flete': np.sum, 'Total descuentos': np.sum, 'Venta cancelada': np.sum, 'Piezas canceladas':np.sum}).reset_index()\n",
    "\n",
    "df_customer.rename(columns={'FECHA DE CREACION':'Fecha','Total_venta':\"Venta\",'Total_piezas': \"Piezas\",'Venta bruta sin descuentos con flete': 'Venta_pagada','Flete':'Costo_envio'\n",
    ",'Total descuentos':'Total_descuentos','Venta cancelada':'Venta_cancelada'\n",
    ",'Piezas canceladas':'Piezas_canceladas'}, inplace=True)\n",
    "\n",
    "df_customer.head(10)"
   ]
  },
  {
   "cell_type": "markdown",
   "metadata": {},
   "source": [
    "### Cálculo de variables: Age, Recency , Frequency & Monetary value (RFM)"
   ]
  },
  {
   "cell_type": "markdown",
   "metadata": {},
   "source": [
    "Para el cálculo del Churn, se utilizará un modelo recursivo de RFM, es decir, iterarémos sobre cada una de las fechas de corte del algoritmo para obtener las variables del modelo de RFM antes de la fecha de corte establecida y tomaremos aquellos cleintes con engagemente para los cuales hayan realizado una compra **un mes después**."
   ]
  },
  {
   "cell_type": "markdown",
   "metadata": {},
   "source": [
    "Antes tener nuestra base de información original, mostraremos algunas reglas de cálculo de las variables del RFM."
   ]
  },
  {
   "cell_type": "markdown",
   "metadata": {},
   "source": [
    "#### Recency"
   ]
  },
  {
   "cell_type": "code",
   "execution_count": 6,
   "metadata": {},
   "outputs": [
    {
     "data": {
      "text/html": [
       "<div>\n",
       "<style scoped>\n",
       "    .dataframe tbody tr th:only-of-type {\n",
       "        vertical-align: middle;\n",
       "    }\n",
       "\n",
       "    .dataframe tbody tr th {\n",
       "        vertical-align: top;\n",
       "    }\n",
       "\n",
       "    .dataframe thead th {\n",
       "        text-align: right;\n",
       "    }\n",
       "</style>\n",
       "<table border=\"1\" class=\"dataframe\">\n",
       "  <thead>\n",
       "    <tr style=\"text-align: right;\">\n",
       "      <th></th>\n",
       "      <th>Customer_ID</th>\n",
       "      <th>LastPurchaseDate</th>\n",
       "      <th>Recency</th>\n",
       "    </tr>\n",
       "  </thead>\n",
       "  <tbody>\n",
       "    <tr>\n",
       "      <th>0</th>\n",
       "      <td>C100000</td>\n",
       "      <td>2023-06-06</td>\n",
       "      <td>4</td>\n",
       "    </tr>\n",
       "    <tr>\n",
       "      <th>1</th>\n",
       "      <td>C1000000</td>\n",
       "      <td>2023-06-04</td>\n",
       "      <td>6</td>\n",
       "    </tr>\n",
       "    <tr>\n",
       "      <th>2</th>\n",
       "      <td>C1000011</td>\n",
       "      <td>2023-03-02</td>\n",
       "      <td>100</td>\n",
       "    </tr>\n",
       "    <tr>\n",
       "      <th>3</th>\n",
       "      <td>C1000017</td>\n",
       "      <td>2023-03-27</td>\n",
       "      <td>75</td>\n",
       "    </tr>\n",
       "    <tr>\n",
       "      <th>4</th>\n",
       "      <td>C1000021</td>\n",
       "      <td>2022-11-04</td>\n",
       "      <td>218</td>\n",
       "    </tr>\n",
       "  </tbody>\n",
       "</table>\n",
       "</div>"
      ],
      "text/plain": [
       "  Customer_ID LastPurchaseDate  Recency\n",
       "0     C100000       2023-06-06        4\n",
       "1    C1000000       2023-06-04        6\n",
       "2    C1000011       2023-03-02      100\n",
       "3    C1000017       2023-03-27       75\n",
       "4    C1000021       2022-11-04      218"
      ]
     },
     "execution_count": 6,
     "metadata": {},
     "output_type": "execute_result"
    }
   ],
   "source": [
    "cut_off = df_customer.loc[:,\"Fecha\"].max()\n",
    "recency = df_customer.loc[df_customer.loc[:,\"Fecha\"] < cut_off, :].copy()\n",
    "\n",
    "recency = recency.groupby([\"Customer_ID\"]).agg({'Fecha':'max'}).reset_index().rename(columns={\"Fecha\":\"LastPurchaseDate\"})\n",
    "recency[\"Recency\"] = ((cut_off - recency.LastPurchaseDate).dt.days)\n",
    "recency.head()"
   ]
  },
  {
   "cell_type": "markdown",
   "metadata": {},
   "source": [
    "#### Purchase Frequency"
   ]
  },
  {
   "cell_type": "code",
   "execution_count": 17,
   "metadata": {},
   "outputs": [
    {
     "data": {
      "text/html": [
       "<div>\n",
       "<style scoped>\n",
       "    .dataframe tbody tr th:only-of-type {\n",
       "        vertical-align: middle;\n",
       "    }\n",
       "\n",
       "    .dataframe tbody tr th {\n",
       "        vertical-align: top;\n",
       "    }\n",
       "\n",
       "    .dataframe thead th {\n",
       "        text-align: right;\n",
       "    }\n",
       "</style>\n",
       "<table border=\"1\" class=\"dataframe\">\n",
       "  <thead>\n",
       "    <tr style=\"text-align: right;\">\n",
       "      <th></th>\n",
       "      <th>Customer_ID</th>\n",
       "      <th>Frequency</th>\n",
       "    </tr>\n",
       "  </thead>\n",
       "  <tbody>\n",
       "    <tr>\n",
       "      <th>0</th>\n",
       "      <td>C100000</td>\n",
       "      <td>6</td>\n",
       "    </tr>\n",
       "    <tr>\n",
       "      <th>1</th>\n",
       "      <td>C1000000</td>\n",
       "      <td>3</td>\n",
       "    </tr>\n",
       "    <tr>\n",
       "      <th>2</th>\n",
       "      <td>C1000011</td>\n",
       "      <td>1</td>\n",
       "    </tr>\n",
       "    <tr>\n",
       "      <th>3</th>\n",
       "      <td>C1000017</td>\n",
       "      <td>2</td>\n",
       "    </tr>\n",
       "    <tr>\n",
       "      <th>4</th>\n",
       "      <td>C1000021</td>\n",
       "      <td>1</td>\n",
       "    </tr>\n",
       "  </tbody>\n",
       "</table>\n",
       "</div>"
      ],
      "text/plain": [
       "  Customer_ID  Frequency\n",
       "0     C100000          6\n",
       "1    C1000000          3\n",
       "2    C1000011          1\n",
       "3    C1000017          2\n",
       "4    C1000021          1"
      ]
     },
     "execution_count": 17,
     "metadata": {},
     "output_type": "execute_result"
    }
   ],
   "source": [
    "cut_off = df_customer.Fecha.max()\n",
    "frequency = df_customer.loc[df_customer.loc[:,\"Fecha\"] < cut_off,:].copy()\n",
    "frequency.drop(columns=[\"Año\",\"Mes\"], inplace=True)\n",
    "\n",
    "frequency.set_index(\"Fecha\", inplace=True)\n",
    "frequency.index = pd.DatetimeIndex(frequency.index)\n",
    "\n",
    "frequency_t = frequency.groupby([\"Customer_ID\", pd.Grouper(freq=\"M\", level=\"Fecha\")]).count()\n",
    "frequency_t[\"value_column\"] = 1\n",
    "\n",
    "frequency_t = frequency_t.groupby([\"Customer_ID\"]).sum().reset_index().rename(columns={'value_column':'Frequency'})\n",
    "\n",
    "frequency_t = frequency_t.loc[:,[\"Customer_ID\",\"Frequency\"]]\n",
    "frequency_t.head()\n"
   ]
  },
  {
   "cell_type": "markdown",
   "metadata": {},
   "source": [
    "#### Monetary Value"
   ]
  },
  {
   "cell_type": "code",
   "execution_count": 18,
   "metadata": {},
   "outputs": [
    {
     "data": {
      "text/html": [
       "<div>\n",
       "<style scoped>\n",
       "    .dataframe tbody tr th:only-of-type {\n",
       "        vertical-align: middle;\n",
       "    }\n",
       "\n",
       "    .dataframe tbody tr th {\n",
       "        vertical-align: top;\n",
       "    }\n",
       "\n",
       "    .dataframe thead th {\n",
       "        text-align: right;\n",
       "    }\n",
       "</style>\n",
       "<table border=\"1\" class=\"dataframe\">\n",
       "  <thead>\n",
       "    <tr style=\"text-align: right;\">\n",
       "      <th></th>\n",
       "      <th>Customer_ID</th>\n",
       "      <th>Customer_ID</th>\n",
       "      <th>Average_sales</th>\n",
       "      <th>Total_sales</th>\n",
       "    </tr>\n",
       "  </thead>\n",
       "  <tbody>\n",
       "    <tr>\n",
       "      <th>0</th>\n",
       "      <td>C100000</td>\n",
       "      <td>C100000</td>\n",
       "      <td>5839.516310</td>\n",
       "      <td>58395.163103</td>\n",
       "    </tr>\n",
       "    <tr>\n",
       "      <th>1</th>\n",
       "      <td>C1000000</td>\n",
       "      <td>C1000000</td>\n",
       "      <td>11545.139540</td>\n",
       "      <td>34635.418621</td>\n",
       "    </tr>\n",
       "    <tr>\n",
       "      <th>2</th>\n",
       "      <td>C1000011</td>\n",
       "      <td>C1000011</td>\n",
       "      <td>3792.230000</td>\n",
       "      <td>3792.230000</td>\n",
       "    </tr>\n",
       "    <tr>\n",
       "      <th>3</th>\n",
       "      <td>C1000017</td>\n",
       "      <td>C1000017</td>\n",
       "      <td>2046.551379</td>\n",
       "      <td>4093.102759</td>\n",
       "    </tr>\n",
       "    <tr>\n",
       "      <th>4</th>\n",
       "      <td>C1000021</td>\n",
       "      <td>C1000021</td>\n",
       "      <td>6430.167241</td>\n",
       "      <td>6430.167241</td>\n",
       "    </tr>\n",
       "  </tbody>\n",
       "</table>\n",
       "</div>"
      ],
      "text/plain": [
       "  Customer_ID Customer_ID  Average_sales   Total_sales\n",
       "0     C100000     C100000    5839.516310  58395.163103\n",
       "1    C1000000    C1000000   11545.139540  34635.418621\n",
       "2    C1000011    C1000011    3792.230000   3792.230000\n",
       "3    C1000017    C1000017    2046.551379   4093.102759\n",
       "4    C1000021    C1000021    6430.167241   6430.167241"
      ]
     },
     "execution_count": 18,
     "metadata": {},
     "output_type": "execute_result"
    }
   ],
   "source": [
    "cut_off = df_customer.Fecha.max()\n",
    "mvalue = df_customer.loc[df_customer.loc[:,\"Fecha\"] < cut_off,:].copy()\n",
    "mvalue.drop(columns=[\"Año\",\"Mes\"], inplace=True)\n",
    "\n",
    "#Set date columns as index.\n",
    "mvalue.set_index(mvalue.Fecha, inplace=True)\n",
    "mvalue.index = pd.DatetimeIndex(mvalue.index)\n",
    "\n",
    "mvalue_avg = mvalue.groupby([\"Customer_ID\"])[\"Venta\"].mean().reset_index().rename(columns={\"Venta\":'Average_sales'})\n",
    "mvalue_total = mvalue.groupby([\"Customer_ID\"])[\"Venta\"].sum().reset_index().rename(columns={\"Venta\":'Total_sales'})\n",
    "\n",
    "mvalue = pd.concat([mvalue_avg, mvalue_total], axis=1)\n",
    "mvalue = mvalue.loc[:,[\"Customer_ID\",\"Average_sales\",\"Total_sales\"]]\n",
    "\n",
    "mvalue.head()"
   ]
  },
  {
   "cell_type": "markdown",
   "metadata": {},
   "source": [
    "#### Age"
   ]
  },
  {
   "cell_type": "code",
   "execution_count": 19,
   "metadata": {},
   "outputs": [
    {
     "data": {
      "text/html": [
       "<div>\n",
       "<style scoped>\n",
       "    .dataframe tbody tr th:only-of-type {\n",
       "        vertical-align: middle;\n",
       "    }\n",
       "\n",
       "    .dataframe tbody tr th {\n",
       "        vertical-align: top;\n",
       "    }\n",
       "\n",
       "    .dataframe thead th {\n",
       "        text-align: right;\n",
       "    }\n",
       "</style>\n",
       "<table border=\"1\" class=\"dataframe\">\n",
       "  <thead>\n",
       "    <tr style=\"text-align: right;\">\n",
       "      <th></th>\n",
       "      <th>Customer_ID</th>\n",
       "      <th>Fecha</th>\n",
       "      <th>age</th>\n",
       "    </tr>\n",
       "  </thead>\n",
       "  <tbody>\n",
       "    <tr>\n",
       "      <th>0</th>\n",
       "      <td>C100000</td>\n",
       "      <td>2022-11-16</td>\n",
       "      <td>206</td>\n",
       "    </tr>\n",
       "    <tr>\n",
       "      <th>1</th>\n",
       "      <td>C1000000</td>\n",
       "      <td>2022-08-27</td>\n",
       "      <td>287</td>\n",
       "    </tr>\n",
       "    <tr>\n",
       "      <th>2</th>\n",
       "      <td>C1000011</td>\n",
       "      <td>2023-03-02</td>\n",
       "      <td>100</td>\n",
       "    </tr>\n",
       "    <tr>\n",
       "      <th>3</th>\n",
       "      <td>C1000017</td>\n",
       "      <td>2022-07-30</td>\n",
       "      <td>315</td>\n",
       "    </tr>\n",
       "    <tr>\n",
       "      <th>4</th>\n",
       "      <td>C1000021</td>\n",
       "      <td>2022-11-04</td>\n",
       "      <td>218</td>\n",
       "    </tr>\n",
       "  </tbody>\n",
       "</table>\n",
       "</div>"
      ],
      "text/plain": [
       "  Customer_ID      Fecha  age\n",
       "0     C100000 2022-11-16  206\n",
       "1    C1000000 2022-08-27  287\n",
       "2    C1000011 2023-03-02  100\n",
       "3    C1000017 2022-07-30  315\n",
       "4    C1000021 2022-11-04  218"
      ]
     },
     "execution_count": 19,
     "metadata": {},
     "output_type": "execute_result"
    }
   ],
   "source": [
    "cut_off = df_customer.Fecha.max()\n",
    "age = df_customer.loc[df_customer.loc[:,\"Fecha\"] < cut_off,:].copy()\n",
    "age.drop(columns=[\"Año\",\"Mes\"], inplace=True)\n",
    "\n",
    "age = age.groupby([\"Customer_ID\"])[\"Fecha\"].min().reset_index()\n",
    "age[\"age\"] = (cut_off - age.Fecha).dt.days\n",
    "\n",
    "age.head()"
   ]
  },
  {
   "cell_type": "markdown",
   "metadata": {},
   "source": [
    "#### Definición de funciones para el cálculo de los atributos del modelo RFM y Otras variables adicionales para el cálculo del Churn "
   ]
  },
  {
   "cell_type": "markdown",
   "metadata": {},
   "source": [
    "Dado que tenemos un proceso iterativo que irá calculando dichas features entre periodos, se construye una función que permita obtener una base con estas características ya calculadas.\n",
    "\n",
    "Las funciones que se construyeron son las siguientes:"
   ]
  },
  {
   "cell_type": "code",
   "execution_count": 6,
   "metadata": {},
   "outputs": [],
   "source": [
    "def customer_recency(df_customer, cut_off):\n",
    "    #cut_off = df.loc[:,\"Fecha\"].max()\n",
    "    recency = df_customer.loc[df_customer.loc[:,\"Fecha\"] <= cut_off, :].copy()\n",
    "    recency = recency.groupby([\"Customer_ID\"]).agg({'Fecha':'max'}).reset_index().rename(columns={\"Fecha\":\"LastPurchaseDate\"})\n",
    "    recency[\"Recency\"] = ((cut_off - recency.LastPurchaseDate).dt.days)\n",
    "\n",
    "    return recency.loc[:,[\"Customer_ID\",\"Recency\"]]\n",
    "\n",
    "def customer_frequency_1(df_customer, cut_off):\n",
    "\n",
    "    frequency = df_customer.loc[df_customer.loc[:,\"Fecha\"] <= cut_off,:].copy()\n",
    "    frequency.drop(columns=[\"Año\",\"Mes\"], inplace=True)\n",
    "\n",
    "    frequency.set_index(\"Fecha\", inplace=True)\n",
    "    frequency.index = pd.DatetimeIndex(frequency.index)\n",
    "\n",
    "    frequency_t = frequency.groupby([\"Customer_ID\", pd.Grouper(freq=\"M\", level=\"Fecha\")]).count()\n",
    "    frequency_t[\"value_column\"] = 1\n",
    "\n",
    "    return frequency_t.groupby([\"Customer_ID\"]).sum().reset_index().rename(columns={'value_column':'Frequency'}).loc[:,[\"Customer_ID\",\"Frequency\"]]\n",
    "\n",
    "def customer_frequency(df_customer, cut_off):\n",
    "\n",
    "    frequency = df_customer.loc[df_customer.loc[:,\"Fecha\"] <= cut_off,:].copy()\n",
    "    frequency.drop(columns=[\"Año\",\"Mes\"], inplace=True)\n",
    "\n",
    "    frequency = frequency.groupby([\"Customer_ID\"]).agg({'Order_ID':lambda x: x.nunique()}).reset_index().rename(columns = {'Order_ID':'Frequency'})\n",
    "\n",
    "    return frequency.loc[:,[\"Customer_ID\",\"Frequency\"]]\n",
    "\n",
    "def customer_monetaryvalue(df_customer, cut_off):\n",
    "\n",
    "    mvalue = df_customer.loc[df_customer.loc[:,\"Fecha\"] <= cut_off,:].copy()\n",
    "    mvalue.drop(columns=[\"Año\",\"Mes\"], inplace=True)\n",
    "\n",
    "    #Set date columns as index.\n",
    "    mvalue.set_index(mvalue.Fecha, inplace=True)\n",
    "    mvalue.index = pd.DatetimeIndex(mvalue.index)\n",
    "\n",
    "    mvalue_avg = mvalue.groupby([\"Customer_ID\"])[\"Venta\"].mean().reset_index().rename(columns={\"Venta\":'Average_sales'})\n",
    "    mvalue_total = mvalue.groupby([\"Customer_ID\"])[\"Venta\"].sum().reset_index().rename(columns={\"Venta\":'Total_sales'})\n",
    "\n",
    "    mvalue = pd.concat([mvalue_avg, mvalue_total], axis=1)\n",
    "    mvalue = mvalue.loc[:,[\"Customer_ID\",\"Average_sales\",\"Total_sales\"]]\n",
    "    \n",
    "    return mvalue.iloc[:,1:]\n",
    "    \n",
    "def customer_age(df_customer, cut_off):\n",
    "    \n",
    "    age = df_customer.loc[df_customer.loc[:,\"Fecha\"] <= cut_off,:].copy()\n",
    "    age.drop(columns=[\"Año\",\"Mes\"], inplace=True)\n",
    "\n",
    "    age = age.groupby([\"Customer_ID\"])[\"Fecha\"].min().reset_index()\n",
    "    age[\"Age\"] = (cut_off - age.Fecha).dt.days\n",
    " \n",
    "    return age.loc[:,[\"Customer_ID\",\"Age\"]]\n",
    "\n",
    "def customer_cancellations(df_customer, cut_off):\n",
    "    #We only focuse on the number of pieces cancelled, not the amount of monetary value. The latter could lead to bias because of the nature on regarst to our customer purchase behavior.  \n",
    "    df_cancellations = df_customer.loc[df_customer.loc[:,\"Fecha\"] <= cut_off,:].copy()\n",
    "    df_cancellations.drop(columns=[\"Año\",\"Mes\"], inplace=True)\n",
    "\n",
    "    df_cancellations = df_cancellations.groupby([\"Customer_ID\"])[\"Piezas\",\"Piezas_canceladas\"].sum().reset_index()\n",
    "    df_cancellations.loc[:,\"Ratio_cancellations\"] = df_cancellations.Piezas_canceladas / df_cancellations.Piezas \n",
    "    \n",
    "    return df_cancellations.loc[:,[\"Customer_ID\",\"Ratio_cancellations\"]]\n",
    "    \n",
    "def customer_basket_size(df_customer, cut_off):\n",
    "    #We only focused in the number of pieces cancelled, not the amount of monetary value. \n",
    "    df_bs = df_customer.loc[df_customer.loc[:,\"Fecha\"] <= cut_off,:].copy()\n",
    "    df_bs.drop(columns=[\"Año\",\"Mes\"], inplace=True)\n",
    "\n",
    "    df_bs = df_bs.groupby([\"Customer_ID\"]).agg({'Piezas': np.sum , 'Order_ID': lambda x: x.nunique()}).reset_index().rename(columns = {'Order_ID':'Ordenes'})\n",
    "    df_bs.loc[:,\"Basket_size\"] = df_bs.Piezas / df_bs.Ordenes \n",
    "    \n",
    "    return df_bs.loc[:,[\"Customer_ID\",\"Basket_size\"]]\n",
    "\n",
    "def customer_shipping_ratio(df_customer, cut_off):\n",
    "    #We only focused in the number of pieces cancelled, not the amount of monetary value. \n",
    "    df_sr = df_customer.loc[df_customer.loc[:,\"Fecha\"] <= cut_off,:].copy()\n",
    "    df_sr.drop(columns= [\"Año\",\"Mes\"], inplace=True)\n",
    "\n",
    "    df_sr = df_sr.groupby([\"Customer_ID\"]).agg({'Costo_envio': np.sum,'Venta_pagada': np.sum}).reset_index()\n",
    "    df_sr.loc[:,\"Shipping_ratio\"] = df_sr.Costo_envio / df_sr.Venta_pagada \n",
    "    \n",
    "    return df_sr.loc[:,[\"Customer_ID\",\"Shipping_ratio\"]]\n",
    "\n",
    "def customer_discount_ratio(df_customer, cut_off):\n",
    "    #We only focused in the number of pieces cancelled, not the amount of monetary value. \n",
    "    df_dr = df_customer.loc[df_customer.loc[:,\"Fecha\"] <= cut_off,:].copy()\n",
    "    df_dr.drop(columns= [\"Año\",\"Mes\"], inplace=True)\n",
    "\n",
    "    df_dr = df_dr.groupby([\"Customer_ID\"]).agg({'Total_descuentos': np.sum,'Venta_pagada': np.sum}).reset_index()\n",
    "    df_dr.loc[:,\"Discount_ratio\"] = df_dr.Total_descuentos / (df_dr.Venta_pagada + df_dr.Total_descuentos) \n",
    "    \n",
    "    return df_dr.loc[:,[\"Customer_ID\",\"Discount_ratio\"]]\n",
    "\n",
    "def customer_rfm(df_customer, cut_off):\n",
    "\n",
    "    recency = customer_recency(df_customer, cut_off)\n",
    "    frequency = customer_frequency(df_customer, cut_off)\n",
    "    monetary_value = customer_monetaryvalue(df_customer, cut_off)\n",
    "    age = customer_age(df_customer, cut_off)\n",
    "    \n",
    "    #Here, we add the additional variables.\n",
    "    cancellations = customer_cancellations(df_customer, cut_off)\n",
    "    basket_size = customer_basket_size(df_customer, cut_off)\n",
    "    shipping_ratio = customer_shipping_ratio(df_customer, cut_off)\n",
    "    discount_ratio = customer_discount_ratio(df_customer, cut_off)\n",
    "\n",
    "    return pd.merge(left=recency, right=frequency, how='left', left_on= \"Customer_ID\", right_on=\"Customer_ID\").merge(monetary_value, on=\"Customer_ID\").merge(age, on = \"Customer_ID\").merge(cancellations, on = \"Customer_ID\").merge(basket_size, on = \"Customer_ID\").merge(shipping_ratio, on = \"Customer_ID\").merge(discount_ratio, on = \"Customer_ID\")\n"
   ]
  },
  {
   "cell_type": "markdown",
   "metadata": {},
   "source": [
    "Testing de obtención de los atributos del modelo de RFM."
   ]
  },
  {
   "cell_type": "code",
   "execution_count": 7,
   "metadata": {},
   "outputs": [],
   "source": [
    "cut_off = df_customer.Fecha.max()\n",
    "rfm_features = customer_rfm(df_customer, cut_off)"
   ]
  },
  {
   "cell_type": "code",
   "execution_count": 8,
   "metadata": {},
   "outputs": [
    {
     "data": {
      "text/html": [
       "<div>\n",
       "<style scoped>\n",
       "    .dataframe tbody tr th:only-of-type {\n",
       "        vertical-align: middle;\n",
       "    }\n",
       "\n",
       "    .dataframe tbody tr th {\n",
       "        vertical-align: top;\n",
       "    }\n",
       "\n",
       "    .dataframe thead th {\n",
       "        text-align: right;\n",
       "    }\n",
       "</style>\n",
       "<table border=\"1\" class=\"dataframe\">\n",
       "  <thead>\n",
       "    <tr style=\"text-align: right;\">\n",
       "      <th></th>\n",
       "      <th>Customer_ID</th>\n",
       "      <th>Recency</th>\n",
       "      <th>Frequency</th>\n",
       "      <th>Average_sales</th>\n",
       "      <th>Total_sales</th>\n",
       "      <th>Age</th>\n",
       "      <th>Ratio_cancellations</th>\n",
       "      <th>Basket_size</th>\n",
       "      <th>Shipping_ratio</th>\n",
       "      <th>Discount_ratio</th>\n",
       "    </tr>\n",
       "  </thead>\n",
       "  <tbody>\n",
       "    <tr>\n",
       "      <th>0</th>\n",
       "      <td>C1</td>\n",
       "      <td>576</td>\n",
       "      <td>1</td>\n",
       "      <td>128.450000</td>\n",
       "      <td>128.450000</td>\n",
       "      <td>576</td>\n",
       "      <td>0.0</td>\n",
       "      <td>1.000000</td>\n",
       "      <td>0.000000e+00</td>\n",
       "      <td>0.850849</td>\n",
       "    </tr>\n",
       "    <tr>\n",
       "      <th>1</th>\n",
       "      <td>C10000</td>\n",
       "      <td>630</td>\n",
       "      <td>1</td>\n",
       "      <td>9481.892759</td>\n",
       "      <td>9481.892759</td>\n",
       "      <td>630</td>\n",
       "      <td>0.0</td>\n",
       "      <td>1.000000</td>\n",
       "      <td>2.909357e-07</td>\n",
       "      <td>0.120010</td>\n",
       "    </tr>\n",
       "    <tr>\n",
       "      <th>2</th>\n",
       "      <td>C100000</td>\n",
       "      <td>4</td>\n",
       "      <td>10</td>\n",
       "      <td>5839.516310</td>\n",
       "      <td>58395.163103</td>\n",
       "      <td>206</td>\n",
       "      <td>0.0</td>\n",
       "      <td>1.300000</td>\n",
       "      <td>7.986674e-03</td>\n",
       "      <td>0.283161</td>\n",
       "    </tr>\n",
       "    <tr>\n",
       "      <th>3</th>\n",
       "      <td>C1000000</td>\n",
       "      <td>6</td>\n",
       "      <td>7</td>\n",
       "      <td>7309.119409</td>\n",
       "      <td>51163.835862</td>\n",
       "      <td>888</td>\n",
       "      <td>0.0</td>\n",
       "      <td>1.285714</td>\n",
       "      <td>2.325194e-03</td>\n",
       "      <td>0.125778</td>\n",
       "    </tr>\n",
       "    <tr>\n",
       "      <th>4</th>\n",
       "      <td>C1000002</td>\n",
       "      <td>417</td>\n",
       "      <td>3</td>\n",
       "      <td>1023.338851</td>\n",
       "      <td>3070.016552</td>\n",
       "      <td>529</td>\n",
       "      <td>0.0</td>\n",
       "      <td>1.666667</td>\n",
       "      <td>2.134101e-06</td>\n",
       "      <td>0.063630</td>\n",
       "    </tr>\n",
       "    <tr>\n",
       "      <th>...</th>\n",
       "      <td>...</td>\n",
       "      <td>...</td>\n",
       "      <td>...</td>\n",
       "      <td>...</td>\n",
       "      <td>...</td>\n",
       "      <td>...</td>\n",
       "      <td>...</td>\n",
       "      <td>...</td>\n",
       "      <td>...</td>\n",
       "      <td>...</td>\n",
       "    </tr>\n",
       "    <tr>\n",
       "      <th>5430819</th>\n",
       "      <td>C999991</td>\n",
       "      <td>40</td>\n",
       "      <td>3</td>\n",
       "      <td>3785.686207</td>\n",
       "      <td>11357.058621</td>\n",
       "      <td>200</td>\n",
       "      <td>0.0</td>\n",
       "      <td>1.000000</td>\n",
       "      <td>1.039870e-02</td>\n",
       "      <td>0.132363</td>\n",
       "    </tr>\n",
       "    <tr>\n",
       "      <th>5430820</th>\n",
       "      <td>C999992</td>\n",
       "      <td>575</td>\n",
       "      <td>1</td>\n",
       "      <td>4134.480000</td>\n",
       "      <td>4134.480000</td>\n",
       "      <td>575</td>\n",
       "      <td>0.0</td>\n",
       "      <td>4.000000</td>\n",
       "      <td>0.000000e+00</td>\n",
       "      <td>0.215826</td>\n",
       "    </tr>\n",
       "    <tr>\n",
       "      <th>5430821</th>\n",
       "      <td>C999994</td>\n",
       "      <td>135</td>\n",
       "      <td>2</td>\n",
       "      <td>5619.051724</td>\n",
       "      <td>11238.103448</td>\n",
       "      <td>148</td>\n",
       "      <td>0.0</td>\n",
       "      <td>1.000000</td>\n",
       "      <td>5.983523e-03</td>\n",
       "      <td>0.099461</td>\n",
       "    </tr>\n",
       "    <tr>\n",
       "      <th>5430822</th>\n",
       "      <td>C999997</td>\n",
       "      <td>637</td>\n",
       "      <td>1</td>\n",
       "      <td>3987.100000</td>\n",
       "      <td>3987.100000</td>\n",
       "      <td>637</td>\n",
       "      <td>0.0</td>\n",
       "      <td>1.000000</td>\n",
       "      <td>0.000000e+00</td>\n",
       "      <td>0.000003</td>\n",
       "    </tr>\n",
       "    <tr>\n",
       "      <th>5430823</th>\n",
       "      <td>C999999</td>\n",
       "      <td>154</td>\n",
       "      <td>1</td>\n",
       "      <td>8619.798276</td>\n",
       "      <td>8619.798276</td>\n",
       "      <td>154</td>\n",
       "      <td>0.0</td>\n",
       "      <td>4.000000</td>\n",
       "      <td>3.898963e-03</td>\n",
       "      <td>0.000000</td>\n",
       "    </tr>\n",
       "  </tbody>\n",
       "</table>\n",
       "<p>5430824 rows × 10 columns</p>\n",
       "</div>"
      ],
      "text/plain": [
       "        Customer_ID  Recency  Frequency  Average_sales   Total_sales  Age  \\\n",
       "0                C1      576          1     128.450000    128.450000  576   \n",
       "1            C10000      630          1    9481.892759   9481.892759  630   \n",
       "2           C100000        4         10    5839.516310  58395.163103  206   \n",
       "3          C1000000        6          7    7309.119409  51163.835862  888   \n",
       "4          C1000002      417          3    1023.338851   3070.016552  529   \n",
       "...             ...      ...        ...            ...           ...  ...   \n",
       "5430819     C999991       40          3    3785.686207  11357.058621  200   \n",
       "5430820     C999992      575          1    4134.480000   4134.480000  575   \n",
       "5430821     C999994      135          2    5619.051724  11238.103448  148   \n",
       "5430822     C999997      637          1    3987.100000   3987.100000  637   \n",
       "5430823     C999999      154          1    8619.798276   8619.798276  154   \n",
       "\n",
       "         Ratio_cancellations  Basket_size  Shipping_ratio  Discount_ratio  \n",
       "0                        0.0     1.000000    0.000000e+00        0.850849  \n",
       "1                        0.0     1.000000    2.909357e-07        0.120010  \n",
       "2                        0.0     1.300000    7.986674e-03        0.283161  \n",
       "3                        0.0     1.285714    2.325194e-03        0.125778  \n",
       "4                        0.0     1.666667    2.134101e-06        0.063630  \n",
       "...                      ...          ...             ...             ...  \n",
       "5430819                  0.0     1.000000    1.039870e-02        0.132363  \n",
       "5430820                  0.0     4.000000    0.000000e+00        0.215826  \n",
       "5430821                  0.0     1.000000    5.983523e-03        0.099461  \n",
       "5430822                  0.0     1.000000    0.000000e+00        0.000003  \n",
       "5430823                  0.0     4.000000    3.898963e-03        0.000000  \n",
       "\n",
       "[5430824 rows x 10 columns]"
      ]
     },
     "execution_count": 8,
     "metadata": {},
     "output_type": "execute_result"
    }
   ],
   "source": [
    "#Imprime un sample de como luce la información. \n",
    "rfm_features"
   ]
  },
  {
   "cell_type": "code",
   "execution_count": 7,
   "metadata": {},
   "outputs": [],
   "source": [
    "#Esta función solo nos funciona para poder asignar la etiqueta \"1\" sobre aquellos clientes que realizaron una compra entre el punto del corte y un mes después. \n",
    "def churn_label(future):\n",
    "    future['DidBuy'] = 1\n",
    "    return future.loc[:,[\"Customer_ID\",\"DidBuy\"]].drop_duplicates()"
   ]
  },
  {
   "cell_type": "markdown",
   "metadata": {},
   "source": [
    "#### Construcción de la base de información para el entrenamiento del modelo. "
   ]
  },
  {
   "cell_type": "markdown",
   "metadata": {},
   "source": [
    "Dentro del siguiente proceso, irémos de manera mensual o mes a mes construyendo las variables de etiqueta de CHunr a través del campo \"DidBuy\" y las demás variables del enfoque RFM.\n",
    "\n",
    "EL propósito de iterar sobre múltiples periodos es para capturar los efectos de temporalidad y estacionalidad que impactan o se reflejan dentro del comportmamiento del cliente. Con esto, realizaríamos un análisis de Churn con múltiples periodos. La frecuencia de análisis se haría de forma mensual y el dataset final es un consolidado con los atributos del RFM y Labels de Chunrn para cada periodo de análisis\n",
    "\n",
    "El periodo de iteración comprende desde Junio 2022 hasta el 2023, por lo que de manera mensual o mes a mes, irémos calculando las etiqutas de Churn y las caracterías del enfoque del RFM."
   ]
  },
  {
   "cell_type": "markdown",
   "metadata": {},
   "source": [
    "Definición de rangos de fechas con 3 Meses"
   ]
  },
  {
   "cell_type": "code",
   "execution_count": 8,
   "metadata": {},
   "outputs": [],
   "source": [
    "start_length = 90\n",
    "label_period_days = 90\n",
    "\n",
    "dset_list = list()\n",
    "#Rules for start measuring this information\n",
    "\n",
    "# We will be predicting customer Churn by Q's, so, the very beggining data for analytis would be Jan 1 of any year. \n",
    "start_date = df_customer.loc[:,[\"Fecha\"]].min() \n",
    "end_date = df_customer.loc[:,[\"Fecha\"]].max() \n",
    "\n",
    "dates = pd.date_range(start=start_date[0], end=end_date[0], freq='Q')\n",
    "#df_customer.Fecha = pd.to_datetime(df_customer.Fecha, format = \"%Y-%m-%d\") "
   ]
  },
  {
   "cell_type": "code",
   "execution_count": 9,
   "metadata": {},
   "outputs": [
    {
     "name": "stdout",
     "output_type": "stream",
     "text": [
      "Computing rfm features for 2021-03-31 00:00:00 to 2021-06-29 00:00:00\n",
      "Computing rfm features for 2021-06-30 00:00:00 to 2021-09-28 00:00:00\n",
      "Computing rfm features for 2021-09-30 00:00:00 to 2021-12-29 00:00:00\n",
      "Computing rfm features for 2021-12-31 00:00:00 to 2022-03-31 00:00:00\n",
      "Computing rfm features for 2022-03-31 00:00:00 to 2022-06-29 00:00:00\n",
      "Computing rfm features for 2022-06-30 00:00:00 to 2022-09-28 00:00:00\n",
      "Computing rfm features for 2022-09-30 00:00:00 to 2022-12-29 00:00:00\n",
      "Computing rfm features for 2022-12-31 00:00:00 to 2023-03-31 00:00:00\n",
      "Computing rfm features for 2023-03-31 00:00:00 to 2023-06-29 00:00:00\n"
     ]
    }
   ],
   "source": [
    "for cut_off in dates:\n",
    "    #observed = df_customer.loc[df_customer.Fecha <= cut_off,:]\n",
    "    future = df_customer.loc[(df_customer.Fecha > cut_off) & (df_customer.Fecha < cut_off + pd.Timedelta(label_period_days, unit='D')),:]\n",
    "\n",
    "    rfm_sdate = cut_off\n",
    "    rfm_edate = cut_off + pd.Timedelta(label_period_days, unit='D')\n",
    "\n",
    "    print(f\"Computing rfm features for {cut_off} to {rfm_edate}\")\n",
    "\n",
    "    #Obtenemos las características RFM de los clientes. \n",
    "    rfm_features = customer_rfm(df_customer, cut_off)\n",
    "    labels = churn_label(future)\n",
    "\n",
    "    dset = pd.merge(left= rfm_features, right=labels, how='outer', left_on=\"Customer_ID\",right_on=\"Customer_ID\").fillna(0)\n",
    "    dset_list.append(dset)\n",
    "\n",
    "#Concatenamos todos los datasets\n",
    "full_dataset = pd.concat(dset_list, axis = 0)\n",
    "res = full_dataset.loc[full_dataset.Recency != 0,:].dropna(axis = 1, how = 'any')"
   ]
  },
  {
   "cell_type": "code",
   "execution_count": 10,
   "metadata": {},
   "outputs": [
    {
     "data": {
      "text/html": [
       "<div>\n",
       "<style scoped>\n",
       "    .dataframe tbody tr th:only-of-type {\n",
       "        vertical-align: middle;\n",
       "    }\n",
       "\n",
       "    .dataframe tbody tr th {\n",
       "        vertical-align: top;\n",
       "    }\n",
       "\n",
       "    .dataframe thead th {\n",
       "        text-align: right;\n",
       "    }\n",
       "</style>\n",
       "<table border=\"1\" class=\"dataframe\">\n",
       "  <thead>\n",
       "    <tr style=\"text-align: right;\">\n",
       "      <th></th>\n",
       "      <th>Customer_ID</th>\n",
       "      <th>Recency</th>\n",
       "      <th>Frequency</th>\n",
       "      <th>Average_sales</th>\n",
       "      <th>Total_sales</th>\n",
       "      <th>Age</th>\n",
       "      <th>Ratio_cancellations</th>\n",
       "      <th>Basket_size</th>\n",
       "      <th>Shipping_ratio</th>\n",
       "      <th>Discount_ratio</th>\n",
       "      <th>DidBuy</th>\n",
       "    </tr>\n",
       "  </thead>\n",
       "  <tbody>\n",
       "    <tr>\n",
       "      <th>0</th>\n",
       "      <td>C1000000</td>\n",
       "      <td>87.0</td>\n",
       "      <td>1.0</td>\n",
       "      <td>1033.610000</td>\n",
       "      <td>1033.610000</td>\n",
       "      <td>87.0</td>\n",
       "      <td>0.0</td>\n",
       "      <td>1.0</td>\n",
       "      <td>0.000000e+00</td>\n",
       "      <td>0.000010</td>\n",
       "      <td>1.0</td>\n",
       "    </tr>\n",
       "    <tr>\n",
       "      <th>1</th>\n",
       "      <td>C1000007</td>\n",
       "      <td>80.0</td>\n",
       "      <td>1.0</td>\n",
       "      <td>11874.120000</td>\n",
       "      <td>11874.120000</td>\n",
       "      <td>80.0</td>\n",
       "      <td>0.0</td>\n",
       "      <td>2.0</td>\n",
       "      <td>1.408441e-02</td>\n",
       "      <td>0.153621</td>\n",
       "      <td>0.0</td>\n",
       "    </tr>\n",
       "    <tr>\n",
       "      <th>2</th>\n",
       "      <td>C1000020</td>\n",
       "      <td>34.0</td>\n",
       "      <td>1.0</td>\n",
       "      <td>6801.710000</td>\n",
       "      <td>6801.710000</td>\n",
       "      <td>34.0</td>\n",
       "      <td>0.0</td>\n",
       "      <td>1.0</td>\n",
       "      <td>0.000000e+00</td>\n",
       "      <td>0.122360</td>\n",
       "      <td>0.0</td>\n",
       "    </tr>\n",
       "    <tr>\n",
       "      <th>3</th>\n",
       "      <td>C1000021</td>\n",
       "      <td>36.0</td>\n",
       "      <td>1.0</td>\n",
       "      <td>4783.623793</td>\n",
       "      <td>4783.623793</td>\n",
       "      <td>36.0</td>\n",
       "      <td>0.0</td>\n",
       "      <td>1.0</td>\n",
       "      <td>7.929351e-07</td>\n",
       "      <td>0.000000</td>\n",
       "      <td>0.0</td>\n",
       "    </tr>\n",
       "    <tr>\n",
       "      <th>4</th>\n",
       "      <td>C1000024</td>\n",
       "      <td>53.0</td>\n",
       "      <td>1.0</td>\n",
       "      <td>654.311034</td>\n",
       "      <td>654.311034</td>\n",
       "      <td>53.0</td>\n",
       "      <td>0.0</td>\n",
       "      <td>1.0</td>\n",
       "      <td>1.581026e-06</td>\n",
       "      <td>0.000000</td>\n",
       "      <td>1.0</td>\n",
       "    </tr>\n",
       "    <tr>\n",
       "      <th>...</th>\n",
       "      <td>...</td>\n",
       "      <td>...</td>\n",
       "      <td>...</td>\n",
       "      <td>...</td>\n",
       "      <td>...</td>\n",
       "      <td>...</td>\n",
       "      <td>...</td>\n",
       "      <td>...</td>\n",
       "      <td>...</td>\n",
       "      <td>...</td>\n",
       "      <td>...</td>\n",
       "    </tr>\n",
       "    <tr>\n",
       "      <th>4990822</th>\n",
       "      <td>C999991</td>\n",
       "      <td>129.0</td>\n",
       "      <td>1.0</td>\n",
       "      <td>4205.340690</td>\n",
       "      <td>4205.340690</td>\n",
       "      <td>129.0</td>\n",
       "      <td>0.0</td>\n",
       "      <td>1.0</td>\n",
       "      <td>7.994760e-03</td>\n",
       "      <td>0.198719</td>\n",
       "      <td>1.0</td>\n",
       "    </tr>\n",
       "    <tr>\n",
       "      <th>4990823</th>\n",
       "      <td>C999992</td>\n",
       "      <td>504.0</td>\n",
       "      <td>1.0</td>\n",
       "      <td>4134.480000</td>\n",
       "      <td>4134.480000</td>\n",
       "      <td>504.0</td>\n",
       "      <td>0.0</td>\n",
       "      <td>4.0</td>\n",
       "      <td>0.000000e+00</td>\n",
       "      <td>0.215826</td>\n",
       "      <td>0.0</td>\n",
       "    </tr>\n",
       "    <tr>\n",
       "      <th>4990824</th>\n",
       "      <td>C999994</td>\n",
       "      <td>64.0</td>\n",
       "      <td>2.0</td>\n",
       "      <td>5619.051724</td>\n",
       "      <td>11238.103448</td>\n",
       "      <td>77.0</td>\n",
       "      <td>0.0</td>\n",
       "      <td>1.0</td>\n",
       "      <td>5.983523e-03</td>\n",
       "      <td>0.099461</td>\n",
       "      <td>0.0</td>\n",
       "    </tr>\n",
       "    <tr>\n",
       "      <th>4990825</th>\n",
       "      <td>C999997</td>\n",
       "      <td>566.0</td>\n",
       "      <td>1.0</td>\n",
       "      <td>3987.100000</td>\n",
       "      <td>3987.100000</td>\n",
       "      <td>566.0</td>\n",
       "      <td>0.0</td>\n",
       "      <td>1.0</td>\n",
       "      <td>0.000000e+00</td>\n",
       "      <td>0.000003</td>\n",
       "      <td>0.0</td>\n",
       "    </tr>\n",
       "    <tr>\n",
       "      <th>4990826</th>\n",
       "      <td>C999999</td>\n",
       "      <td>83.0</td>\n",
       "      <td>1.0</td>\n",
       "      <td>8619.798276</td>\n",
       "      <td>8619.798276</td>\n",
       "      <td>83.0</td>\n",
       "      <td>0.0</td>\n",
       "      <td>4.0</td>\n",
       "      <td>3.898963e-03</td>\n",
       "      <td>0.000000</td>\n",
       "      <td>0.0</td>\n",
       "    </tr>\n",
       "  </tbody>\n",
       "</table>\n",
       "<p>26181433 rows × 11 columns</p>\n",
       "</div>"
      ],
      "text/plain": [
       "        Customer_ID  Recency  Frequency  Average_sales   Total_sales    Age  \\\n",
       "0          C1000000     87.0        1.0    1033.610000   1033.610000   87.0   \n",
       "1          C1000007     80.0        1.0   11874.120000  11874.120000   80.0   \n",
       "2          C1000020     34.0        1.0    6801.710000   6801.710000   34.0   \n",
       "3          C1000021     36.0        1.0    4783.623793   4783.623793   36.0   \n",
       "4          C1000024     53.0        1.0     654.311034    654.311034   53.0   \n",
       "...             ...      ...        ...            ...           ...    ...   \n",
       "4990822     C999991    129.0        1.0    4205.340690   4205.340690  129.0   \n",
       "4990823     C999992    504.0        1.0    4134.480000   4134.480000  504.0   \n",
       "4990824     C999994     64.0        2.0    5619.051724  11238.103448   77.0   \n",
       "4990825     C999997    566.0        1.0    3987.100000   3987.100000  566.0   \n",
       "4990826     C999999     83.0        1.0    8619.798276   8619.798276   83.0   \n",
       "\n",
       "         Ratio_cancellations  Basket_size  Shipping_ratio  Discount_ratio  \\\n",
       "0                        0.0          1.0    0.000000e+00        0.000010   \n",
       "1                        0.0          2.0    1.408441e-02        0.153621   \n",
       "2                        0.0          1.0    0.000000e+00        0.122360   \n",
       "3                        0.0          1.0    7.929351e-07        0.000000   \n",
       "4                        0.0          1.0    1.581026e-06        0.000000   \n",
       "...                      ...          ...             ...             ...   \n",
       "4990822                  0.0          1.0    7.994760e-03        0.198719   \n",
       "4990823                  0.0          4.0    0.000000e+00        0.215826   \n",
       "4990824                  0.0          1.0    5.983523e-03        0.099461   \n",
       "4990825                  0.0          1.0    0.000000e+00        0.000003   \n",
       "4990826                  0.0          4.0    3.898963e-03        0.000000   \n",
       "\n",
       "         DidBuy  \n",
       "0           1.0  \n",
       "1           0.0  \n",
       "2           0.0  \n",
       "3           0.0  \n",
       "4           1.0  \n",
       "...         ...  \n",
       "4990822     1.0  \n",
       "4990823     0.0  \n",
       "4990824     0.0  \n",
       "4990825     0.0  \n",
       "4990826     0.0  \n",
       "\n",
       "[26181433 rows x 11 columns]"
      ]
     },
     "execution_count": 10,
     "metadata": {},
     "output_type": "execute_result"
    }
   ],
   "source": [
    "res"
   ]
  },
  {
   "cell_type": "markdown",
   "metadata": {},
   "source": [
    "## **Entrenamientos de Modelo de Machine Learning**\n"
   ]
  },
  {
   "cell_type": "markdown",
   "metadata": {},
   "source": [
    "Antes de pasar al entrenamiento del modelo de ML, se harán algunos procesos adicionales de tratamiento de información como lo es el uso de MinMaxScaler para escalar los datos entre los rango de 1 y 0.\n",
    "\n",
    "Dado que nuenuestra base de información, en cada una de las variables del enfoque RFM no poseen una distribución normal, se considera usar el procesamiento a través del MinMaxScaler."
   ]
  },
  {
   "cell_type": "markdown",
   "metadata": {},
   "source": [
    "Seperando nuestros datos en conjunto de **entrenamiento**, **test** y aplicación de escalamiento de datos (MinMaxScaler)."
   ]
  },
  {
   "cell_type": "code",
   "execution_count": 10,
   "metadata": {},
   "outputs": [],
   "source": [
    "from sklearn.model_selection import train_test_split\n",
    "from sklearn.preprocessing import MinMaxScaler\n",
    "\n",
    "rec_df = res.sample(frac=1)\n",
    "\n",
    "# Obtenemos la matriz de datos o features y la matriz de respuesta.\n",
    "X = rec_df.loc[:,[\"Recency\",\"Frequency\",\"Average_sales\",\"Age\",\"Ratio_cancellations\",\"Basket_size\",\"Shipping_ratio\",\"Discount_ratio\"]].values\n",
    "y = rec_df.loc[:,[\"DidBuy\"]].values.reshape(-1)\n",
    "\n",
    "#Aplicamos el método fit_transform a través de Min-Max Scaler para  transformar nuestros datos. \n",
    "scaler = MinMaxScaler()\n",
    "X_scale  = scaler.fit_transform(X)\n",
    "\n",
    "test_size = 0.2\n",
    "X_train, X_test, y_train, y_test = train_test_split(X_scale, y, test_size=test_size, random_state=42, shuffle=True)"
   ]
  },
  {
   "cell_type": "markdown",
   "metadata": {},
   "source": [
    "### SMOTE - Atacando el problema de desbalanceo en nuestra base de información. \n",
    "Importante, observemos  lo siguiente:"
   ]
  },
  {
   "cell_type": "code",
   "execution_count": 11,
   "metadata": {},
   "outputs": [
    {
     "data": {
      "text/plain": [
       "0.0    23247981\n",
       "1.0     2933452\n",
       "Name: DidBuy, dtype: int64"
      ]
     },
     "execution_count": 11,
     "metadata": {},
     "output_type": "execute_result"
    }
   ],
   "source": [
    "rec_df.DidBuy.value_counts()"
   ]
  },
  {
   "cell_type": "markdown",
   "metadata": {},
   "source": [
    "Como se observa, alrededor de del 7.8% de las observaciones son aquellos clientes que han realizado una compra en los periodos futuros de observación, mientras que el 92.2% de los cliente no realizaron una compra **(Churn)**\n",
    "\n",
    "La clase minoría en este caso son los **clientes con compra**.\n",
    "La clase mayorista eran los **clientes sin compra** o **clientes con Churn**.\n",
    "\n",
    "Así, tenemos un problema de **clases imbalanceadas**. \n",
    "\n",
    "Para atacar el problmea anterior, usarémos una técnica denominada SMOTE (Synthetic Minotiry Oversampling Technique). Lo que harémos es hacer sampling para tener más registros de la clase minorísta , es decir, de aquellos **clientes con compra**. \n",
    "\n"
   ]
  },
  {
   "cell_type": "code",
   "execution_count": 11,
   "metadata": {},
   "outputs": [],
   "source": [
    "from imblearn.over_sampling import SMOTE\n",
    "\n",
    "oversample = SMOTE()\n",
    "X_train_over, y_train_over = oversample.fit_resample(X_train, y_train)"
   ]
  },
  {
   "cell_type": "code",
   "execution_count": 13,
   "metadata": {},
   "outputs": [
    {
     "data": {
      "text/plain": [
       "0.0    18599576\n",
       "1.0    18599576\n",
       "dtype: int64"
      ]
     },
     "execution_count": 13,
     "metadata": {},
     "output_type": "execute_result"
    }
   ],
   "source": [
    "pd.Series(y_train_over).value_counts()"
   ]
  },
  {
   "cell_type": "markdown",
   "metadata": {},
   "source": [
    "Se realizó un oversampling de la clase minoría para así tratar de arreglar el problema de desbalanceo. \n",
    "\n",
    "Nuestra proporción de clases ahora está 50 - 50."
   ]
  },
  {
   "cell_type": "markdown",
   "metadata": {},
   "source": [
    "### **Entrenamiento del 1er modelo de Machine Learning : BAGGING METHOD - RANDOM FORESTS**"
   ]
  },
  {
   "cell_type": "markdown",
   "metadata": {},
   "source": [
    "En este caso, utilizaremos métodos de ensamblaje para entrenar nuestro modelo de Machine Learning y así entrender cuales son los clientes con mayor riesgo de presentar **Churn.**\n",
    "\n",
    "Este problema es del tipo supervisadO por lo que el Modelo utilizado será el siguiente: **Random Forest**\n",
    "\n",
    "También, se entrenan dos modelos: Una base con el conjunto de información original y otro con SMOTE aplicado. Esto, para reducir el sesgo producido por el problema de desbalanceo.  "
   ]
  },
  {
   "cell_type": "code",
   "execution_count": null,
   "metadata": {},
   "outputs": [],
   "source": [
    "from sklearn.metrics import accuracy_score\n",
    "from sklearn import metrics\n",
    "from sklearn.ensemble import RandomForestClassifier\n",
    "\n",
    "#Entrenamos el modelo sobre la base de información imbalanceada\n",
    "rf = RandomForestClassifier().fit(X_train,y_train)\n",
    "\n",
    "#Entrenamos el modelo sobre la nueva base con la clase minoría con oversampling | SMOTE\n",
    "rf_over = RandomForestClassifier().fit(X_train_over, y_train_over)"
   ]
  },
  {
   "cell_type": "markdown",
   "metadata": {},
   "source": [
    "#### Evaluación del Modelo de clasificación de Random Forests. "
   ]
  },
  {
   "cell_type": "markdown",
   "metadata": {},
   "source": [
    "Accuracy assessment: En base al modelo anterior, harémos las predicciones correspondiente sobre el dataset de muestra y training y así revisar **Accuracy** de clasificiación. "
   ]
  },
  {
   "cell_type": "code",
   "execution_count": 39,
   "metadata": {},
   "outputs": [
    {
     "name": "stdout",
     "output_type": "stream",
     "text": [
      "Accuary datos entrenamiento: 0.9731, Accuracy datos Test: 0.9157, Accuracy test Oversampled: 0.7824\n"
     ]
    }
   ],
   "source": [
    "# Guaradmos los valores reales del conjunto de entrenamiento y  \n",
    "predictions = pd.DataFrame()\n",
    "predictions['true'] = y_train\n",
    "predictions['preds'] = rf.predict(X_train)\n",
    "\n",
    "# Test set\n",
    "predictions_test = pd.DataFrame()\n",
    "predictions_test['true'] = y_test\n",
    "predictions_test['preds'] = rf.predict(X_test)\n",
    "predictions_test['preds_over'] = rf_over.predict(X_test)\n",
    "\n",
    "# Calculamos el accuracy \n",
    "train_acc = accuracy_score(predictions.true, predictions.preds)\n",
    "test_acc = accuracy_score(predictions_test.true, predictions_test.preds)\n",
    "test_acc_over = accuracy_score(predictions_test.true, predictions_test.preds_over)\n",
    "\n",
    "print(f\"Accuary datos entrenamiento: {train_acc:.4f}, Accuracy datos Test: {test_acc:.4f}, Accuracy test Oversampled: {test_acc_over:.4f}\")"
   ]
  },
  {
   "cell_type": "markdown",
   "metadata": {},
   "source": [
    "Cómo se observa, tenemos un alto accuracy de en el dataset de entrenamiento, lo cual nos daría el problema de desbalanceo al tener una clase predominante. En el set de test, vemos un acccuracy de 0.91, mientras que con el conjunto de entrenamiento con SMOTE para atacar el desbalanceo tenemos un accuracy de 0.78%. "
   ]
  },
  {
   "cell_type": "markdown",
   "metadata": {},
   "source": [
    "Matríz de confusión sobre datos sin **oversampling - SMOTE**"
   ]
  },
  {
   "cell_type": "code",
   "execution_count": 40,
   "metadata": {},
   "outputs": [
    {
     "data": {
      "text/plain": [
       "<sklearn.metrics._plot.confusion_matrix.ConfusionMatrixDisplay at 0x2e8c0827108>"
      ]
     },
     "execution_count": 40,
     "metadata": {},
     "output_type": "execute_result"
    },
    {
     "data": {
      "text/plain": [
       "<Figure size 864x288 with 0 Axes>"
      ]
     },
     "metadata": {},
     "output_type": "display_data"
    },
    {
     "data": {
      "image/png": "[encoded data removed]",
      "text/plain": [
       "<Figure size 432x288 with 2 Axes>"
      ]
     },
     "metadata": {
      "needs_background": "light"
     },
     "output_type": "display_data"
    }
   ],
   "source": [
    "# Graficamos una matriz de confusión\n",
    "plt.figure(figsize=(12,4))\n",
    "metrics.plot_confusion_matrix(rf, X_test, y_test, display_labels=['Negative', 'Positive'])"
   ]
  },
  {
   "cell_type": "markdown",
   "metadata": {},
   "source": [
    "Matríz de confusión sobre datos con **oversampling - SMOTE**"
   ]
  },
  {
   "cell_type": "code",
   "execution_count": 41,
   "metadata": {},
   "outputs": [
    {
     "data": {
      "text/plain": [
       "<sklearn.metrics._plot.confusion_matrix.ConfusionMatrixDisplay at 0x2e8bf7584c8>"
      ]
     },
     "execution_count": 41,
     "metadata": {},
     "output_type": "execute_result"
    },
    {
     "data": {
      "text/plain": [
       "<Figure size 864x288 with 0 Axes>"
      ]
     },
     "metadata": {},
     "output_type": "display_data"
    },
    {
     "data": {
      "image/png": "[encoded data removed]",
      "text/plain": [
       "<Figure size 432x288 with 2 Axes>"
      ]
     },
     "metadata": {
      "needs_background": "light"
     },
     "output_type": "display_data"
    }
   ],
   "source": [
    "# Graficamos una matriz de confusión con los datos de oversampling SMOTE\n",
    "plt.figure(figsize=(12,4))\n",
    "metrics.plot_confusion_matrix(rf_over, X_test, y_test, display_labels=['Negative', 'Positive'])"
   ]
  },
  {
   "cell_type": "markdown",
   "metadata": {},
   "source": [
    "Reporte de Precision - Recall - F1 Score | **Datos sin oversampling - SMOTE**\n"
   ]
  },
  {
   "cell_type": "code",
   "execution_count": 42,
   "metadata": {},
   "outputs": [
    {
     "name": "stdout",
     "output_type": "stream",
     "text": [
      "              precision    recall  f1-score   support\n",
      "\n",
      "         0.0       0.93      0.98      0.96    179425\n",
      "         1.0       0.19      0.07      0.10     13373\n",
      "\n",
      "    accuracy                           0.92    192798\n",
      "   macro avg       0.56      0.52      0.53    192798\n",
      "weighted avg       0.88      0.92      0.90    192798\n",
      "\n"
     ]
    }
   ],
   "source": [
    "#Imprimimos todas las métricas en 1 - Sobre base de información sin algoritmo de SMOTE para atacar desbalanceo\n",
    "print(metrics.classification_report(predictions_test.true, predictions_test.preds))"
   ]
  },
  {
   "cell_type": "markdown",
   "metadata": {},
   "source": [
    "Reporte de Precision - Recall - F1 Score | **Datos con oversampling - SMOTE**\n"
   ]
  },
  {
   "cell_type": "code",
   "execution_count": 43,
   "metadata": {},
   "outputs": [
    {
     "name": "stdout",
     "output_type": "stream",
     "text": [
      "              precision    recall  f1-score   support\n",
      "\n",
      "         0.0       0.94      0.82      0.87    179425\n",
      "         1.0       0.12      0.32      0.17     13373\n",
      "\n",
      "    accuracy                           0.78    192798\n",
      "   macro avg       0.53      0.57      0.52    192798\n",
      "weighted avg       0.88      0.78      0.83    192798\n",
      "\n"
     ]
    }
   ],
   "source": [
    "#Imprimimos todas las métricas en 1\n",
    "print(metrics.classification_report(predictions_test.true, predictions_test.preds_over))"
   ]
  },
  {
   "cell_type": "markdown",
   "metadata": {},
   "source": [
    "**Resultados**\n",
    "\n",
    "Dataset sin SMOTE u oversampling:\n",
    "\n",
    "Nuestro precision asciende a 0.92, con lo cual, tenemos buen accuracy de predicción de clases, en este caso, clientes con Churn. Cabe destacar que este alto accuracy se debería al problema de desbalanceo, donde la clase dominante son aquellos clientes de Churn con más del 90%. \n",
    "\n",
    "El F1 score de la clase positiva (clientes que compran o no Churn) es muy bajo , **0.10**, mientras que de la clase negativa (Churn) vemos que es de **0.96**. \n",
    "\n",
    "Por otra parte, vemos que en la base de información con SMOTE aplicado para desbalanceo, nuestro accuracy disminuye hasta **0.78**. El F1 score de la clase positiva aumenta a **0.17** y el de la clase negativa disminuye a **0.87**.\n",
    "\n",
    "Vemos que con el Oversampling, vemos un buen performance en términos de **F1 Score** y **Accuracy**, por lo que tomaremos esta versión de oversampling para aislar el problema de desbalanceo. "
   ]
  },
  {
   "cell_type": "markdown",
   "metadata": {},
   "source": [
    "### **Entrenamiento del 2do modelo de Machine Learning : BOOSTING METHODS - XGBoost**"
   ]
  },
  {
   "cell_type": "code",
   "execution_count": 14,
   "metadata": {},
   "outputs": [],
   "source": [
    "import xgboost as xgb\n",
    "\n",
    "#Entrenamos el modelo sobre la base de información imbalanceada\n",
    "xgb_model =  xgb.XGBClassifier(n_estimators = 100, learning_rate = 0.1, random_state = 42)\n",
    "\n",
    "#We train over the data set that is not oversampled.\n",
    "xgb_model_no = xgb_model.fit(X_train, y_train)\n",
    "\n",
    "#We train over the data set is oversampled.\n",
    "xgb_model_wo = xgb_model.fit(X_train_over, y_train_over)\n"
   ]
  },
  {
   "cell_type": "markdown",
   "metadata": {},
   "source": [
    "#### Evaluación del Modelo de clasificación de XGBoost. "
   ]
  },
  {
   "cell_type": "code",
   "execution_count": 15,
   "metadata": {},
   "outputs": [
    {
     "name": "stdout",
     "output_type": "stream",
     "text": [
      "Accuary datos entrenamiento: 0.8332, Accuracy datos Test: 0.8330, Accuracy test Oversampled: 0.8330\n"
     ]
    }
   ],
   "source": [
    "from sklearn.metrics import accuracy_score\n",
    "from sklearn import metrics\n",
    "\n",
    "# Guaradmos los valores reales del conjunto de entrenamiento y  \n",
    "predictions = pd.DataFrame()\n",
    "predictions['true'] = y_train\n",
    "predictions['preds'] = xgb_model_no.predict(X_train)\n",
    "\n",
    "# Test set\n",
    "predictions_test = pd.DataFrame()\n",
    "predictions_test['true'] = y_test\n",
    "predictions_test['preds'] = xgb_model_no.predict(X_test)\n",
    "predictions_test['preds_over'] = xgb_model_wo.predict(X_test)\n",
    "\n",
    "# Calculamos el accuracy \n",
    "train_acc = accuracy_score(predictions.true, predictions.preds)\n",
    "test_acc = accuracy_score(predictions_test.true, predictions_test.preds)\n",
    "test_acc_over = accuracy_score(predictions_test.true, predictions_test.preds_over)\n",
    "\n",
    "print(f\"Accuary datos entrenamiento: {train_acc:.4f}, Accuracy datos Test: {test_acc:.4f}, Accuracy test Oversampled: {test_acc_over:.4f}\")"
   ]
  },
  {
   "cell_type": "markdown",
   "metadata": {},
   "source": [
    "Matríz de confusión sobre datos **sin oversampling - SMOTE**"
   ]
  },
  {
   "cell_type": "code",
   "execution_count": 16,
   "metadata": {},
   "outputs": [
    {
     "data": {
      "text/plain": [
       "<sklearn.metrics._plot.confusion_matrix.ConfusionMatrixDisplay at 0x13455425488>"
      ]
     },
     "execution_count": 16,
     "metadata": {},
     "output_type": "execute_result"
    },
    {
     "data": {
      "text/plain": [
       "<Figure size 864x288 with 0 Axes>"
      ]
     },
     "metadata": {},
     "output_type": "display_data"
    },
    {
     "data": {
      "image/png": "[encoded data removed]",
      "text/plain": [
       "<Figure size 432x288 with 2 Axes>"
      ]
     },
     "metadata": {
      "needs_background": "light"
     },
     "output_type": "display_data"
    }
   ],
   "source": [
    "# Graficamos una matriz de confusión\n",
    "plt.figure(figsize=(12,4))\n",
    "metrics.plot_confusion_matrix(xgb_model_no, X_test, y_test, display_labels=['Negative', 'Positive'])"
   ]
  },
  {
   "cell_type": "markdown",
   "metadata": {},
   "source": [
    "Matríz de confusión sobre datos **con oversampling - SMOTE**"
   ]
  },
  {
   "cell_type": "code",
   "execution_count": 17,
   "metadata": {},
   "outputs": [
    {
     "data": {
      "text/plain": [
       "<sklearn.metrics._plot.confusion_matrix.ConfusionMatrixDisplay at 0x1345432c888>"
      ]
     },
     "execution_count": 17,
     "metadata": {},
     "output_type": "execute_result"
    },
    {
     "data": {
      "text/plain": [
       "<Figure size 864x288 with 0 Axes>"
      ]
     },
     "metadata": {},
     "output_type": "display_data"
    },
    {
     "data": {
      "image/png": "[encoded data removed]",
      "text/plain": [
       "<Figure size 432x288 with 2 Axes>"
      ]
     },
     "metadata": {
      "needs_background": "light"
     },
     "output_type": "display_data"
    }
   ],
   "source": [
    "# Graficamos una matriz de confusión\n",
    "plt.figure(figsize=(12,4))\n",
    "metrics.plot_confusion_matrix(xgb_model_wo, X_test, y_test, display_labels=['Negative', 'Positive'])"
   ]
  },
  {
   "cell_type": "markdown",
   "metadata": {},
   "source": [
    "Matríz de confusión sobre datos sin **oversampling - SMOTE**"
   ]
  },
  {
   "cell_type": "code",
   "execution_count": 18,
   "metadata": {},
   "outputs": [
    {
     "name": "stdout",
     "output_type": "stream",
     "text": [
      "              precision    recall  f1-score   support\n",
      "\n",
      "         0.0       0.91      0.90      0.91   4648405\n",
      "         1.0       0.27      0.29      0.28    587882\n",
      "\n",
      "    accuracy                           0.83   5236287\n",
      "   macro avg       0.59      0.59      0.59   5236287\n",
      "weighted avg       0.84      0.83      0.84   5236287\n",
      "\n"
     ]
    }
   ],
   "source": [
    "#Imprimimos todas las métricas en 1 - Sobre base de información sin algoritmo de SMOTE para atacar desbalanceo\n",
    "print(metrics.classification_report(predictions_test.true, predictions_test.preds))"
   ]
  },
  {
   "cell_type": "markdown",
   "metadata": {},
   "source": [
    "Matríz de confusión sobre datos con **oversampling - SMOTE**"
   ]
  },
  {
   "cell_type": "code",
   "execution_count": 19,
   "metadata": {},
   "outputs": [
    {
     "name": "stdout",
     "output_type": "stream",
     "text": [
      "              precision    recall  f1-score   support\n",
      "\n",
      "         0.0       0.91      0.90      0.91   4648405\n",
      "         1.0       0.27      0.29      0.28    587882\n",
      "\n",
      "    accuracy                           0.83   5236287\n",
      "   macro avg       0.59      0.59      0.59   5236287\n",
      "weighted avg       0.84      0.83      0.84   5236287\n",
      "\n"
     ]
    }
   ],
   "source": [
    "#Imprimimos todas las métricas en 1 - Sobre base de información sin algoritmo de SMOTE para atacar desbalanceo\n",
    "print(metrics.classification_report(predictions_test.true, predictions_test.preds_over))"
   ]
  },
  {
   "cell_type": "markdown",
   "metadata": {},
   "source": [
    "**Resultados**\n",
    "\n",
    "Dataset sin SMOTE u oversampling:\n",
    "\n",
    "Nuestro precision asciende a 0.91, con lo cual, tenemos buen accuracy de predicción de clases, en este caso, clientes con Churn. Cabe destacar que este alto accuracy se debería al problema de desbalanceo, donde la clase dominante son aquellos clientes de Churn con más del 90%. \n",
    "\n",
    "El F1 score de la clase positiva (clientes que compran o no Churn) es muy bajo , **0.28**, mientras que de la clase negativa (Churn) vemos que es de **0.91**. \n",
    "\n",
    "Por otra parte, vemos que tenemos un performance similar si usamos la **técnica de oversampling SMOTE**. Tenemos los mismos accuracy de 0.91 así como un F1 score de clase negativa de 0.91 y de clase positiva de 0.28. \n",
    "\n",
    "Por otra parte, sí se observa una mejora en el F1 Score de la clase positiva **1** o de la clase de clientes que sí realizamos una compración directa con el modelo de **Random Forests**.\n"
   ]
  },
  {
   "cell_type": "markdown",
   "metadata": {},
   "source": [
    "### **Entrenamiento del 3er modelo de Machine Learning : LOGISTIC REGRESSION**"
   ]
  },
  {
   "cell_type": "markdown",
   "metadata": {},
   "source": [
    "Para este caso, utilizarémos un modelo de **regresión logística** para comparar el performance de dicho modelo con aquellos del tipo Bagging como Random Forests o del tipo Boosting como **XGboost**. "
   ]
  },
  {
   "cell_type": "markdown",
   "metadata": {},
   "source": [
    "Se entrenarán dichos modelos sobre la base total y la base desbalanceada. Para la evaluación mediremos Precision, Recall y F1 score de las clases positivas y negativas así como el gráfico de una matriz de confusión. "
   ]
  },
  {
   "cell_type": "code",
   "execution_count": 29,
   "metadata": {},
   "outputs": [
    {
     "data": {
      "text/plain": [
       "LogisticRegression()"
      ]
     },
     "execution_count": 29,
     "metadata": {},
     "output_type": "execute_result"
    }
   ],
   "source": [
    "from sklearn.linear_model import LogisticRegression\n",
    "from sklearn.metrics import accuracy_score\n",
    "from sklearn import metrics\n",
    "\n",
    "#Entrenamos nuestro modelo dentro de la información\n",
    "logistic_reg = LogisticRegression(solver = 'lbfgs')\n",
    "logistic_reg.fit(X_train, y_train)\n",
    "\n",
    "logistic_reg_smote = LogisticRegression(solver='lbfgs')\n",
    "logistic_reg_smote.fit(X_train_over,y_train_over)\n"
   ]
  },
  {
   "cell_type": "markdown",
   "metadata": {},
   "source": [
    "Evaluación del modelo de clasificación de **\"Logistic Regression\"**"
   ]
  },
  {
   "cell_type": "code",
   "execution_count": 30,
   "metadata": {},
   "outputs": [
    {
     "name": "stdout",
     "output_type": "stream",
     "text": [
      "Accuary datos entrenamiento: 0.8898, Accuracy datos Test: 0.8897, Accuracy test Oversampled: 0.6870\n"
     ]
    }
   ],
   "source": [
    "# Guaradmos los valores reales del conjunto de entrenamiento y  \n",
    "predictions = pd.DataFrame()\n",
    "predictions['true'] = y_train\n",
    "predictions['preds'] = logistic_reg.predict(X_train)\n",
    "\n",
    "# Test set\n",
    "predictions_test = pd.DataFrame()\n",
    "predictions_test['true'] = y_test\n",
    "predictions_test['preds'] = logistic_reg.predict(X_test)\n",
    "predictions_test['preds_over'] = logistic_reg_smote.predict(X_test)\n",
    "\n",
    "# Calculamos el accuracy \n",
    "train_acc = accuracy_score(predictions.true, predictions.preds)\n",
    "test_acc = accuracy_score(predictions_test.true, predictions_test.preds)\n",
    "test_acc_over = accuracy_score(predictions_test.true, predictions_test.preds_over)\n",
    "\n",
    "print(f\"Accuary datos entrenamiento: {train_acc:.4f}, Accuracy datos Test: {test_acc:.4f}, Accuracy test Oversampled: {test_acc_over:.4f}\")"
   ]
  },
  {
   "cell_type": "markdown",
   "metadata": {},
   "source": [
    "Matríz de confusión sobre datos sin **oversampling - SMOTE**"
   ]
  },
  {
   "cell_type": "code",
   "execution_count": 31,
   "metadata": {},
   "outputs": [
    {
     "data": {
      "text/plain": [
       "<sklearn.metrics._plot.confusion_matrix.ConfusionMatrixDisplay at 0x1f1542f5208>"
      ]
     },
     "execution_count": 31,
     "metadata": {},
     "output_type": "execute_result"
    },
    {
     "data": {
      "text/plain": [
       "<Figure size 864x288 with 0 Axes>"
      ]
     },
     "metadata": {},
     "output_type": "display_data"
    },
    {
     "data": {
      "image/png": "[encoded data removed]",
      "text/plain": [
       "<Figure size 432x288 with 2 Axes>"
      ]
     },
     "metadata": {
      "needs_background": "light"
     },
     "output_type": "display_data"
    }
   ],
   "source": [
    "plt.figure(figsize=(12,4))\n",
    "metrics.plot_confusion_matrix(logistic_reg, X_test, y_test, display_labels=['Negative', 'Positive'])"
   ]
  },
  {
   "cell_type": "markdown",
   "metadata": {},
   "source": [
    "Matríz de confusión sobre datos con **oversampling - SMOTE**"
   ]
  },
  {
   "cell_type": "code",
   "execution_count": 32,
   "metadata": {},
   "outputs": [
    {
     "data": {
      "text/plain": [
       "<sklearn.metrics._plot.confusion_matrix.ConfusionMatrixDisplay at 0x1f154203148>"
      ]
     },
     "execution_count": 32,
     "metadata": {},
     "output_type": "execute_result"
    },
    {
     "data": {
      "text/plain": [
       "<Figure size 864x288 with 0 Axes>"
      ]
     },
     "metadata": {},
     "output_type": "display_data"
    },
    {
     "data": {
      "image/png": "[encoded data removed]",
      "text/plain": [
       "<Figure size 432x288 with 2 Axes>"
      ]
     },
     "metadata": {
      "needs_background": "light"
     },
     "output_type": "display_data"
    }
   ],
   "source": [
    "plt.figure(figsize=(12,4))\n",
    "metrics.plot_confusion_matrix(logistic_reg_smote, X_test, y_test, display_labels=['Negative', 'Positive'])"
   ]
  },
  {
   "cell_type": "markdown",
   "metadata": {},
   "source": [
    "Reporte de Precision - Recall - F1 Score | **Datos sin oversampling - SMOTE**"
   ]
  },
  {
   "cell_type": "code",
   "execution_count": 33,
   "metadata": {},
   "outputs": [
    {
     "name": "stdout",
     "output_type": "stream",
     "text": [
      "              precision    recall  f1-score   support\n",
      "\n",
      "         0.0       0.89      1.00      0.94   4649249\n",
      "         1.0       0.62      0.04      0.08    587038\n",
      "\n",
      "    accuracy                           0.89   5236287\n",
      "   macro avg       0.75      0.52      0.51   5236287\n",
      "weighted avg       0.86      0.89      0.84   5236287\n",
      "\n"
     ]
    }
   ],
   "source": [
    "#Imprimimos todas las métricas en 1 - Sobre base de información sin algoritmo de SMOTE para atacar desbalanceo\n",
    "print(metrics.classification_report(predictions_test.true, predictions_test.preds))"
   ]
  },
  {
   "cell_type": "markdown",
   "metadata": {},
   "source": [
    "Reporte de Precision - Recall - F1 Score | **Datos con oversampling - SMOTE**"
   ]
  },
  {
   "cell_type": "code",
   "execution_count": 34,
   "metadata": {},
   "outputs": [
    {
     "name": "stdout",
     "output_type": "stream",
     "text": [
      "              precision    recall  f1-score   support\n",
      "\n",
      "         0.0       0.94      0.69      0.80   4649249\n",
      "         1.0       0.21      0.63      0.31    587038\n",
      "\n",
      "    accuracy                           0.69   5236287\n",
      "   macro avg       0.57      0.66      0.55   5236287\n",
      "weighted avg       0.86      0.69      0.74   5236287\n",
      "\n"
     ]
    }
   ],
   "source": [
    "#Imprimimos todas las métricas en 1\n",
    "print(metrics.classification_report(predictions_test.true, predictions_test.preds_over))"
   ]
  },
  {
   "cell_type": "markdown",
   "metadata": {},
   "source": [
    "**Resultados**\n",
    "\n",
    "Dataset sin **SMOTE u oversampling**:\n",
    "\n",
    "Vemos que el accuracy del test set y el training set sin oversampling es de 0.88, mientras que con el oversampling | SMOTE el accuracy baja a 0.68.\n",
    "\n",
    "**Sin SMOTE | Oversampling:**\n",
    "El F1 score de la clase positiva (clientes que compran o no Churn) es muy bajo , **0.08**, mientras que de la clase negativa (Churn) vemos que es de **0.94**. Vemos que la capacidad del modelo por predecir la clase positiva es óptima por el bajo grado de F1 Score. \n",
    "\n",
    "Por otra parte, vemos que tenemos un performance igual si usamos la **técnica de oversampling SMOTE**. Tenemos los mismos accuracy de 0.69 así como un F1 score de clase negativa de 0.31 y de clase positiva de 0.8. Por otra parte, vemos que el performance del F1 score sobre la clase positiva aumenta de **0.08** a **0.31**. Se mejora el performance de predicción sobre esta clase con el uso de SMOTE a **costa de bajar el accuracy**."
   ]
  },
  {
   "cell_type": "markdown",
   "metadata": {},
   "source": [
    "### **Conclusión de entrenamiento de modelos de ML y selección de Modelo**"
   ]
  },
  {
   "cell_type": "markdown",
   "metadata": {},
   "source": [
    "**Conclusión de entrenamiento de modelos:**\n",
    "\n",
    "Estos datos solo consideran el algoritmo con **Oversampling | SMOTE**\n",
    "\n",
    "**Random Forests**:\n",
    "\n",
    "- Accuracy test: 0.78\n",
    "- F1 Clase positiva: 0.17\n",
    "- F1 Clase negativa: 0.87\n",
    "- Precision Clase positiva: 0.12\n",
    "- Precision Clase negativa: 0.94\n",
    "- Recall Clase positiva: 0.32\n",
    "- Recall Clase negativa: 0.82\n",
    "\n",
    "**XGBoost**:\n",
    "\n",
    "- Accuracy test: 0.83\n",
    "- F1 Clase positiva: 0.28\n",
    "- F1 Clase negativa: 0.91\n",
    "- Precision Clase positiva: 0.27\n",
    "- Precision Clase negativa: 0.91\n",
    "- Recall Clase positiva: 0.29\n",
    "- Recall Clase negativa: 0.90\n",
    "\n",
    "**Logistic Regression**:\n",
    "\n",
    "- Accuracy test: 0.69\n",
    "- F1 Clase positiva: 0.31\n",
    "- F1 Clase negativa: 0.80\n",
    "- Precision Clase positiva: 0.21\n",
    "- Precision Clase negativa: 0.94\n",
    "- Recall Clase positiva: 0.63\n",
    "- Recall Clase negativa: 0.69\n",
    "\n",
    "**Conclusiones**: \n",
    "\n",
    "En términos de accuracy, el modelo de regresión Logística tiene **el menor performance**, **0.69**. Por otra parte, el modelo XGBoost es quien mejor performance tiene considerando dicha métrica, con un valor de 0.83. \n",
    "\n",
    "Por otra parte, cabe destacar que el modelo de regresión Logística tiene un **F1 Score de clase positiva de 0.31**, 3 puntos porcentuales más que  XGBoost, por lo que **Logistic regression** tendría mejor capacidad de predecir las clases positivas. En cuanto a la clase negativa, **XGBoost** tendría un mejor performance de predicción respecto a esta clase\n",
    "\n",
    "En términos de precision de clase positiva, **XGboost tiene un mejor indicador con 0.27** en comparación con Random Forests y XGboost. Para la clase negativa,los tres modelos tienen números muy similares, **0.94 para regresión y logística y Random Forest, mientras que 0.91 para XGboost**.\n",
    "\n",
    "En cuanto a recall de clase positiva, regresión logística presenta un mejor performance de hasta **2x en comparación con XGboost y Logistic Regression**. En relación a la clase negativa, **Logistic Regression** presenta el menor del performance contra **XGBoost y Random Forests (0.69 vs 0.90 y 0.82 respectivamente)**.\n",
    "\n",
    "Con lo anterior, vemos que XGboost presenta el mejor performance en términos generales contra los demás modelos de Bagging (Random Forests) o Regresión Logística. Presenta un mejor accuracy, de 0.83; el F1 Score y su capacidad de manejar las predicciones de la clase positiva es mejor que Random Forest y similar en Logistic Regressioon. La clase negativa también tiene el mejor performance. Con esto, **seleccionamos el modelo de XGBoost para nuestro algoritmo de predicción de Churn**.\n",
    "\n"
   ]
  },
  {
   "cell_type": "markdown",
   "metadata": {},
   "source": [
    "### **Feature extraction: Reducción de dimensionalidad**"
   ]
  },
  {
   "cell_type": "markdown",
   "metadata": {},
   "source": [
    "Dentro del proceso de feature engineering, en el pasado, tuvimos la oportunidad de utilizar **Backward and Forward elimination** para seleccionar las variables más relevantes dentro de nuestro modelo de Machine Learning a través de la métrica de F1 Score. Este método formó parte del proceso de **\"Feature Selection\"** del tipo **\"Wrapper methods\"**.\n",
    "\n",
    "En la siguiente sección, utilizaremos un modelo Basado en **Feature Extraction**, el cual, extrae variables relevantes como una combinación lineal de las variables originales con menor número de dimensiones. **El método a utilizar será PCA**. "
   ]
  },
  {
   "cell_type": "markdown",
   "metadata": {},
   "source": [
    "En la siguiente sección, utilizaremos el modelo seleccionado en la sección anterior denominado **XGBoost** para entrenar nuestro modelo de machine learning con variables procesadas a través de **PCA**. Para este caso particular, utilizaremos los datos sin **OVERSAMPLING - SMOTE** para aplicar la técnica de reducción de dimensionalidad.  "
   ]
  },
  {
   "cell_type": "code",
   "execution_count": 13,
   "metadata": {},
   "outputs": [],
   "source": [
    "from sklearn.decomposition import PCA\n",
    "\n",
    "pca = PCA()\n",
    "X_train_pca = pca.fit_transform(X_train)\n",
    "X_test_pca = pca.transform(X_test)"
   ]
  },
  {
   "cell_type": "markdown",
   "metadata": {},
   "source": [
    "Análisis de la varianza explicada para cada componente. "
   ]
  },
  {
   "cell_type": "code",
   "execution_count": 14,
   "metadata": {},
   "outputs": [
    {
     "data": {
      "text/plain": [
       "array([6.53005472e-01, 1.53514893e-01, 1.03007667e-01, 8.41313046e-02,\n",
       "       5.52523427e-03, 6.10655012e-04, 1.68298537e-04, 3.64757637e-05])"
      ]
     },
     "execution_count": 14,
     "metadata": {},
     "output_type": "execute_result"
    }
   ],
   "source": [
    "#Análisis de la varianza explicada para cada componente\n",
    "explained_variance = pca.explained_variance_ratio_\n",
    "explained_variance"
   ]
  },
  {
   "cell_type": "markdown",
   "metadata": {},
   "source": [
    "**Insight**: De la matriz de exploración de la explicación de varianza, vemos que los **primeros dos componentes**, en conjunto, explican alrededor del **80% de la varianza del conjunto de datos original**.\n",
    "\n",
    "El tercero **explica un 10% de la varianza**, el cuarto componente explica solo **8%** y así consecutivamente. "
   ]
  },
  {
   "cell_type": "markdown",
   "metadata": {},
   "source": [
    "### **Entrenamiento del modelo de Machine Learning (XGBoost) con las componentes principales**\n",
    "\n"
   ]
  },
  {
   "cell_type": "markdown",
   "metadata": {},
   "source": [
    "Dentro del modelo de ML, utilizaremos el modelo XGBoost para entrenar nuestro modelo con solo **dos componentes principales del PCA**, los cuales, agruparían el 80% de la varianza del data set original.\n",
    "\n",
    "Cabe remarcar que para este ejercicio usaremos la información **sin oversampling con SMOTE**."
   ]
  },
  {
   "cell_type": "code",
   "execution_count": 15,
   "metadata": {},
   "outputs": [],
   "source": [
    "import xgboost as xgb\n",
    "from sklearn.decomposition import PCA\n",
    "from sklearn.metrics import accuracy_score\n",
    "from sklearn import metrics\n",
    "\n",
    "\n",
    "#Obtenemos solo los dos principales componentes\n",
    "pca = PCA(n_components=2)\n",
    "X_train_pca = pca.fit_transform(X_train)\n",
    "X_test_pca = pca.transform(X_test)\n",
    "\n",
    "#Entrenamos el modelo sobre la base de información imbalanceada\n",
    "xgb_model =  xgb.XGBClassifier(learning_rate = 0.1, random_state = 42)\n",
    "\n",
    "#We train over the data set that is not oversampled.\n",
    "xgb_model_no = xgb_model.fit(X_train_pca, y_train)\n"
   ]
  },
  {
   "cell_type": "markdown",
   "metadata": {},
   "source": [
    "Evaluación del modelo de clasifiación XGBoost con las nuevas variables del PCA."
   ]
  },
  {
   "cell_type": "code",
   "execution_count": 16,
   "metadata": {},
   "outputs": [
    {
     "name": "stdout",
     "output_type": "stream",
     "text": [
      "Accuary datos entrenamiento: 0.8883, Accuracy datos Test: 0.8881\n"
     ]
    }
   ],
   "source": [
    "# Guardamos los valores reales del conjunto de entrenamiento y  \n",
    "predictions = pd.DataFrame()\n",
    "predictions['true'] = y_train\n",
    "predictions['preds'] = xgb_model_no.predict(X_train_pca)\n",
    "\n",
    "# Test set\n",
    "predictions_test = pd.DataFrame()\n",
    "predictions_test['true'] = y_test\n",
    "predictions_test['preds'] = xgb_model_no.predict(X_test_pca)\n",
    "\n",
    "# Calculamos el accuracy \n",
    "train_acc = accuracy_score(predictions.true, predictions.preds)\n",
    "test_acc = accuracy_score(predictions_test.true, predictions_test.preds)\n",
    "\n",
    "print(f\"Accuary datos entrenamiento: {train_acc:.4f}, Accuracy datos Test: {test_acc:.4f}\")"
   ]
  },
  {
   "cell_type": "markdown",
   "metadata": {},
   "source": [
    "Matriz de confusión"
   ]
  },
  {
   "cell_type": "code",
   "execution_count": 17,
   "metadata": {},
   "outputs": [
    {
     "data": {
      "text/plain": [
       "<sklearn.metrics._plot.confusion_matrix.ConfusionMatrixDisplay at 0x228c6bb0f48>"
      ]
     },
     "execution_count": 17,
     "metadata": {},
     "output_type": "execute_result"
    },
    {
     "data": {
      "text/plain": [
       "<Figure size 864x288 with 0 Axes>"
      ]
     },
     "metadata": {},
     "output_type": "display_data"
    },
    {
     "data": {
      "image/png": "[encoded data removed]",
      "text/plain": [
       "<Figure size 432x288 with 2 Axes>"
      ]
     },
     "metadata": {
      "needs_background": "light"
     },
     "output_type": "display_data"
    }
   ],
   "source": [
    "# Graficamos una matriz de confusión\n",
    "plt.figure(figsize=(12,4))\n",
    "metrics.plot_confusion_matrix(xgb_model_no, X_test_pca, y_test, display_labels=['Negative', 'Positive'])"
   ]
  },
  {
   "cell_type": "markdown",
   "metadata": {},
   "source": [
    "Reporte de Precision - Recall - F1 Score | **Datos sin oversampling - SMOTE**"
   ]
  },
  {
   "cell_type": "code",
   "execution_count": 18,
   "metadata": {},
   "outputs": [
    {
     "name": "stdout",
     "output_type": "stream",
     "text": [
      "              precision    recall  f1-score   support\n",
      "\n",
      "         0.0       0.89      1.00      0.94   4648506\n",
      "         1.0       0.57      0.01      0.02    587781\n",
      "\n",
      "    accuracy                           0.89   5236287\n",
      "   macro avg       0.73      0.51      0.48   5236287\n",
      "weighted avg       0.85      0.89      0.84   5236287\n",
      "\n"
     ]
    }
   ],
   "source": [
    "#Imprimimos todas las métricas en 1 - Sobre base de información sin algoritmo de SMOTE para atacar desbalanceo\n",
    "print(metrics.classification_report(predictions_test.true, predictions_test.preds))"
   ]
  },
  {
   "cell_type": "markdown",
   "metadata": {},
   "source": [
    "**Insight**: Información sobre el data set test\n",
    "\n",
    "**Modelo de XGBoost sin PCA:**\n",
    "\n",
    "Accuracy: 0.88\n",
    "\n",
    "- F1 Score positivo:0.28\n",
    "- F1 Score negativo:0.91\n",
    "\n",
    "- Precision positivo:0.27\n",
    "- Precision negativo:0.91\n",
    "\n",
    "- Recall positivo:0.29\n",
    "- Recall negativo:0.90\n",
    "\n",
    "**Modelo de XGBoost con PCA:**\n",
    "\n",
    "Accuracy:0.89\n",
    "\n",
    "- F1 Score positivo: 0.02\n",
    "- F1 Score negativo: 0.94\n",
    "\n",
    "- Precision positivo: 0.57\n",
    "- Precision negativo:0.89\n",
    "\n",
    "- Recall positivo: 0.01\n",
    "- Recall negativo: 1.0\n",
    "\n",
    "En general, en ambos escenarios del entrenamiento del modelo con PCA y no PCA, observamos un accuracy similar o casi igual del 0.89.\n",
    "\n",
    "Sin embargo, me gustaría observar más de cerca los indicadores F1 Scores, donde tenemos una **dimisniución significativa de la predicción de la clase positiva**, **sin PCA teníamos 0.28, ahora con PCA, 0.02**. Esto es importante destacar y de atacar en futuros pasos de cara a la liberación de un modelo productivo.\n",
    "\n",
    "Un path-to-follow es realizar este mismo ejercicio de utilizar PCA pero con la implementación de SMOTE."
   ]
  }
 ],
 "metadata": {
  "kernelspec": {
   "display_name": "Python 3",
   "language": "python",
   "name": "python3"
  },
  "language_info": {
   "codemirror_mode": {
    "name": "ipython",
    "version": 3
   },
   "file_extension": ".py",
   "mimetype": "text/x-python",
   "name": "python",
   "nbconvert_exporter": "python",
   "pygments_lexer": "ipython3",
   "version": "3.7.9"
  },
  "orig_nbformat": 4
 },
 "nbformat": 4,
 "nbformat_minor": 2
}
